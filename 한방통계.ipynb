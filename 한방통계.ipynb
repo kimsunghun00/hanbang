{
 "cells": [
  {
   "cell_type": "markdown",
   "metadata": {},
   "source": [
    "# Load Data"
   ]
  },
  {
   "cell_type": "code",
   "execution_count": 1,
   "metadata": {},
   "outputs": [
    {
     "data": {
      "text/html": [
       "<div>\n",
       "<style scoped>\n",
       "    .dataframe tbody tr th:only-of-type {\n",
       "        vertical-align: middle;\n",
       "    }\n",
       "\n",
       "    .dataframe tbody tr th {\n",
       "        vertical-align: top;\n",
       "    }\n",
       "\n",
       "    .dataframe thead th {\n",
       "        text-align: right;\n",
       "    }\n",
       "</style>\n",
       "<table border=\"1\" class=\"dataframe\">\n",
       "  <thead>\n",
       "    <tr style=\"text-align: right;\">\n",
       "      <th></th>\n",
       "      <th>SEX</th>\n",
       "      <th>AGE</th>\n",
       "      <th>JOB</th>\n",
       "      <th>EDUCATION</th>\n",
       "      <th>MARRIAGE</th>\n",
       "      <th>DRINK</th>\n",
       "      <th>SMOKE</th>\n",
       "      <th>CHARACTER1</th>\n",
       "      <th>CHARACTER2</th>\n",
       "      <th>CHARACTER3</th>\n",
       "      <th>...</th>\n",
       "      <th>BODYMEAS_8HAND6</th>\n",
       "      <th>BODYMEAS_8HAND7</th>\n",
       "      <th>BODYMEAS_8HAND8</th>\n",
       "      <th>SYSTOLICBP</th>\n",
       "      <th>DIASTOLICBP</th>\n",
       "      <th>GLUCOSE</th>\n",
       "      <th>T_CHOL</th>\n",
       "      <th>TG</th>\n",
       "      <th>HDL_CHOL</th>\n",
       "      <th>LDL_CHOL</th>\n",
       "    </tr>\n",
       "    <tr>\n",
       "      <th>ID</th>\n",
       "      <th></th>\n",
       "      <th></th>\n",
       "      <th></th>\n",
       "      <th></th>\n",
       "      <th></th>\n",
       "      <th></th>\n",
       "      <th></th>\n",
       "      <th></th>\n",
       "      <th></th>\n",
       "      <th></th>\n",
       "      <th></th>\n",
       "      <th></th>\n",
       "      <th></th>\n",
       "      <th></th>\n",
       "      <th></th>\n",
       "      <th></th>\n",
       "      <th></th>\n",
       "      <th></th>\n",
       "      <th></th>\n",
       "      <th></th>\n",
       "      <th></th>\n",
       "    </tr>\n",
       "  </thead>\n",
       "  <tbody>\n",
       "    <tr>\n",
       "      <th>KDCT00001</th>\n",
       "      <td>2</td>\n",
       "      <td>48.666</td>\n",
       "      <td>2</td>\n",
       "      <td>5</td>\n",
       "      <td>2</td>\n",
       "      <td>999</td>\n",
       "      <td>999</td>\n",
       "      <td>2</td>\n",
       "      <td>2</td>\n",
       "      <td>1</td>\n",
       "      <td>...</td>\n",
       "      <td>82.0</td>\n",
       "      <td>91.0</td>\n",
       "      <td>96.0</td>\n",
       "      <td>120</td>\n",
       "      <td>80</td>\n",
       "      <td>104</td>\n",
       "      <td>219</td>\n",
       "      <td>72</td>\n",
       "      <td>60</td>\n",
       "      <td>128</td>\n",
       "    </tr>\n",
       "    <tr>\n",
       "      <th>KDCT00002</th>\n",
       "      <td>2</td>\n",
       "      <td>80.773</td>\n",
       "      <td>14</td>\n",
       "      <td>3</td>\n",
       "      <td>2</td>\n",
       "      <td>999</td>\n",
       "      <td>999</td>\n",
       "      <td>1</td>\n",
       "      <td>1</td>\n",
       "      <td>1</td>\n",
       "      <td>...</td>\n",
       "      <td>92.0</td>\n",
       "      <td>96.0</td>\n",
       "      <td>99.0</td>\n",
       "      <td>124</td>\n",
       "      <td>65</td>\n",
       "      <td>110</td>\n",
       "      <td>199</td>\n",
       "      <td>97</td>\n",
       "      <td>46</td>\n",
       "      <td>114</td>\n",
       "    </tr>\n",
       "    <tr>\n",
       "      <th>KDCT00003</th>\n",
       "      <td>1</td>\n",
       "      <td>50.008</td>\n",
       "      <td>3</td>\n",
       "      <td>3</td>\n",
       "      <td>2</td>\n",
       "      <td>999</td>\n",
       "      <td>999</td>\n",
       "      <td>3</td>\n",
       "      <td>1</td>\n",
       "      <td>1</td>\n",
       "      <td>...</td>\n",
       "      <td>80.0</td>\n",
       "      <td>81.0</td>\n",
       "      <td>81.0</td>\n",
       "      <td>121</td>\n",
       "      <td>75</td>\n",
       "      <td>79</td>\n",
       "      <td>216</td>\n",
       "      <td>88</td>\n",
       "      <td>49</td>\n",
       "      <td>132</td>\n",
       "    </tr>\n",
       "    <tr>\n",
       "      <th>KDCT00004</th>\n",
       "      <td>2</td>\n",
       "      <td>50.551</td>\n",
       "      <td>14</td>\n",
       "      <td>4</td>\n",
       "      <td>2</td>\n",
       "      <td>999</td>\n",
       "      <td>999</td>\n",
       "      <td>1</td>\n",
       "      <td>1</td>\n",
       "      <td>1</td>\n",
       "      <td>...</td>\n",
       "      <td>91.0</td>\n",
       "      <td>94.0</td>\n",
       "      <td>99.0</td>\n",
       "      <td>113</td>\n",
       "      <td>81</td>\n",
       "      <td>100</td>\n",
       "      <td>218</td>\n",
       "      <td>136</td>\n",
       "      <td>44</td>\n",
       "      <td>136</td>\n",
       "    </tr>\n",
       "    <tr>\n",
       "      <th>KDCT00005</th>\n",
       "      <td>1</td>\n",
       "      <td>49.581</td>\n",
       "      <td>8</td>\n",
       "      <td>2</td>\n",
       "      <td>2</td>\n",
       "      <td>999</td>\n",
       "      <td>999</td>\n",
       "      <td>3</td>\n",
       "      <td>2</td>\n",
       "      <td>3</td>\n",
       "      <td>...</td>\n",
       "      <td>98.0</td>\n",
       "      <td>98.0</td>\n",
       "      <td>100.0</td>\n",
       "      <td>129</td>\n",
       "      <td>72</td>\n",
       "      <td>92</td>\n",
       "      <td>186</td>\n",
       "      <td>61</td>\n",
       "      <td>33</td>\n",
       "      <td>118</td>\n",
       "    </tr>\n",
       "  </tbody>\n",
       "</table>\n",
       "<p>5 rows × 72 columns</p>\n",
       "</div>"
      ],
      "text/plain": [
       "           SEX     AGE  JOB  EDUCATION  MARRIAGE  DRINK  SMOKE  CHARACTER1  \\\n",
       "ID                                                                           \n",
       "KDCT00001    2  48.666    2          5         2    999    999           2   \n",
       "KDCT00002    2  80.773   14          3         2    999    999           1   \n",
       "KDCT00003    1  50.008    3          3         2    999    999           3   \n",
       "KDCT00004    2  50.551   14          4         2    999    999           1   \n",
       "KDCT00005    1  49.581    8          2         2    999    999           3   \n",
       "\n",
       "           CHARACTER2  CHARACTER3  ...  BODYMEAS_8HAND6  BODYMEAS_8HAND7  \\\n",
       "ID                                 ...                                     \n",
       "KDCT00001           2           1  ...             82.0             91.0   \n",
       "KDCT00002           1           1  ...             92.0             96.0   \n",
       "KDCT00003           1           1  ...             80.0             81.0   \n",
       "KDCT00004           1           1  ...             91.0             94.0   \n",
       "KDCT00005           2           3  ...             98.0             98.0   \n",
       "\n",
       "           BODYMEAS_8HAND8  SYSTOLICBP  DIASTOLICBP  GLUCOSE  T_CHOL   TG  \\\n",
       "ID                                                                          \n",
       "KDCT00001             96.0         120           80      104     219   72   \n",
       "KDCT00002             99.0         124           65      110     199   97   \n",
       "KDCT00003             81.0         121           75       79     216   88   \n",
       "KDCT00004             99.0         113           81      100     218  136   \n",
       "KDCT00005            100.0         129           72       92     186   61   \n",
       "\n",
       "           HDL_CHOL  LDL_CHOL  \n",
       "ID                             \n",
       "KDCT00001        60       128  \n",
       "KDCT00002        46       114  \n",
       "KDCT00003        49       132  \n",
       "KDCT00004        44       136  \n",
       "KDCT00005        33       118  \n",
       "\n",
       "[5 rows x 72 columns]"
      ]
     },
     "execution_count": 1,
     "metadata": {},
     "output_type": "execute_result"
    }
   ],
   "source": [
    "import pandas as pd\n",
    "import numpy as np\n",
    "import matplotlib.pyplot as plt\n",
    "%matplotlib inline\n",
    "\n",
    "data = pd.read_excel('KDC 교육용 DATASET_공개.xlsx')\n",
    "data.set_index('ID', inplace=True)\n",
    "data.head()"
   ]
  },
  {
   "cell_type": "code",
   "execution_count": 2,
   "metadata": {},
   "outputs": [
    {
     "data": {
      "text/plain": [
       "DRINK          474\n",
       "SMOKE          474\n",
       "STOOL12_7      233\n",
       "STOOL12_8      233\n",
       "DIET4           79\n",
       "DIET7           26\n",
       "HDL_CHOL         3\n",
       "LDL_CHOL         3\n",
       "GLUCOSE          3\n",
       "T_CHOL           3\n",
       "TG               3\n",
       "SWEAT3           2\n",
       "CHARACTER7       1\n",
       "HEALTH1          1\n",
       "COLDHEAT_G       1\n",
       "CHARACTER8       1\n",
       "COLDHEAT_S       1\n",
       "WATER1           1\n",
       "CHARACTER15      0\n",
       "SWEAT1           0\n",
       "dtype: int64"
      ]
     },
     "execution_count": 2,
     "metadata": {},
     "output_type": "execute_result"
    }
   ],
   "source": [
    "X_data = data.replace([888,999], np.nan)\n",
    "X_data.isnull().sum().sort_values(ascending=False)[:20]"
   ]
  },
  {
   "cell_type": "code",
   "execution_count": 3,
   "metadata": {},
   "outputs": [],
   "source": [
    "X_data['SLEEP'] = X_data['SLEEP3_1'] + X_data['SLEEP3_2'] / 60"
   ]
  },
  {
   "cell_type": "code",
   "execution_count": 4,
   "metadata": {},
   "outputs": [
    {
     "data": {
      "text/html": [
       "<div>\n",
       "<style scoped>\n",
       "    .dataframe tbody tr th:only-of-type {\n",
       "        vertical-align: middle;\n",
       "    }\n",
       "\n",
       "    .dataframe tbody tr th {\n",
       "        vertical-align: top;\n",
       "    }\n",
       "\n",
       "    .dataframe thead th {\n",
       "        text-align: right;\n",
       "    }\n",
       "</style>\n",
       "<table border=\"1\" class=\"dataframe\">\n",
       "  <thead>\n",
       "    <tr style=\"text-align: right;\">\n",
       "      <th></th>\n",
       "      <th>JOB</th>\n",
       "      <th>EDUCATION</th>\n",
       "      <th>CHARACTER1</th>\n",
       "      <th>CHARACTER2</th>\n",
       "      <th>CHARACTER3</th>\n",
       "      <th>CHARACTER4</th>\n",
       "      <th>CHARACTER5</th>\n",
       "      <th>CHARACTER6</th>\n",
       "      <th>CHARACTER7</th>\n",
       "      <th>CHARACTER8</th>\n",
       "      <th>...</th>\n",
       "      <th>BODYMEAS_8HAND7</th>\n",
       "      <th>BODYMEAS_8HAND8</th>\n",
       "      <th>SYSTOLICBP</th>\n",
       "      <th>DIASTOLICBP</th>\n",
       "      <th>GLUCOSE</th>\n",
       "      <th>T_CHOL</th>\n",
       "      <th>TG</th>\n",
       "      <th>HDL_CHOL</th>\n",
       "      <th>LDL_CHOL</th>\n",
       "      <th>SLEEP</th>\n",
       "    </tr>\n",
       "    <tr>\n",
       "      <th>ID</th>\n",
       "      <th></th>\n",
       "      <th></th>\n",
       "      <th></th>\n",
       "      <th></th>\n",
       "      <th></th>\n",
       "      <th></th>\n",
       "      <th></th>\n",
       "      <th></th>\n",
       "      <th></th>\n",
       "      <th></th>\n",
       "      <th></th>\n",
       "      <th></th>\n",
       "      <th></th>\n",
       "      <th></th>\n",
       "      <th></th>\n",
       "      <th></th>\n",
       "      <th></th>\n",
       "      <th></th>\n",
       "      <th></th>\n",
       "      <th></th>\n",
       "      <th></th>\n",
       "    </tr>\n",
       "  </thead>\n",
       "  <tbody>\n",
       "    <tr>\n",
       "      <th>KDCT00001</th>\n",
       "      <td>2</td>\n",
       "      <td>5</td>\n",
       "      <td>2</td>\n",
       "      <td>2</td>\n",
       "      <td>1</td>\n",
       "      <td>2</td>\n",
       "      <td>1</td>\n",
       "      <td>1</td>\n",
       "      <td>1.0</td>\n",
       "      <td>2.0</td>\n",
       "      <td>...</td>\n",
       "      <td>91.0</td>\n",
       "      <td>96.0</td>\n",
       "      <td>120</td>\n",
       "      <td>80</td>\n",
       "      <td>104.0</td>\n",
       "      <td>219.0</td>\n",
       "      <td>72.0</td>\n",
       "      <td>60.0</td>\n",
       "      <td>128.0</td>\n",
       "      <td>5.0</td>\n",
       "    </tr>\n",
       "    <tr>\n",
       "      <th>KDCT00002</th>\n",
       "      <td>14</td>\n",
       "      <td>3</td>\n",
       "      <td>1</td>\n",
       "      <td>1</td>\n",
       "      <td>1</td>\n",
       "      <td>1</td>\n",
       "      <td>1</td>\n",
       "      <td>1</td>\n",
       "      <td>1.0</td>\n",
       "      <td>2.0</td>\n",
       "      <td>...</td>\n",
       "      <td>96.0</td>\n",
       "      <td>99.0</td>\n",
       "      <td>124</td>\n",
       "      <td>65</td>\n",
       "      <td>110.0</td>\n",
       "      <td>199.0</td>\n",
       "      <td>97.0</td>\n",
       "      <td>46.0</td>\n",
       "      <td>114.0</td>\n",
       "      <td>5.0</td>\n",
       "    </tr>\n",
       "    <tr>\n",
       "      <th>KDCT00003</th>\n",
       "      <td>3</td>\n",
       "      <td>3</td>\n",
       "      <td>3</td>\n",
       "      <td>1</td>\n",
       "      <td>1</td>\n",
       "      <td>1</td>\n",
       "      <td>1</td>\n",
       "      <td>1</td>\n",
       "      <td>1.0</td>\n",
       "      <td>1.0</td>\n",
       "      <td>...</td>\n",
       "      <td>81.0</td>\n",
       "      <td>81.0</td>\n",
       "      <td>121</td>\n",
       "      <td>75</td>\n",
       "      <td>79.0</td>\n",
       "      <td>216.0</td>\n",
       "      <td>88.0</td>\n",
       "      <td>49.0</td>\n",
       "      <td>132.0</td>\n",
       "      <td>7.0</td>\n",
       "    </tr>\n",
       "    <tr>\n",
       "      <th>KDCT00004</th>\n",
       "      <td>14</td>\n",
       "      <td>4</td>\n",
       "      <td>1</td>\n",
       "      <td>1</td>\n",
       "      <td>1</td>\n",
       "      <td>1</td>\n",
       "      <td>1</td>\n",
       "      <td>1</td>\n",
       "      <td>1.0</td>\n",
       "      <td>2.0</td>\n",
       "      <td>...</td>\n",
       "      <td>94.0</td>\n",
       "      <td>99.0</td>\n",
       "      <td>113</td>\n",
       "      <td>81</td>\n",
       "      <td>100.0</td>\n",
       "      <td>218.0</td>\n",
       "      <td>136.0</td>\n",
       "      <td>44.0</td>\n",
       "      <td>136.0</td>\n",
       "      <td>7.0</td>\n",
       "    </tr>\n",
       "    <tr>\n",
       "      <th>KDCT00005</th>\n",
       "      <td>8</td>\n",
       "      <td>2</td>\n",
       "      <td>3</td>\n",
       "      <td>2</td>\n",
       "      <td>3</td>\n",
       "      <td>2</td>\n",
       "      <td>2</td>\n",
       "      <td>3</td>\n",
       "      <td>2.0</td>\n",
       "      <td>2.0</td>\n",
       "      <td>...</td>\n",
       "      <td>98.0</td>\n",
       "      <td>100.0</td>\n",
       "      <td>129</td>\n",
       "      <td>72</td>\n",
       "      <td>92.0</td>\n",
       "      <td>186.0</td>\n",
       "      <td>61.0</td>\n",
       "      <td>33.0</td>\n",
       "      <td>118.0</td>\n",
       "      <td>5.0</td>\n",
       "    </tr>\n",
       "  </tbody>\n",
       "</table>\n",
       "<p>5 rows × 64 columns</p>\n",
       "</div>"
      ],
      "text/plain": [
       "           JOB  EDUCATION  CHARACTER1  CHARACTER2  CHARACTER3  CHARACTER4  \\\n",
       "ID                                                                          \n",
       "KDCT00001    2          5           2           2           1           2   \n",
       "KDCT00002   14          3           1           1           1           1   \n",
       "KDCT00003    3          3           3           1           1           1   \n",
       "KDCT00004   14          4           1           1           1           1   \n",
       "KDCT00005    8          2           3           2           3           2   \n",
       "\n",
       "           CHARACTER5  CHARACTER6  CHARACTER7  CHARACTER8  ...  \\\n",
       "ID                                                         ...   \n",
       "KDCT00001           1           1         1.0         2.0  ...   \n",
       "KDCT00002           1           1         1.0         2.0  ...   \n",
       "KDCT00003           1           1         1.0         1.0  ...   \n",
       "KDCT00004           1           1         1.0         2.0  ...   \n",
       "KDCT00005           2           3         2.0         2.0  ...   \n",
       "\n",
       "           BODYMEAS_8HAND7  BODYMEAS_8HAND8  SYSTOLICBP  DIASTOLICBP  GLUCOSE  \\\n",
       "ID                                                                              \n",
       "KDCT00001             91.0             96.0         120           80    104.0   \n",
       "KDCT00002             96.0             99.0         124           65    110.0   \n",
       "KDCT00003             81.0             81.0         121           75     79.0   \n",
       "KDCT00004             94.0             99.0         113           81    100.0   \n",
       "KDCT00005             98.0            100.0         129           72     92.0   \n",
       "\n",
       "           T_CHOL     TG  HDL_CHOL  LDL_CHOL  SLEEP  \n",
       "ID                                                   \n",
       "KDCT00001   219.0   72.0      60.0     128.0    5.0  \n",
       "KDCT00002   199.0   97.0      46.0     114.0    5.0  \n",
       "KDCT00003   216.0   88.0      49.0     132.0    7.0  \n",
       "KDCT00004   218.0  136.0      44.0     136.0    7.0  \n",
       "KDCT00005   186.0   61.0      33.0     118.0    5.0  \n",
       "\n",
       "[5 rows x 64 columns]"
      ]
     },
     "execution_count": 4,
     "metadata": {},
     "output_type": "execute_result"
    }
   ],
   "source": [
    "X_data = X_data.drop(['DRINK', 'SMOKE', 'STOOL12_7', 'STOOL12_8',\n",
    "                      'SLEEP3_1', 'SLEEP3_2',\n",
    "                      'SEX', 'AGE', 'MARRIAGE'], axis=1)\n",
    "X_data.head()"
   ]
  },
  {
   "cell_type": "markdown",
   "metadata": {},
   "source": [
    "## Fill Missing Values"
   ]
  },
  {
   "cell_type": "code",
   "execution_count": 5,
   "metadata": {},
   "outputs": [],
   "source": [
    "X_data['DIET4'].fillna(X_data['DIET4'].mode().item(), inplace=True)\n",
    "X_data['DIET7'].fillna(X_data['DIET7'].mode().item(), inplace=True)"
   ]
  },
  {
   "cell_type": "code",
   "execution_count": 6,
   "metadata": {},
   "outputs": [
    {
     "data": {
      "text/plain": [
       "HDL_CHOL       3\n",
       "TG             3\n",
       "T_CHOL         3\n",
       "GLUCOSE        3\n",
       "LDL_CHOL       3\n",
       "SWEAT3         2\n",
       "COLDHEAT_G     1\n",
       "HEALTH1        1\n",
       "WATER1         1\n",
       "COLDHEAT_S     1\n",
       "CHARACTER7     1\n",
       "CHARACTER8     1\n",
       "DIET7          0\n",
       "DIGEST1        0\n",
       "DIGEST3        0\n",
       "SLEEP          0\n",
       "SWEAT1         0\n",
       "STOOL1         0\n",
       "CHARACTER15    0\n",
       "STOOL7         0\n",
       "dtype: int64"
      ]
     },
     "execution_count": 6,
     "metadata": {},
     "output_type": "execute_result"
    }
   ],
   "source": [
    "X_data.isnull().sum().sort_values(ascending=False)[:20]"
   ]
  },
  {
   "cell_type": "markdown",
   "metadata": {},
   "source": [
    "## Drop NAs"
   ]
  },
  {
   "cell_type": "code",
   "execution_count": 7,
   "metadata": {},
   "outputs": [],
   "source": [
    "X_data.dropna(axis=0, inplace=True)"
   ]
  },
  {
   "cell_type": "markdown",
   "metadata": {},
   "source": [
    "## Label Encoding"
   ]
  },
  {
   "cell_type": "code",
   "execution_count": 8,
   "metadata": {},
   "outputs": [
    {
     "name": "stdout",
     "output_type": "stream",
     "text": [
      "[array([1, 2, 3])]\n",
      "[1. 2. 1. 1. 0. 2. 0. 1. 1. 0.]\n"
     ]
    }
   ],
   "source": [
    "from sklearn.preprocessing import OrdinalEncoder\n",
    "\n",
    "ordinal_encoder = OrdinalEncoder()\n",
    "final_diagnosis = X_data.pop('FINALDIAGNOSIS')\n",
    "ordinal_encoder.fit(np.array(final_diagnosis).reshape(-1,1))\n",
    "print(ordinal_encoder.categories_)\n",
    "\n",
    "y_data = ordinal_encoder.transform(np.array(final_diagnosis).reshape(-1,1)).reshape(-1,)\n",
    "print(y_data[:10])"
   ]
  },
  {
   "cell_type": "markdown",
   "metadata": {},
   "source": [
    "## Numerical Variable processing"
   ]
  },
  {
   "cell_type": "code",
   "execution_count": 9,
   "metadata": {},
   "outputs": [
    {
     "data": {
      "text/html": [
       "<div>\n",
       "<style scoped>\n",
       "    .dataframe tbody tr th:only-of-type {\n",
       "        vertical-align: middle;\n",
       "    }\n",
       "\n",
       "    .dataframe tbody tr th {\n",
       "        vertical-align: top;\n",
       "    }\n",
       "\n",
       "    .dataframe thead th {\n",
       "        text-align: right;\n",
       "    }\n",
       "</style>\n",
       "<table border=\"1\" class=\"dataframe\">\n",
       "  <thead>\n",
       "    <tr style=\"text-align: right;\">\n",
       "      <th></th>\n",
       "      <th>URINE2</th>\n",
       "      <th>COLDHEAT_S</th>\n",
       "      <th>HEIGHT</th>\n",
       "      <th>WEIGHT</th>\n",
       "      <th>BMI</th>\n",
       "      <th>BODYMEAS_8HAND1</th>\n",
       "      <th>BODYMEAS_8HAND2</th>\n",
       "      <th>BODYMEAS_8HAND3</th>\n",
       "      <th>BODYMEAS_8HAND4</th>\n",
       "      <th>BODYMEAS_8HAND5</th>\n",
       "      <th>...</th>\n",
       "      <th>BODYMEAS_8HAND8</th>\n",
       "      <th>SYSTOLICBP</th>\n",
       "      <th>DIASTOLICBP</th>\n",
       "      <th>GLUCOSE</th>\n",
       "      <th>T_CHOL</th>\n",
       "      <th>TG</th>\n",
       "      <th>HDL_CHOL</th>\n",
       "      <th>LDL_CHOL</th>\n",
       "      <th>HEALTH1</th>\n",
       "      <th>SLEEP</th>\n",
       "    </tr>\n",
       "    <tr>\n",
       "      <th>ID</th>\n",
       "      <th></th>\n",
       "      <th></th>\n",
       "      <th></th>\n",
       "      <th></th>\n",
       "      <th></th>\n",
       "      <th></th>\n",
       "      <th></th>\n",
       "      <th></th>\n",
       "      <th></th>\n",
       "      <th></th>\n",
       "      <th></th>\n",
       "      <th></th>\n",
       "      <th></th>\n",
       "      <th></th>\n",
       "      <th></th>\n",
       "      <th></th>\n",
       "      <th></th>\n",
       "      <th></th>\n",
       "      <th></th>\n",
       "      <th></th>\n",
       "      <th></th>\n",
       "    </tr>\n",
       "  </thead>\n",
       "  <tbody>\n",
       "    <tr>\n",
       "      <th>KDCT00001</th>\n",
       "      <td>1.0</td>\n",
       "      <td>12.0</td>\n",
       "      <td>158.0</td>\n",
       "      <td>55.0</td>\n",
       "      <td>22.0</td>\n",
       "      <td>53.0</td>\n",
       "      <td>33.0</td>\n",
       "      <td>92.0</td>\n",
       "      <td>96.0</td>\n",
       "      <td>89.0</td>\n",
       "      <td>...</td>\n",
       "      <td>96.0</td>\n",
       "      <td>120</td>\n",
       "      <td>80</td>\n",
       "      <td>104.0</td>\n",
       "      <td>219.0</td>\n",
       "      <td>72.0</td>\n",
       "      <td>60.0</td>\n",
       "      <td>128.0</td>\n",
       "      <td>3.0</td>\n",
       "      <td>5.0</td>\n",
       "    </tr>\n",
       "    <tr>\n",
       "      <th>KDCT00002</th>\n",
       "      <td>1.0</td>\n",
       "      <td>13.0</td>\n",
       "      <td>155.0</td>\n",
       "      <td>63.0</td>\n",
       "      <td>26.2</td>\n",
       "      <td>59.0</td>\n",
       "      <td>35.0</td>\n",
       "      <td>96.0</td>\n",
       "      <td>101.0</td>\n",
       "      <td>93.0</td>\n",
       "      <td>...</td>\n",
       "      <td>99.0</td>\n",
       "      <td>124</td>\n",
       "      <td>65</td>\n",
       "      <td>110.0</td>\n",
       "      <td>199.0</td>\n",
       "      <td>97.0</td>\n",
       "      <td>46.0</td>\n",
       "      <td>114.0</td>\n",
       "      <td>3.0</td>\n",
       "      <td>5.0</td>\n",
       "    </tr>\n",
       "    <tr>\n",
       "      <th>KDCT00003</th>\n",
       "      <td>1.0</td>\n",
       "      <td>12.0</td>\n",
       "      <td>160.0</td>\n",
       "      <td>59.0</td>\n",
       "      <td>23.0</td>\n",
       "      <td>57.0</td>\n",
       "      <td>37.0</td>\n",
       "      <td>95.0</td>\n",
       "      <td>90.0</td>\n",
       "      <td>83.0</td>\n",
       "      <td>...</td>\n",
       "      <td>81.0</td>\n",
       "      <td>121</td>\n",
       "      <td>75</td>\n",
       "      <td>79.0</td>\n",
       "      <td>216.0</td>\n",
       "      <td>88.0</td>\n",
       "      <td>49.0</td>\n",
       "      <td>132.0</td>\n",
       "      <td>3.0</td>\n",
       "      <td>7.0</td>\n",
       "    </tr>\n",
       "    <tr>\n",
       "      <th>KDCT00004</th>\n",
       "      <td>1.0</td>\n",
       "      <td>15.0</td>\n",
       "      <td>165.0</td>\n",
       "      <td>76.0</td>\n",
       "      <td>27.9</td>\n",
       "      <td>59.0</td>\n",
       "      <td>37.0</td>\n",
       "      <td>100.0</td>\n",
       "      <td>104.0</td>\n",
       "      <td>90.0</td>\n",
       "      <td>...</td>\n",
       "      <td>99.0</td>\n",
       "      <td>113</td>\n",
       "      <td>81</td>\n",
       "      <td>100.0</td>\n",
       "      <td>218.0</td>\n",
       "      <td>136.0</td>\n",
       "      <td>44.0</td>\n",
       "      <td>136.0</td>\n",
       "      <td>4.0</td>\n",
       "      <td>7.0</td>\n",
       "    </tr>\n",
       "    <tr>\n",
       "      <th>KDCT00005</th>\n",
       "      <td>0.0</td>\n",
       "      <td>11.0</td>\n",
       "      <td>165.0</td>\n",
       "      <td>70.0</td>\n",
       "      <td>25.7</td>\n",
       "      <td>60.0</td>\n",
       "      <td>40.0</td>\n",
       "      <td>106.0</td>\n",
       "      <td>102.0</td>\n",
       "      <td>99.0</td>\n",
       "      <td>...</td>\n",
       "      <td>100.0</td>\n",
       "      <td>129</td>\n",
       "      <td>72</td>\n",
       "      <td>92.0</td>\n",
       "      <td>186.0</td>\n",
       "      <td>61.0</td>\n",
       "      <td>33.0</td>\n",
       "      <td>118.0</td>\n",
       "      <td>2.0</td>\n",
       "      <td>5.0</td>\n",
       "    </tr>\n",
       "  </tbody>\n",
       "</table>\n",
       "<p>5 rows × 22 columns</p>\n",
       "</div>"
      ],
      "text/plain": [
       "           URINE2  COLDHEAT_S  HEIGHT  WEIGHT   BMI  BODYMEAS_8HAND1  \\\n",
       "ID                                                                     \n",
       "KDCT00001     1.0        12.0   158.0    55.0  22.0             53.0   \n",
       "KDCT00002     1.0        13.0   155.0    63.0  26.2             59.0   \n",
       "KDCT00003     1.0        12.0   160.0    59.0  23.0             57.0   \n",
       "KDCT00004     1.0        15.0   165.0    76.0  27.9             59.0   \n",
       "KDCT00005     0.0        11.0   165.0    70.0  25.7             60.0   \n",
       "\n",
       "           BODYMEAS_8HAND2  BODYMEAS_8HAND3  BODYMEAS_8HAND4  BODYMEAS_8HAND5  \\\n",
       "ID                                                                              \n",
       "KDCT00001             33.0             92.0             96.0             89.0   \n",
       "KDCT00002             35.0             96.0            101.0             93.0   \n",
       "KDCT00003             37.0             95.0             90.0             83.0   \n",
       "KDCT00004             37.0            100.0            104.0             90.0   \n",
       "KDCT00005             40.0            106.0            102.0             99.0   \n",
       "\n",
       "           ...  BODYMEAS_8HAND8  SYSTOLICBP  DIASTOLICBP  GLUCOSE  T_CHOL  \\\n",
       "ID         ...                                                              \n",
       "KDCT00001  ...             96.0         120           80    104.0   219.0   \n",
       "KDCT00002  ...             99.0         124           65    110.0   199.0   \n",
       "KDCT00003  ...             81.0         121           75     79.0   216.0   \n",
       "KDCT00004  ...             99.0         113           81    100.0   218.0   \n",
       "KDCT00005  ...            100.0         129           72     92.0   186.0   \n",
       "\n",
       "              TG  HDL_CHOL  LDL_CHOL  HEALTH1  SLEEP  \n",
       "ID                                                    \n",
       "KDCT00001   72.0      60.0     128.0      3.0    5.0  \n",
       "KDCT00002   97.0      46.0     114.0      3.0    5.0  \n",
       "KDCT00003   88.0      49.0     132.0      3.0    7.0  \n",
       "KDCT00004  136.0      44.0     136.0      4.0    7.0  \n",
       "KDCT00005   61.0      33.0     118.0      2.0    5.0  \n",
       "\n",
       "[5 rows x 22 columns]"
      ]
     },
     "execution_count": 9,
     "metadata": {},
     "output_type": "execute_result"
    }
   ],
   "source": [
    "num_var_list = ['URINE2', 'COLDHEAT_S', 'HEIGHT', 'WEIGHT', 'BMI', \n",
    "                'BODYMEAS_8HAND1', 'BODYMEAS_8HAND2', 'BODYMEAS_8HAND3', 'BODYMEAS_8HAND4', 'BODYMEAS_8HAND5', 'BODYMEAS_8HAND6', 'BODYMEAS_8HAND7', 'BODYMEAS_8HAND8',\n",
    "                'SYSTOLICBP', 'DIASTOLICBP', 'GLUCOSE', 'T_CHOL', 'TG', 'HDL_CHOL', 'LDL_CHOL', \n",
    "                'HEALTH1', 'SLEEP']\n",
    "X_num = X_data.reindex(columns = num_var_list)\n",
    "X_num.head()"
   ]
  },
  {
   "cell_type": "code",
   "execution_count": 10,
   "metadata": {
    "scrolled": false
   },
   "outputs": [
    {
     "data": {
      "image/png": "[encoded data removed]",
      "text/plain": [
       "<Figure size 432x288 with 1 Axes>"
      ]
     },
     "metadata": {
      "needs_background": "light"
     },
     "output_type": "display_data"
    },
    {
     "data": {
      "image/png": "[encoded data removed]",
      "text/plain": [
       "<Figure size 432x288 with 1 Axes>"
      ]
     },
     "metadata": {
      "needs_background": "light"
     },
     "output_type": "display_data"
    },
    {
     "data": {
      "image/png": "[encoded data removed]",
      "text/plain": [
       "<Figure size 432x288 with 1 Axes>"
      ]
     },
     "metadata": {
      "needs_background": "light"
     },
     "output_type": "display_data"
    },
    {
     "data": {
      "image/png": "[encoded data removed]",
      "text/plain": [
       "<Figure size 432x288 with 1 Axes>"
      ]
     },
     "metadata": {
      "needs_background": "light"
     },
     "output_type": "display_data"
    },
    {
     "data": {
      "image/png": "[encoded data removed]",
      "text/plain": [
       "<Figure size 432x288 with 1 Axes>"
      ]
     },
     "metadata": {
      "needs_background": "light"
     },
     "output_type": "display_data"
    },
    {
     "data": {
      "image/png": "[encoded data removed]",
      "text/plain": [
       "<Figure size 432x288 with 1 Axes>"
      ]
     },
     "metadata": {
      "needs_background": "light"
     },
     "output_type": "display_data"
    },
    {
     "data": {
      "image/png": "[encoded data removed]",
      "text/plain": [
       "<Figure size 432x288 with 1 Axes>"
      ]
     },
     "metadata": {
      "needs_background": "light"
     },
     "output_type": "display_data"
    },
    {
     "data": {
      "image/png": "[encoded data removed]",
      "text/plain": [
       "<Figure size 432x288 with 1 Axes>"
      ]
     },
     "metadata": {
      "needs_background": "light"
     },
     "output_type": "display_data"
    },
    {
     "data": {
      "image/png": "[encoded data removed]",
      "text/plain": [
       "<Figure size 432x288 with 1 Axes>"
      ]
     },
     "metadata": {
      "needs_background": "light"
     },
     "output_type": "display_data"
    },
    {
     "data": {
      "image/png": "[encoded data removed]",
      "text/plain": [
       "<Figure size 432x288 with 1 Axes>"
      ]
     },
     "metadata": {
      "needs_background": "light"
     },
     "output_type": "display_data"
    },
    {
     "data": {
      "image/png": "[encoded data removed]",
      "text/plain": [
       "<Figure size 432x288 with 1 Axes>"
      ]
     },
     "metadata": {
      "needs_background": "light"
     },
     "output_type": "display_data"
    },
    {
     "data": {
      "image/png": "[encoded data removed]",
      "text/plain": [
       "<Figure size 432x288 with 1 Axes>"
      ]
     },
     "metadata": {
      "needs_background": "light"
     },
     "output_type": "display_data"
    },
    {
     "data": {
      "image/png": "[encoded data removed]",
      "text/plain": [
       "<Figure size 432x288 with 1 Axes>"
      ]
     },
     "metadata": {
      "needs_background": "light"
     },
     "output_type": "display_data"
    },
    {
     "data": {
      "image/png": "[encoded data removed]",
      "text/plain": [
       "<Figure size 432x288 with 1 Axes>"
      ]
     },
     "metadata": {
      "needs_background": "light"
     },
     "output_type": "display_data"
    },
    {
     "data": {
      "image/png": "[encoded data removed]",
      "text/plain": [
       "<Figure size 432x288 with 1 Axes>"
      ]
     },
     "metadata": {
      "needs_background": "light"
     },
     "output_type": "display_data"
    },
    {
     "data": {
      "image/png": "[encoded data removed]",
      "text/plain": [
       "<Figure size 432x288 with 1 Axes>"
      ]
     },
     "metadata": {
      "needs_background": "light"
     },
     "output_type": "display_data"
    },
    {
     "data": {
      "image/png": "[encoded data removed]",
      "text/plain": [
       "<Figure size 432x288 with 1 Axes>"
      ]
     },
     "metadata": {
      "needs_background": "light"
     },
     "output_type": "display_data"
    },
    {
     "data": {
      "image/png": "[encoded data removed]",
      "text/plain": [
       "<Figure size 432x288 with 1 Axes>"
      ]
     },
     "metadata": {
      "needs_background": "light"
     },
     "output_type": "display_data"
    },
    {
     "data": {
      "image/png": "[encoded data removed]",
      "text/plain": [
       "<Figure size 432x288 with 1 Axes>"
      ]
     },
     "metadata": {
      "needs_background": "light"
     },
     "output_type": "display_data"
    },
    {
     "data": {
      "image/png": "[encoded data removed]",
      "text/plain": [
       "<Figure size 432x288 with 1 Axes>"
      ]
     },
     "metadata": {
      "needs_background": "light"
     },
     "output_type": "display_data"
    },
    {
     "data": {
      "image/png": "[encoded data removed]",
      "text/plain": [
       "<Figure size 432x288 with 1 Axes>"
      ]
     },
     "metadata": {
      "needs_background": "light"
     },
     "output_type": "display_data"
    },
    {
     "data": {
      "image/png": "[encoded data removed]",
      "text/plain": [
       "<Figure size 432x288 with 1 Axes>"
      ]
     },
     "metadata": {
      "needs_background": "light"
     },
     "output_type": "display_data"
    }
   ],
   "source": [
    "import matplotlib.pyplot as plt\n",
    "%matplotlib inline\n",
    "\n",
    "for column in X_num.columns:\n",
    "    X_num[column].hist()\n",
    "    plt.title(column)\n",
    "    plt.show()"
   ]
  },
  {
   "cell_type": "code",
   "execution_count": 11,
   "metadata": {},
   "outputs": [
    {
     "data": {
      "text/plain": [
       "array([[0.2       , 0.5       , 0.40178571, ..., 0.58857143, 0.5       ,\n",
       "        0.25      ],\n",
       "       [0.2       , 0.58333333, 0.33482143, ..., 0.50857143, 0.5       ,\n",
       "        0.25      ],\n",
       "       [0.2       , 0.5       , 0.44642857, ..., 0.61142857, 0.5       ,\n",
       "        0.41666667],\n",
       "       ...,\n",
       "       [0.        , 0.91666667, 0.55803571, ..., 0.73714286, 0.75      ,\n",
       "        0.33333333],\n",
       "       [0.2       , 0.66666667, 0.69419643, ..., 0.48      , 0.25      ,\n",
       "        0.41666667],\n",
       "       [0.1       , 0.5       , 0.38392857, ..., 0.83428571, 0.25      ,\n",
       "        0.45833333]])"
      ]
     },
     "execution_count": 11,
     "metadata": {},
     "output_type": "execute_result"
    }
   ],
   "source": [
    "from sklearn.preprocessing import MinMaxScaler\n",
    "\n",
    "X_minmax_scaler = MinMaxScaler()\n",
    "X_minmax_scaler.fit(X_num)\n",
    "X_num_scaled = X_minmax_scaler.transform(X_num)\n",
    "X_num_scaled"
   ]
  },
  {
   "cell_type": "code",
   "execution_count": 12,
   "metadata": {},
   "outputs": [
    {
     "data": {
      "text/html": [
       "<div>\n",
       "<style scoped>\n",
       "    .dataframe tbody tr th:only-of-type {\n",
       "        vertical-align: middle;\n",
       "    }\n",
       "\n",
       "    .dataframe tbody tr th {\n",
       "        vertical-align: top;\n",
       "    }\n",
       "\n",
       "    .dataframe thead th {\n",
       "        text-align: right;\n",
       "    }\n",
       "</style>\n",
       "<table border=\"1\" class=\"dataframe\">\n",
       "  <thead>\n",
       "    <tr style=\"text-align: right;\">\n",
       "      <th></th>\n",
       "      <th>URINE2</th>\n",
       "      <th>COLDHEAT_S</th>\n",
       "      <th>HEIGHT</th>\n",
       "      <th>WEIGHT</th>\n",
       "      <th>BMI</th>\n",
       "      <th>BODYMEAS_8HAND1</th>\n",
       "      <th>BODYMEAS_8HAND2</th>\n",
       "      <th>BODYMEAS_8HAND3</th>\n",
       "      <th>BODYMEAS_8HAND4</th>\n",
       "      <th>BODYMEAS_8HAND5</th>\n",
       "      <th>...</th>\n",
       "      <th>BODYMEAS_8HAND8</th>\n",
       "      <th>SYSTOLICBP</th>\n",
       "      <th>DIASTOLICBP</th>\n",
       "      <th>GLUCOSE</th>\n",
       "      <th>T_CHOL</th>\n",
       "      <th>TG</th>\n",
       "      <th>HDL_CHOL</th>\n",
       "      <th>LDL_CHOL</th>\n",
       "      <th>HEALTH1</th>\n",
       "      <th>SLEEP</th>\n",
       "    </tr>\n",
       "  </thead>\n",
       "  <tbody>\n",
       "    <tr>\n",
       "      <th>0</th>\n",
       "      <td>0.2</td>\n",
       "      <td>0.500000</td>\n",
       "      <td>0.401786</td>\n",
       "      <td>0.272727</td>\n",
       "      <td>0.293269</td>\n",
       "      <td>0.137931</td>\n",
       "      <td>0.348837</td>\n",
       "      <td>0.517598</td>\n",
       "      <td>0.545455</td>\n",
       "      <td>0.604990</td>\n",
       "      <td>...</td>\n",
       "      <td>0.547264</td>\n",
       "      <td>0.369369</td>\n",
       "      <td>0.558824</td>\n",
       "      <td>0.196078</td>\n",
       "      <td>0.582888</td>\n",
       "      <td>0.075993</td>\n",
       "      <td>0.456790</td>\n",
       "      <td>0.588571</td>\n",
       "      <td>0.50</td>\n",
       "      <td>0.250000</td>\n",
       "    </tr>\n",
       "    <tr>\n",
       "      <th>1</th>\n",
       "      <td>0.2</td>\n",
       "      <td>0.583333</td>\n",
       "      <td>0.334821</td>\n",
       "      <td>0.384615</td>\n",
       "      <td>0.495192</td>\n",
       "      <td>0.551724</td>\n",
       "      <td>0.465116</td>\n",
       "      <td>0.600414</td>\n",
       "      <td>0.634581</td>\n",
       "      <td>0.688150</td>\n",
       "      <td>...</td>\n",
       "      <td>0.621891</td>\n",
       "      <td>0.405405</td>\n",
       "      <td>0.338235</td>\n",
       "      <td>0.219608</td>\n",
       "      <td>0.475936</td>\n",
       "      <td>0.119171</td>\n",
       "      <td>0.283951</td>\n",
       "      <td>0.508571</td>\n",
       "      <td>0.50</td>\n",
       "      <td>0.250000</td>\n",
       "    </tr>\n",
       "    <tr>\n",
       "      <th>2</th>\n",
       "      <td>0.2</td>\n",
       "      <td>0.500000</td>\n",
       "      <td>0.446429</td>\n",
       "      <td>0.328671</td>\n",
       "      <td>0.341346</td>\n",
       "      <td>0.413793</td>\n",
       "      <td>0.581395</td>\n",
       "      <td>0.579710</td>\n",
       "      <td>0.438503</td>\n",
       "      <td>0.480249</td>\n",
       "      <td>...</td>\n",
       "      <td>0.174129</td>\n",
       "      <td>0.378378</td>\n",
       "      <td>0.485294</td>\n",
       "      <td>0.098039</td>\n",
       "      <td>0.566845</td>\n",
       "      <td>0.103627</td>\n",
       "      <td>0.320988</td>\n",
       "      <td>0.611429</td>\n",
       "      <td>0.50</td>\n",
       "      <td>0.416667</td>\n",
       "    </tr>\n",
       "    <tr>\n",
       "      <th>3</th>\n",
       "      <td>0.2</td>\n",
       "      <td>0.750000</td>\n",
       "      <td>0.558036</td>\n",
       "      <td>0.566434</td>\n",
       "      <td>0.576923</td>\n",
       "      <td>0.551724</td>\n",
       "      <td>0.581395</td>\n",
       "      <td>0.683230</td>\n",
       "      <td>0.688057</td>\n",
       "      <td>0.625780</td>\n",
       "      <td>...</td>\n",
       "      <td>0.621891</td>\n",
       "      <td>0.306306</td>\n",
       "      <td>0.573529</td>\n",
       "      <td>0.180392</td>\n",
       "      <td>0.577540</td>\n",
       "      <td>0.186528</td>\n",
       "      <td>0.259259</td>\n",
       "      <td>0.634286</td>\n",
       "      <td>0.75</td>\n",
       "      <td>0.416667</td>\n",
       "    </tr>\n",
       "    <tr>\n",
       "      <th>4</th>\n",
       "      <td>0.0</td>\n",
       "      <td>0.416667</td>\n",
       "      <td>0.558036</td>\n",
       "      <td>0.482517</td>\n",
       "      <td>0.471154</td>\n",
       "      <td>0.620690</td>\n",
       "      <td>0.755814</td>\n",
       "      <td>0.807453</td>\n",
       "      <td>0.652406</td>\n",
       "      <td>0.812890</td>\n",
       "      <td>...</td>\n",
       "      <td>0.646766</td>\n",
       "      <td>0.450450</td>\n",
       "      <td>0.441176</td>\n",
       "      <td>0.149020</td>\n",
       "      <td>0.406417</td>\n",
       "      <td>0.056995</td>\n",
       "      <td>0.123457</td>\n",
       "      <td>0.531429</td>\n",
       "      <td>0.25</td>\n",
       "      <td>0.250000</td>\n",
       "    </tr>\n",
       "  </tbody>\n",
       "</table>\n",
       "<p>5 rows × 22 columns</p>\n",
       "</div>"
      ],
      "text/plain": [
       "   URINE2  COLDHEAT_S    HEIGHT    WEIGHT       BMI  BODYMEAS_8HAND1  \\\n",
       "0     0.2    0.500000  0.401786  0.272727  0.293269         0.137931   \n",
       "1     0.2    0.583333  0.334821  0.384615  0.495192         0.551724   \n",
       "2     0.2    0.500000  0.446429  0.328671  0.341346         0.413793   \n",
       "3     0.2    0.750000  0.558036  0.566434  0.576923         0.551724   \n",
       "4     0.0    0.416667  0.558036  0.482517  0.471154         0.620690   \n",
       "\n",
       "   BODYMEAS_8HAND2  BODYMEAS_8HAND3  BODYMEAS_8HAND4  BODYMEAS_8HAND5  ...  \\\n",
       "0         0.348837         0.517598         0.545455         0.604990  ...   \n",
       "1         0.465116         0.600414         0.634581         0.688150  ...   \n",
       "2         0.581395         0.579710         0.438503         0.480249  ...   \n",
       "3         0.581395         0.683230         0.688057         0.625780  ...   \n",
       "4         0.755814         0.807453         0.652406         0.812890  ...   \n",
       "\n",
       "   BODYMEAS_8HAND8  SYSTOLICBP  DIASTOLICBP   GLUCOSE    T_CHOL        TG  \\\n",
       "0         0.547264    0.369369     0.558824  0.196078  0.582888  0.075993   \n",
       "1         0.621891    0.405405     0.338235  0.219608  0.475936  0.119171   \n",
       "2         0.174129    0.378378     0.485294  0.098039  0.566845  0.103627   \n",
       "3         0.621891    0.306306     0.573529  0.180392  0.577540  0.186528   \n",
       "4         0.646766    0.450450     0.441176  0.149020  0.406417  0.056995   \n",
       "\n",
       "   HDL_CHOL  LDL_CHOL  HEALTH1     SLEEP  \n",
       "0  0.456790  0.588571     0.50  0.250000  \n",
       "1  0.283951  0.508571     0.50  0.250000  \n",
       "2  0.320988  0.611429     0.50  0.416667  \n",
       "3  0.259259  0.634286     0.75  0.416667  \n",
       "4  0.123457  0.531429     0.25  0.250000  \n",
       "\n",
       "[5 rows x 22 columns]"
      ]
     },
     "execution_count": 12,
     "metadata": {},
     "output_type": "execute_result"
    }
   ],
   "source": [
    "numeric_data_df = pd.DataFrame(X_num_scaled, columns=X_num.columns)\n",
    "numeric_data_df.head()"
   ]
  },
  {
   "cell_type": "markdown",
   "metadata": {},
   "source": [
    "## Categorical Variable processing"
   ]
  },
  {
   "cell_type": "markdown",
   "metadata": {},
   "source": [
    "### binary"
   ]
  },
  {
   "cell_type": "code",
   "execution_count": 13,
   "metadata": {},
   "outputs": [],
   "source": [
    "binary_var_list = ['STOOL1', 'HYPER1', 'DIABE1', 'HYPERLI1', \n",
    "                   'FATIGUE2_1', 'FATIGUE2_2', 'FATIGUE2_3', 'FATIGUE2_4', 'FATIGUE2_5']\n",
    "X_binary = X_data.reindex(columns=binary_var_list)"
   ]
  },
  {
   "cell_type": "code",
   "execution_count": 14,
   "metadata": {},
   "outputs": [
    {
     "name": "stdout",
     "output_type": "stream",
     "text": [
      "[array([1, 2]), array([1, 2]), array([1, 2]), array([1, 2]), array([0, 1]), array([0, 1]), array([0, 1]), array([0, 1]), array([0, 1])]\n",
      "(492, 9)\n"
     ]
    }
   ],
   "source": [
    "from sklearn.preprocessing import OneHotEncoder\n",
    "\n",
    "binary_encoder = OneHotEncoder(drop='first')\n",
    "binary_encoder.fit(X_binary)\n",
    "X_binary_matrix = binary_encoder.transform(X_binary)\n",
    "print(binary_encoder.categories_)\n",
    "print(X_binary_matrix.toarray().shape)"
   ]
  },
  {
   "cell_type": "code",
   "execution_count": 15,
   "metadata": {},
   "outputs": [
    {
     "data": {
      "text/html": [
       "<div>\n",
       "<style scoped>\n",
       "    .dataframe tbody tr th:only-of-type {\n",
       "        vertical-align: middle;\n",
       "    }\n",
       "\n",
       "    .dataframe tbody tr th {\n",
       "        vertical-align: top;\n",
       "    }\n",
       "\n",
       "    .dataframe thead th {\n",
       "        text-align: right;\n",
       "    }\n",
       "</style>\n",
       "<table border=\"1\" class=\"dataframe\">\n",
       "  <thead>\n",
       "    <tr style=\"text-align: right;\">\n",
       "      <th></th>\n",
       "      <th>STOOL1</th>\n",
       "      <th>HYPER1</th>\n",
       "      <th>DIABE1</th>\n",
       "      <th>HYPERLI1</th>\n",
       "      <th>FATIGUE2_1</th>\n",
       "      <th>FATIGUE2_2</th>\n",
       "      <th>FATIGUE2_3</th>\n",
       "      <th>FATIGUE2_4</th>\n",
       "      <th>FATIGUE2_5</th>\n",
       "    </tr>\n",
       "  </thead>\n",
       "  <tbody>\n",
       "    <tr>\n",
       "      <th>0</th>\n",
       "      <td>0.0</td>\n",
       "      <td>0.0</td>\n",
       "      <td>0.0</td>\n",
       "      <td>0.0</td>\n",
       "      <td>0.0</td>\n",
       "      <td>0.0</td>\n",
       "      <td>0.0</td>\n",
       "      <td>1.0</td>\n",
       "      <td>0.0</td>\n",
       "    </tr>\n",
       "    <tr>\n",
       "      <th>1</th>\n",
       "      <td>0.0</td>\n",
       "      <td>0.0</td>\n",
       "      <td>0.0</td>\n",
       "      <td>0.0</td>\n",
       "      <td>0.0</td>\n",
       "      <td>0.0</td>\n",
       "      <td>1.0</td>\n",
       "      <td>0.0</td>\n",
       "      <td>0.0</td>\n",
       "    </tr>\n",
       "    <tr>\n",
       "      <th>2</th>\n",
       "      <td>0.0</td>\n",
       "      <td>0.0</td>\n",
       "      <td>0.0</td>\n",
       "      <td>0.0</td>\n",
       "      <td>0.0</td>\n",
       "      <td>0.0</td>\n",
       "      <td>1.0</td>\n",
       "      <td>0.0</td>\n",
       "      <td>0.0</td>\n",
       "    </tr>\n",
       "    <tr>\n",
       "      <th>3</th>\n",
       "      <td>1.0</td>\n",
       "      <td>0.0</td>\n",
       "      <td>0.0</td>\n",
       "      <td>0.0</td>\n",
       "      <td>0.0</td>\n",
       "      <td>0.0</td>\n",
       "      <td>1.0</td>\n",
       "      <td>0.0</td>\n",
       "      <td>0.0</td>\n",
       "    </tr>\n",
       "    <tr>\n",
       "      <th>4</th>\n",
       "      <td>0.0</td>\n",
       "      <td>0.0</td>\n",
       "      <td>0.0</td>\n",
       "      <td>0.0</td>\n",
       "      <td>0.0</td>\n",
       "      <td>0.0</td>\n",
       "      <td>1.0</td>\n",
       "      <td>0.0</td>\n",
       "      <td>0.0</td>\n",
       "    </tr>\n",
       "  </tbody>\n",
       "</table>\n",
       "</div>"
      ],
      "text/plain": [
       "   STOOL1  HYPER1  DIABE1  HYPERLI1  FATIGUE2_1  FATIGUE2_2  FATIGUE2_3  \\\n",
       "0     0.0     0.0     0.0       0.0         0.0         0.0         0.0   \n",
       "1     0.0     0.0     0.0       0.0         0.0         0.0         1.0   \n",
       "2     0.0     0.0     0.0       0.0         0.0         0.0         1.0   \n",
       "3     1.0     0.0     0.0       0.0         0.0         0.0         1.0   \n",
       "4     0.0     0.0     0.0       0.0         0.0         0.0         1.0   \n",
       "\n",
       "   FATIGUE2_4  FATIGUE2_5  \n",
       "0         1.0         0.0  \n",
       "1         0.0         0.0  \n",
       "2         0.0         0.0  \n",
       "3         0.0         0.0  \n",
       "4         0.0         0.0  "
      ]
     },
     "execution_count": 15,
     "metadata": {},
     "output_type": "execute_result"
    }
   ],
   "source": [
    "X_cat_binary_df = pd.DataFrame(X_binary_matrix.toarray(), columns=X_binary.columns)\n",
    "X_cat_binary_df.head()"
   ]
  },
  {
   "cell_type": "code",
   "execution_count": 16,
   "metadata": {},
   "outputs": [
    {
     "data": {
      "text/html": [
       "<div>\n",
       "<style scoped>\n",
       "    .dataframe tbody tr th:only-of-type {\n",
       "        vertical-align: middle;\n",
       "    }\n",
       "\n",
       "    .dataframe tbody tr th {\n",
       "        vertical-align: top;\n",
       "    }\n",
       "\n",
       "    .dataframe thead th {\n",
       "        text-align: right;\n",
       "    }\n",
       "</style>\n",
       "<table border=\"1\" class=\"dataframe\">\n",
       "  <thead>\n",
       "    <tr style=\"text-align: right;\">\n",
       "      <th></th>\n",
       "      <th>STOOL1</th>\n",
       "      <th>HYPER1</th>\n",
       "      <th>DIABE1</th>\n",
       "      <th>HYPERLI1</th>\n",
       "      <th>FATIGUE2_1</th>\n",
       "      <th>FATIGUE2_2</th>\n",
       "      <th>FATIGUE2_3</th>\n",
       "      <th>FATIGUE2_4</th>\n",
       "      <th>FATIGUE2_5</th>\n",
       "      <th>HYPER*DIABE</th>\n",
       "    </tr>\n",
       "  </thead>\n",
       "  <tbody>\n",
       "    <tr>\n",
       "      <th>0</th>\n",
       "      <td>0.0</td>\n",
       "      <td>0.0</td>\n",
       "      <td>0.0</td>\n",
       "      <td>0.0</td>\n",
       "      <td>0.0</td>\n",
       "      <td>0.0</td>\n",
       "      <td>0.0</td>\n",
       "      <td>1.0</td>\n",
       "      <td>0.0</td>\n",
       "      <td>0.0</td>\n",
       "    </tr>\n",
       "    <tr>\n",
       "      <th>1</th>\n",
       "      <td>0.0</td>\n",
       "      <td>0.0</td>\n",
       "      <td>0.0</td>\n",
       "      <td>0.0</td>\n",
       "      <td>0.0</td>\n",
       "      <td>0.0</td>\n",
       "      <td>1.0</td>\n",
       "      <td>0.0</td>\n",
       "      <td>0.0</td>\n",
       "      <td>0.0</td>\n",
       "    </tr>\n",
       "    <tr>\n",
       "      <th>2</th>\n",
       "      <td>0.0</td>\n",
       "      <td>0.0</td>\n",
       "      <td>0.0</td>\n",
       "      <td>0.0</td>\n",
       "      <td>0.0</td>\n",
       "      <td>0.0</td>\n",
       "      <td>1.0</td>\n",
       "      <td>0.0</td>\n",
       "      <td>0.0</td>\n",
       "      <td>0.0</td>\n",
       "    </tr>\n",
       "    <tr>\n",
       "      <th>3</th>\n",
       "      <td>1.0</td>\n",
       "      <td>0.0</td>\n",
       "      <td>0.0</td>\n",
       "      <td>0.0</td>\n",
       "      <td>0.0</td>\n",
       "      <td>0.0</td>\n",
       "      <td>1.0</td>\n",
       "      <td>0.0</td>\n",
       "      <td>0.0</td>\n",
       "      <td>0.0</td>\n",
       "    </tr>\n",
       "    <tr>\n",
       "      <th>4</th>\n",
       "      <td>0.0</td>\n",
       "      <td>0.0</td>\n",
       "      <td>0.0</td>\n",
       "      <td>0.0</td>\n",
       "      <td>0.0</td>\n",
       "      <td>0.0</td>\n",
       "      <td>1.0</td>\n",
       "      <td>0.0</td>\n",
       "      <td>0.0</td>\n",
       "      <td>0.0</td>\n",
       "    </tr>\n",
       "  </tbody>\n",
       "</table>\n",
       "</div>"
      ],
      "text/plain": [
       "   STOOL1  HYPER1  DIABE1  HYPERLI1  FATIGUE2_1  FATIGUE2_2  FATIGUE2_3  \\\n",
       "0     0.0     0.0     0.0       0.0         0.0         0.0         0.0   \n",
       "1     0.0     0.0     0.0       0.0         0.0         0.0         1.0   \n",
       "2     0.0     0.0     0.0       0.0         0.0         0.0         1.0   \n",
       "3     1.0     0.0     0.0       0.0         0.0         0.0         1.0   \n",
       "4     0.0     0.0     0.0       0.0         0.0         0.0         1.0   \n",
       "\n",
       "   FATIGUE2_4  FATIGUE2_5  HYPER*DIABE  \n",
       "0         1.0         0.0          0.0  \n",
       "1         0.0         0.0          0.0  \n",
       "2         0.0         0.0          0.0  \n",
       "3         0.0         0.0          0.0  \n",
       "4         0.0         0.0          0.0  "
      ]
     },
     "execution_count": 16,
     "metadata": {},
     "output_type": "execute_result"
    }
   ],
   "source": [
    "X_cat_binary_df['HYPER*DIABE'] = X_cat_binary_df['HYPER1'] * X_cat_binary_df['DIABE1']\n",
    "X_cat_binary_df.head()"
   ]
  },
  {
   "cell_type": "markdown",
   "metadata": {},
   "source": [
    "### multi"
   ]
  },
  {
   "cell_type": "code",
   "execution_count": 17,
   "metadata": {},
   "outputs": [
    {
     "name": "stdout",
     "output_type": "stream",
     "text": [
      "[array([ 1,  2,  3,  4,  5,  6,  7,  8, 11, 12, 13, 14]), array([1, 2, 3, 4, 5, 6]), array([1, 2, 3]), array([1, 2, 3]), array([1, 2, 3]), array([1, 2, 3]), array([1, 2, 3]), array([1, 2, 3]), array([1., 2., 3.]), array([1., 2., 3.]), array([1, 2, 3]), array([1, 2, 3]), array([1, 2, 3]), array([1, 2, 3]), array([1, 2, 3]), array([1, 2, 3]), array([1, 2, 3]), array([nan]), array([1., 2., 3.]), array([1, 2, 3]), array([1, 2, 3, 4]), array([1, 2, 3]), array([1., 2., 3.]), array([1, 2, 3]), array([1, 2, 3]), array([1, 2, 3]), array([1, 2, 3]), array([1, 2, 3]), array([1., 2., 3., 4.]), array([1, 2, 3]), array([1., 2., 3.]), array([1, 2, 3, 4])]\n",
      "(492, 109)\n"
     ]
    }
   ],
   "source": [
    "from sklearn.preprocessing import OneHotEncoder\n",
    "\n",
    "multi_var_list = ['JOB', 'EDUCATION',\n",
    "                  'CHARACTER1', 'CHARACTER2', 'CHARACTER3', 'CHARACTER4', 'CHARACTER5',\n",
    "                  'CHARACTER6', 'CHARACTER7', 'CHARACTER8', 'CHARACTER9', 'CHARACTER10',\n",
    "                  'CHARACTER11', 'CHARACTER12', 'CHARACTER13', 'CHARACTER14', 'CHARACTER15',\n",
    "                  'DIE4', 'DIET7', 'DIGEST1',\n",
    "                  'DIGEST3', 'SWEAT1', 'SWEAT3', 'STOOL7', 'COLDHEAT1', 'COLDHEAT2',\n",
    "                  'COLDHEAT3', 'COLDHEAT4', 'WATER1', 'WATER3', 'COLDHEAT_G', 'FATIGUE1']\n",
    "X_multi = X_data.reindex(columns=multi_var_list)\n",
    "\n",
    "onehot_encoder = OneHotEncoder()\n",
    "onehot_encoder.fit(X_multi)\n",
    "onehot_matrix = onehot_encoder.transform(X_multi)\n",
    "print(onehot_encoder.categories_)\n",
    "print(onehot_matrix.toarray().shape)"
   ]
  },
  {
   "cell_type": "code",
   "execution_count": 18,
   "metadata": {},
   "outputs": [
    {
     "data": {
      "text/html": [
       "<div>\n",
       "<style scoped>\n",
       "    .dataframe tbody tr th:only-of-type {\n",
       "        vertical-align: middle;\n",
       "    }\n",
       "\n",
       "    .dataframe tbody tr th {\n",
       "        vertical-align: top;\n",
       "    }\n",
       "\n",
       "    .dataframe thead th {\n",
       "        text-align: right;\n",
       "    }\n",
       "</style>\n",
       "<table border=\"1\" class=\"dataframe\">\n",
       "  <thead>\n",
       "    <tr style=\"text-align: right;\">\n",
       "      <th></th>\n",
       "      <th>0</th>\n",
       "      <th>1</th>\n",
       "      <th>2</th>\n",
       "      <th>3</th>\n",
       "      <th>4</th>\n",
       "      <th>5</th>\n",
       "      <th>6</th>\n",
       "      <th>7</th>\n",
       "      <th>8</th>\n",
       "      <th>9</th>\n",
       "      <th>...</th>\n",
       "      <th>99</th>\n",
       "      <th>100</th>\n",
       "      <th>101</th>\n",
       "      <th>102</th>\n",
       "      <th>103</th>\n",
       "      <th>104</th>\n",
       "      <th>105</th>\n",
       "      <th>106</th>\n",
       "      <th>107</th>\n",
       "      <th>108</th>\n",
       "    </tr>\n",
       "  </thead>\n",
       "  <tbody>\n",
       "    <tr>\n",
       "      <th>0</th>\n",
       "      <td>0.0</td>\n",
       "      <td>1.0</td>\n",
       "      <td>0.0</td>\n",
       "      <td>0.0</td>\n",
       "      <td>0.0</td>\n",
       "      <td>0.0</td>\n",
       "      <td>0.0</td>\n",
       "      <td>0.0</td>\n",
       "      <td>0.0</td>\n",
       "      <td>0.0</td>\n",
       "      <td>...</td>\n",
       "      <td>0.0</td>\n",
       "      <td>1.0</td>\n",
       "      <td>0.0</td>\n",
       "      <td>0.0</td>\n",
       "      <td>1.0</td>\n",
       "      <td>0.0</td>\n",
       "      <td>0.0</td>\n",
       "      <td>1.0</td>\n",
       "      <td>0.0</td>\n",
       "      <td>0.0</td>\n",
       "    </tr>\n",
       "    <tr>\n",
       "      <th>1</th>\n",
       "      <td>0.0</td>\n",
       "      <td>0.0</td>\n",
       "      <td>0.0</td>\n",
       "      <td>0.0</td>\n",
       "      <td>0.0</td>\n",
       "      <td>0.0</td>\n",
       "      <td>0.0</td>\n",
       "      <td>0.0</td>\n",
       "      <td>0.0</td>\n",
       "      <td>0.0</td>\n",
       "      <td>...</td>\n",
       "      <td>0.0</td>\n",
       "      <td>0.0</td>\n",
       "      <td>1.0</td>\n",
       "      <td>0.0</td>\n",
       "      <td>0.0</td>\n",
       "      <td>1.0</td>\n",
       "      <td>0.0</td>\n",
       "      <td>0.0</td>\n",
       "      <td>0.0</td>\n",
       "      <td>1.0</td>\n",
       "    </tr>\n",
       "    <tr>\n",
       "      <th>2</th>\n",
       "      <td>0.0</td>\n",
       "      <td>0.0</td>\n",
       "      <td>1.0</td>\n",
       "      <td>0.0</td>\n",
       "      <td>0.0</td>\n",
       "      <td>0.0</td>\n",
       "      <td>0.0</td>\n",
       "      <td>0.0</td>\n",
       "      <td>0.0</td>\n",
       "      <td>0.0</td>\n",
       "      <td>...</td>\n",
       "      <td>0.0</td>\n",
       "      <td>1.0</td>\n",
       "      <td>0.0</td>\n",
       "      <td>0.0</td>\n",
       "      <td>1.0</td>\n",
       "      <td>0.0</td>\n",
       "      <td>0.0</td>\n",
       "      <td>1.0</td>\n",
       "      <td>0.0</td>\n",
       "      <td>0.0</td>\n",
       "    </tr>\n",
       "    <tr>\n",
       "      <th>3</th>\n",
       "      <td>0.0</td>\n",
       "      <td>0.0</td>\n",
       "      <td>0.0</td>\n",
       "      <td>0.0</td>\n",
       "      <td>0.0</td>\n",
       "      <td>0.0</td>\n",
       "      <td>0.0</td>\n",
       "      <td>0.0</td>\n",
       "      <td>0.0</td>\n",
       "      <td>0.0</td>\n",
       "      <td>...</td>\n",
       "      <td>0.0</td>\n",
       "      <td>1.0</td>\n",
       "      <td>0.0</td>\n",
       "      <td>0.0</td>\n",
       "      <td>0.0</td>\n",
       "      <td>1.0</td>\n",
       "      <td>0.0</td>\n",
       "      <td>0.0</td>\n",
       "      <td>0.0</td>\n",
       "      <td>1.0</td>\n",
       "    </tr>\n",
       "    <tr>\n",
       "      <th>4</th>\n",
       "      <td>0.0</td>\n",
       "      <td>0.0</td>\n",
       "      <td>0.0</td>\n",
       "      <td>0.0</td>\n",
       "      <td>0.0</td>\n",
       "      <td>0.0</td>\n",
       "      <td>0.0</td>\n",
       "      <td>1.0</td>\n",
       "      <td>0.0</td>\n",
       "      <td>0.0</td>\n",
       "      <td>...</td>\n",
       "      <td>0.0</td>\n",
       "      <td>1.0</td>\n",
       "      <td>0.0</td>\n",
       "      <td>0.0</td>\n",
       "      <td>1.0</td>\n",
       "      <td>0.0</td>\n",
       "      <td>0.0</td>\n",
       "      <td>0.0</td>\n",
       "      <td>0.0</td>\n",
       "      <td>1.0</td>\n",
       "    </tr>\n",
       "  </tbody>\n",
       "</table>\n",
       "<p>5 rows × 109 columns</p>\n",
       "</div>"
      ],
      "text/plain": [
       "   0    1    2    3    4    5    6    7    8    9    ...  99   100  101  102  \\\n",
       "0  0.0  1.0  0.0  0.0  0.0  0.0  0.0  0.0  0.0  0.0  ...  0.0  1.0  0.0  0.0   \n",
       "1  0.0  0.0  0.0  0.0  0.0  0.0  0.0  0.0  0.0  0.0  ...  0.0  0.0  1.0  0.0   \n",
       "2  0.0  0.0  1.0  0.0  0.0  0.0  0.0  0.0  0.0  0.0  ...  0.0  1.0  0.0  0.0   \n",
       "3  0.0  0.0  0.0  0.0  0.0  0.0  0.0  0.0  0.0  0.0  ...  0.0  1.0  0.0  0.0   \n",
       "4  0.0  0.0  0.0  0.0  0.0  0.0  0.0  1.0  0.0  0.0  ...  0.0  1.0  0.0  0.0   \n",
       "\n",
       "   103  104  105  106  107  108  \n",
       "0  1.0  0.0  0.0  1.0  0.0  0.0  \n",
       "1  0.0  1.0  0.0  0.0  0.0  1.0  \n",
       "2  1.0  0.0  0.0  1.0  0.0  0.0  \n",
       "3  0.0  1.0  0.0  0.0  0.0  1.0  \n",
       "4  1.0  0.0  0.0  0.0  0.0  1.0  \n",
       "\n",
       "[5 rows x 109 columns]"
      ]
     },
     "execution_count": 18,
     "metadata": {},
     "output_type": "execute_result"
    }
   ],
   "source": [
    "X_cat_multi_df = pd.DataFrame(onehot_matrix.toarray())\n",
    "X_cat_multi_df.head()"
   ]
  },
  {
   "cell_type": "markdown",
   "metadata": {},
   "source": [
    "## Concatenate Numerical and Categorical Variables"
   ]
  },
  {
   "cell_type": "code",
   "execution_count": 19,
   "metadata": {},
   "outputs": [
    {
     "data": {
      "text/html": [
       "<div>\n",
       "<style scoped>\n",
       "    .dataframe tbody tr th:only-of-type {\n",
       "        vertical-align: middle;\n",
       "    }\n",
       "\n",
       "    .dataframe tbody tr th {\n",
       "        vertical-align: top;\n",
       "    }\n",
       "\n",
       "    .dataframe thead th {\n",
       "        text-align: right;\n",
       "    }\n",
       "</style>\n",
       "<table border=\"1\" class=\"dataframe\">\n",
       "  <thead>\n",
       "    <tr style=\"text-align: right;\">\n",
       "      <th></th>\n",
       "      <th>URINE2</th>\n",
       "      <th>COLDHEAT_S</th>\n",
       "      <th>HEIGHT</th>\n",
       "      <th>WEIGHT</th>\n",
       "      <th>BMI</th>\n",
       "      <th>BODYMEAS_8HAND1</th>\n",
       "      <th>BODYMEAS_8HAND2</th>\n",
       "      <th>BODYMEAS_8HAND3</th>\n",
       "      <th>BODYMEAS_8HAND4</th>\n",
       "      <th>BODYMEAS_8HAND5</th>\n",
       "      <th>...</th>\n",
       "      <th>99</th>\n",
       "      <th>100</th>\n",
       "      <th>101</th>\n",
       "      <th>102</th>\n",
       "      <th>103</th>\n",
       "      <th>104</th>\n",
       "      <th>105</th>\n",
       "      <th>106</th>\n",
       "      <th>107</th>\n",
       "      <th>108</th>\n",
       "    </tr>\n",
       "  </thead>\n",
       "  <tbody>\n",
       "    <tr>\n",
       "      <th>0</th>\n",
       "      <td>0.2</td>\n",
       "      <td>0.500000</td>\n",
       "      <td>0.401786</td>\n",
       "      <td>0.272727</td>\n",
       "      <td>0.293269</td>\n",
       "      <td>0.137931</td>\n",
       "      <td>0.348837</td>\n",
       "      <td>0.517598</td>\n",
       "      <td>0.545455</td>\n",
       "      <td>0.604990</td>\n",
       "      <td>...</td>\n",
       "      <td>0.0</td>\n",
       "      <td>1.0</td>\n",
       "      <td>0.0</td>\n",
       "      <td>0.0</td>\n",
       "      <td>1.0</td>\n",
       "      <td>0.0</td>\n",
       "      <td>0.0</td>\n",
       "      <td>1.0</td>\n",
       "      <td>0.0</td>\n",
       "      <td>0.0</td>\n",
       "    </tr>\n",
       "    <tr>\n",
       "      <th>1</th>\n",
       "      <td>0.2</td>\n",
       "      <td>0.583333</td>\n",
       "      <td>0.334821</td>\n",
       "      <td>0.384615</td>\n",
       "      <td>0.495192</td>\n",
       "      <td>0.551724</td>\n",
       "      <td>0.465116</td>\n",
       "      <td>0.600414</td>\n",
       "      <td>0.634581</td>\n",
       "      <td>0.688150</td>\n",
       "      <td>...</td>\n",
       "      <td>0.0</td>\n",
       "      <td>0.0</td>\n",
       "      <td>1.0</td>\n",
       "      <td>0.0</td>\n",
       "      <td>0.0</td>\n",
       "      <td>1.0</td>\n",
       "      <td>0.0</td>\n",
       "      <td>0.0</td>\n",
       "      <td>0.0</td>\n",
       "      <td>1.0</td>\n",
       "    </tr>\n",
       "    <tr>\n",
       "      <th>2</th>\n",
       "      <td>0.2</td>\n",
       "      <td>0.500000</td>\n",
       "      <td>0.446429</td>\n",
       "      <td>0.328671</td>\n",
       "      <td>0.341346</td>\n",
       "      <td>0.413793</td>\n",
       "      <td>0.581395</td>\n",
       "      <td>0.579710</td>\n",
       "      <td>0.438503</td>\n",
       "      <td>0.480249</td>\n",
       "      <td>...</td>\n",
       "      <td>0.0</td>\n",
       "      <td>1.0</td>\n",
       "      <td>0.0</td>\n",
       "      <td>0.0</td>\n",
       "      <td>1.0</td>\n",
       "      <td>0.0</td>\n",
       "      <td>0.0</td>\n",
       "      <td>1.0</td>\n",
       "      <td>0.0</td>\n",
       "      <td>0.0</td>\n",
       "    </tr>\n",
       "    <tr>\n",
       "      <th>3</th>\n",
       "      <td>0.2</td>\n",
       "      <td>0.750000</td>\n",
       "      <td>0.558036</td>\n",
       "      <td>0.566434</td>\n",
       "      <td>0.576923</td>\n",
       "      <td>0.551724</td>\n",
       "      <td>0.581395</td>\n",
       "      <td>0.683230</td>\n",
       "      <td>0.688057</td>\n",
       "      <td>0.625780</td>\n",
       "      <td>...</td>\n",
       "      <td>0.0</td>\n",
       "      <td>1.0</td>\n",
       "      <td>0.0</td>\n",
       "      <td>0.0</td>\n",
       "      <td>0.0</td>\n",
       "      <td>1.0</td>\n",
       "      <td>0.0</td>\n",
       "      <td>0.0</td>\n",
       "      <td>0.0</td>\n",
       "      <td>1.0</td>\n",
       "    </tr>\n",
       "    <tr>\n",
       "      <th>4</th>\n",
       "      <td>0.0</td>\n",
       "      <td>0.416667</td>\n",
       "      <td>0.558036</td>\n",
       "      <td>0.482517</td>\n",
       "      <td>0.471154</td>\n",
       "      <td>0.620690</td>\n",
       "      <td>0.755814</td>\n",
       "      <td>0.807453</td>\n",
       "      <td>0.652406</td>\n",
       "      <td>0.812890</td>\n",
       "      <td>...</td>\n",
       "      <td>0.0</td>\n",
       "      <td>1.0</td>\n",
       "      <td>0.0</td>\n",
       "      <td>0.0</td>\n",
       "      <td>1.0</td>\n",
       "      <td>0.0</td>\n",
       "      <td>0.0</td>\n",
       "      <td>0.0</td>\n",
       "      <td>0.0</td>\n",
       "      <td>1.0</td>\n",
       "    </tr>\n",
       "    <tr>\n",
       "      <th>...</th>\n",
       "      <td>...</td>\n",
       "      <td>...</td>\n",
       "      <td>...</td>\n",
       "      <td>...</td>\n",
       "      <td>...</td>\n",
       "      <td>...</td>\n",
       "      <td>...</td>\n",
       "      <td>...</td>\n",
       "      <td>...</td>\n",
       "      <td>...</td>\n",
       "      <td>...</td>\n",
       "      <td>...</td>\n",
       "      <td>...</td>\n",
       "      <td>...</td>\n",
       "      <td>...</td>\n",
       "      <td>...</td>\n",
       "      <td>...</td>\n",
       "      <td>...</td>\n",
       "      <td>...</td>\n",
       "      <td>...</td>\n",
       "      <td>...</td>\n",
       "    </tr>\n",
       "    <tr>\n",
       "      <th>487</th>\n",
       "      <td>0.2</td>\n",
       "      <td>0.250000</td>\n",
       "      <td>0.546875</td>\n",
       "      <td>0.313287</td>\n",
       "      <td>0.264423</td>\n",
       "      <td>0.296552</td>\n",
       "      <td>0.523256</td>\n",
       "      <td>0.455487</td>\n",
       "      <td>0.376114</td>\n",
       "      <td>0.484407</td>\n",
       "      <td>...</td>\n",
       "      <td>0.0</td>\n",
       "      <td>1.0</td>\n",
       "      <td>0.0</td>\n",
       "      <td>1.0</td>\n",
       "      <td>0.0</td>\n",
       "      <td>0.0</td>\n",
       "      <td>0.0</td>\n",
       "      <td>0.0</td>\n",
       "      <td>1.0</td>\n",
       "      <td>0.0</td>\n",
       "    </tr>\n",
       "    <tr>\n",
       "      <th>488</th>\n",
       "      <td>0.2</td>\n",
       "      <td>0.166667</td>\n",
       "      <td>0.383929</td>\n",
       "      <td>0.089510</td>\n",
       "      <td>0.052885</td>\n",
       "      <td>0.172414</td>\n",
       "      <td>0.290698</td>\n",
       "      <td>0.134576</td>\n",
       "      <td>0.188948</td>\n",
       "      <td>0.147609</td>\n",
       "      <td>...</td>\n",
       "      <td>1.0</td>\n",
       "      <td>0.0</td>\n",
       "      <td>0.0</td>\n",
       "      <td>1.0</td>\n",
       "      <td>0.0</td>\n",
       "      <td>0.0</td>\n",
       "      <td>0.0</td>\n",
       "      <td>0.0</td>\n",
       "      <td>1.0</td>\n",
       "      <td>0.0</td>\n",
       "    </tr>\n",
       "    <tr>\n",
       "      <th>489</th>\n",
       "      <td>0.0</td>\n",
       "      <td>0.916667</td>\n",
       "      <td>0.558036</td>\n",
       "      <td>0.650350</td>\n",
       "      <td>0.682692</td>\n",
       "      <td>0.482759</td>\n",
       "      <td>0.813953</td>\n",
       "      <td>0.797101</td>\n",
       "      <td>0.688057</td>\n",
       "      <td>0.827443</td>\n",
       "      <td>...</td>\n",
       "      <td>0.0</td>\n",
       "      <td>1.0</td>\n",
       "      <td>0.0</td>\n",
       "      <td>0.0</td>\n",
       "      <td>0.0</td>\n",
       "      <td>1.0</td>\n",
       "      <td>0.0</td>\n",
       "      <td>1.0</td>\n",
       "      <td>0.0</td>\n",
       "      <td>0.0</td>\n",
       "    </tr>\n",
       "    <tr>\n",
       "      <th>490</th>\n",
       "      <td>0.2</td>\n",
       "      <td>0.666667</td>\n",
       "      <td>0.694196</td>\n",
       "      <td>0.458741</td>\n",
       "      <td>0.355769</td>\n",
       "      <td>0.234483</td>\n",
       "      <td>0.639535</td>\n",
       "      <td>0.627329</td>\n",
       "      <td>0.509804</td>\n",
       "      <td>0.563410</td>\n",
       "      <td>...</td>\n",
       "      <td>0.0</td>\n",
       "      <td>1.0</td>\n",
       "      <td>0.0</td>\n",
       "      <td>0.0</td>\n",
       "      <td>0.0</td>\n",
       "      <td>1.0</td>\n",
       "      <td>0.0</td>\n",
       "      <td>1.0</td>\n",
       "      <td>0.0</td>\n",
       "      <td>0.0</td>\n",
       "    </tr>\n",
       "    <tr>\n",
       "      <th>491</th>\n",
       "      <td>0.1</td>\n",
       "      <td>0.500000</td>\n",
       "      <td>0.383929</td>\n",
       "      <td>0.304895</td>\n",
       "      <td>0.350962</td>\n",
       "      <td>0.137931</td>\n",
       "      <td>0.313953</td>\n",
       "      <td>0.372671</td>\n",
       "      <td>0.408200</td>\n",
       "      <td>0.303534</td>\n",
       "      <td>...</td>\n",
       "      <td>1.0</td>\n",
       "      <td>0.0</td>\n",
       "      <td>0.0</td>\n",
       "      <td>0.0</td>\n",
       "      <td>1.0</td>\n",
       "      <td>0.0</td>\n",
       "      <td>0.0</td>\n",
       "      <td>1.0</td>\n",
       "      <td>0.0</td>\n",
       "      <td>0.0</td>\n",
       "    </tr>\n",
       "  </tbody>\n",
       "</table>\n",
       "<p>492 rows × 141 columns</p>\n",
       "</div>"
      ],
      "text/plain": [
       "     URINE2  COLDHEAT_S    HEIGHT    WEIGHT       BMI  BODYMEAS_8HAND1  \\\n",
       "0       0.2    0.500000  0.401786  0.272727  0.293269         0.137931   \n",
       "1       0.2    0.583333  0.334821  0.384615  0.495192         0.551724   \n",
       "2       0.2    0.500000  0.446429  0.328671  0.341346         0.413793   \n",
       "3       0.2    0.750000  0.558036  0.566434  0.576923         0.551724   \n",
       "4       0.0    0.416667  0.558036  0.482517  0.471154         0.620690   \n",
       "..      ...         ...       ...       ...       ...              ...   \n",
       "487     0.2    0.250000  0.546875  0.313287  0.264423         0.296552   \n",
       "488     0.2    0.166667  0.383929  0.089510  0.052885         0.172414   \n",
       "489     0.0    0.916667  0.558036  0.650350  0.682692         0.482759   \n",
       "490     0.2    0.666667  0.694196  0.458741  0.355769         0.234483   \n",
       "491     0.1    0.500000  0.383929  0.304895  0.350962         0.137931   \n",
       "\n",
       "     BODYMEAS_8HAND2  BODYMEAS_8HAND3  BODYMEAS_8HAND4  BODYMEAS_8HAND5  ...  \\\n",
       "0           0.348837         0.517598         0.545455         0.604990  ...   \n",
       "1           0.465116         0.600414         0.634581         0.688150  ...   \n",
       "2           0.581395         0.579710         0.438503         0.480249  ...   \n",
       "3           0.581395         0.683230         0.688057         0.625780  ...   \n",
       "4           0.755814         0.807453         0.652406         0.812890  ...   \n",
       "..               ...              ...              ...              ...  ...   \n",
       "487         0.523256         0.455487         0.376114         0.484407  ...   \n",
       "488         0.290698         0.134576         0.188948         0.147609  ...   \n",
       "489         0.813953         0.797101         0.688057         0.827443  ...   \n",
       "490         0.639535         0.627329         0.509804         0.563410  ...   \n",
       "491         0.313953         0.372671         0.408200         0.303534  ...   \n",
       "\n",
       "      99  100  101  102  103  104  105  106  107  108  \n",
       "0    0.0  1.0  0.0  0.0  1.0  0.0  0.0  1.0  0.0  0.0  \n",
       "1    0.0  0.0  1.0  0.0  0.0  1.0  0.0  0.0  0.0  1.0  \n",
       "2    0.0  1.0  0.0  0.0  1.0  0.0  0.0  1.0  0.0  0.0  \n",
       "3    0.0  1.0  0.0  0.0  0.0  1.0  0.0  0.0  0.0  1.0  \n",
       "4    0.0  1.0  0.0  0.0  1.0  0.0  0.0  0.0  0.0  1.0  \n",
       "..   ...  ...  ...  ...  ...  ...  ...  ...  ...  ...  \n",
       "487  0.0  1.0  0.0  1.0  0.0  0.0  0.0  0.0  1.0  0.0  \n",
       "488  1.0  0.0  0.0  1.0  0.0  0.0  0.0  0.0  1.0  0.0  \n",
       "489  0.0  1.0  0.0  0.0  0.0  1.0  0.0  1.0  0.0  0.0  \n",
       "490  0.0  1.0  0.0  0.0  0.0  1.0  0.0  1.0  0.0  0.0  \n",
       "491  1.0  0.0  0.0  0.0  1.0  0.0  0.0  1.0  0.0  0.0  \n",
       "\n",
       "[492 rows x 141 columns]"
      ]
     },
     "execution_count": 19,
     "metadata": {},
     "output_type": "execute_result"
    }
   ],
   "source": [
    "X_data_df = pd.concat([numeric_data_df, X_cat_binary_df, X_cat_multi_df], axis=1)\n",
    "X_data_df"
   ]
  },
  {
   "cell_type": "code",
   "execution_count": 20,
   "metadata": {},
   "outputs": [
    {
     "name": "stdout",
     "output_type": "stream",
     "text": [
      "(492, 141) (492,)\n"
     ]
    }
   ],
   "source": [
    "X_data = np.array(X_data_df)\n",
    "\n",
    "print(X_data.shape, y_data.shape)"
   ]
  },
  {
   "cell_type": "markdown",
   "metadata": {},
   "source": [
    "# Train Test Split"
   ]
  },
  {
   "cell_type": "code",
   "execution_count": 21,
   "metadata": {},
   "outputs": [
    {
     "name": "stdout",
     "output_type": "stream",
     "text": [
      "(418, 141) (418,)\n",
      "(74, 141) (74,)\n"
     ]
    }
   ],
   "source": [
    "from sklearn.model_selection import train_test_split\n",
    "\n",
    "seed = 1234\n",
    "X_train, X_test, y_train, y_test = train_test_split(X_data, y_data,\n",
    "                                                    test_size=0.15,\n",
    "                                                    stratify=y_data,\n",
    "                                                    random_state=seed)\n",
    "print(X_train.shape, y_train.shape)\n",
    "print(X_test.shape, y_test.shape)"
   ]
  },
  {
   "cell_type": "markdown",
   "metadata": {},
   "source": [
    "# Modeling"
   ]
  },
  {
   "cell_type": "markdown",
   "metadata": {},
   "source": [
    "# Decision Tree"
   ]
  },
  {
   "cell_type": "code",
   "execution_count": 22,
   "metadata": {},
   "outputs": [
    {
     "data": {
      "text/plain": [
       "DecisionTreeClassifier(random_state=1234)"
      ]
     },
     "execution_count": 22,
     "metadata": {},
     "output_type": "execute_result"
    }
   ],
   "source": [
    "from sklearn.tree import DecisionTreeClassifier\n",
    "from sklearn.metrics import accuracy_score\n",
    "from sklearn.metrics import f1_score\n",
    "\n",
    "dt = DecisionTreeClassifier(random_state=seed)\n",
    "dt.fit(X_train, y_train)"
   ]
  },
  {
   "cell_type": "code",
   "execution_count": 23,
   "metadata": {},
   "outputs": [
    {
     "name": "stdout",
     "output_type": "stream",
     "text": [
      "[1. 0. 0. 2. 2. 0. 0. 2. 2. 1.]\n"
     ]
    }
   ],
   "source": [
    "dt_pred = dt.predict(X_test)\n",
    "print(dt_pred[:10])"
   ]
  },
  {
   "cell_type": "code",
   "execution_count": 24,
   "metadata": {},
   "outputs": [
    {
     "name": "stdout",
     "output_type": "stream",
     "text": [
      "0.44594594594594594\n"
     ]
    }
   ],
   "source": [
    "dt_acc = accuracy_score(y_test, dt_pred)\n",
    "print(dt_acc)"
   ]
  },
  {
   "cell_type": "code",
   "execution_count": 25,
   "metadata": {},
   "outputs": [
    {
     "name": "stdout",
     "output_type": "stream",
     "text": [
      "0.45306901205267813\n"
     ]
    }
   ],
   "source": [
    "dt_f1 = f1_score(y_test, dt_pred, average='macro')\n",
    "print(dt_f1)"
   ]
  },
  {
   "cell_type": "markdown",
   "metadata": {},
   "source": [
    "## RandomForest"
   ]
  },
  {
   "cell_type": "code",
   "execution_count": 26,
   "metadata": {},
   "outputs": [
    {
     "data": {
      "text/plain": [
       "RandomForestClassifier(max_features='sqrt', n_estimators=300, random_state=1234)"
      ]
     },
     "execution_count": 26,
     "metadata": {},
     "output_type": "execute_result"
    }
   ],
   "source": [
    "from sklearn.ensemble import RandomForestClassifier\n",
    "\n",
    "rf = RandomForestClassifier(n_estimators=300, max_features='sqrt', \n",
    "                           random_state=seed)\n",
    "rf.fit(X_train, y_train)"
   ]
  },
  {
   "cell_type": "code",
   "execution_count": 27,
   "metadata": {},
   "outputs": [
    {
     "name": "stdout",
     "output_type": "stream",
     "text": [
      "[0. 2. 2. 1. 2. 0. 0. 0. 0. 0.]\n"
     ]
    }
   ],
   "source": [
    "rf_pred = rf.predict(X_test)\n",
    "print(rf_pred[:10])"
   ]
  },
  {
   "cell_type": "code",
   "execution_count": 28,
   "metadata": {},
   "outputs": [
    {
     "name": "stdout",
     "output_type": "stream",
     "text": [
      "0.6081081081081081\n"
     ]
    }
   ],
   "source": [
    "rf_acc = accuracy_score(y_test, rf_pred)\n",
    "print(rf_acc)"
   ]
  },
  {
   "cell_type": "code",
   "execution_count": 29,
   "metadata": {},
   "outputs": [
    {
     "name": "stdout",
     "output_type": "stream",
     "text": [
      "0.595068330362448\n"
     ]
    }
   ],
   "source": [
    "rf_f1 = f1_score(y_test, rf_pred, average='macro')\n",
    "print(rf_f1)"
   ]
  },
  {
   "cell_type": "code",
   "execution_count": 30,
   "metadata": {},
   "outputs": [
    {
     "data": {
      "image/png": "[encoded data removed]",
      "text/plain": [
       "<Figure size 576x432 with 1 Axes>"
      ]
     },
     "metadata": {
      "needs_background": "light"
     },
     "output_type": "display_data"
    }
   ],
   "source": [
    "import seaborn as sns\n",
    "\n",
    "importances_values = rf.feature_importances_\n",
    "importances = pd.Series(importances_values, index=X_data_df.columns)\n",
    "\n",
    "top20 = importances.sort_values(ascending=False)[:20]\n",
    "plt.figure(figsize=(8, 6))\n",
    "plt.title('Feature importances Top 20')\n",
    "sns.barplot(x = top20, y = top20.index)\n",
    "plt.show()"
   ]
  },
  {
   "cell_type": "markdown",
   "metadata": {},
   "source": [
    "## SVM"
   ]
  },
  {
   "cell_type": "code",
   "execution_count": 31,
   "metadata": {},
   "outputs": [
    {
     "data": {
      "text/plain": [
       "SVC(C=3, kernel='poly', probability=True, random_state=1234)"
      ]
     },
     "execution_count": 31,
     "metadata": {},
     "output_type": "execute_result"
    }
   ],
   "source": [
    "from sklearn.svm import SVC\n",
    "\n",
    "svm = SVC(C=3, kernel='poly', probability=True, random_state=seed)\n",
    "svm.fit(X_train, y_train)"
   ]
  },
  {
   "cell_type": "code",
   "execution_count": 32,
   "metadata": {},
   "outputs": [
    {
     "name": "stdout",
     "output_type": "stream",
     "text": [
      "[0. 1. 1. 0. 2. 0. 1. 2. 0. 0.]\n"
     ]
    }
   ],
   "source": [
    "svm_pred = svm.predict(X_test)\n",
    "print(svm_pred[:10])"
   ]
  },
  {
   "cell_type": "code",
   "execution_count": 33,
   "metadata": {},
   "outputs": [
    {
     "name": "stdout",
     "output_type": "stream",
     "text": [
      "0.5540540540540541\n"
     ]
    }
   ],
   "source": [
    "svm_acc = accuracy_score(y_test, svm_pred)\n",
    "print(svm_acc)"
   ]
  },
  {
   "cell_type": "code",
   "execution_count": 34,
   "metadata": {},
   "outputs": [
    {
     "name": "stdout",
     "output_type": "stream",
     "text": [
      "0.5448779447820061\n"
     ]
    }
   ],
   "source": [
    "svm_f1 = f1_score(y_test, svm_pred, average='macro')\n",
    "print(svm_f1)"
   ]
  },
  {
   "cell_type": "markdown",
   "metadata": {},
   "source": [
    "## Logistic Regression"
   ]
  },
  {
   "cell_type": "code",
   "execution_count": 35,
   "metadata": {},
   "outputs": [
    {
     "data": {
      "text/plain": [
       "LogisticRegression(penalty='l1', random_state=1234, solver='liblinear')"
      ]
     },
     "execution_count": 35,
     "metadata": {},
     "output_type": "execute_result"
    }
   ],
   "source": [
    "from sklearn.linear_model import LogisticRegression\n",
    "\n",
    "lr = LogisticRegression(penalty='l1', solver='liblinear', random_state=seed)\n",
    "lr.fit(X_train, y_train)"
   ]
  },
  {
   "cell_type": "code",
   "execution_count": 36,
   "metadata": {},
   "outputs": [
    {
     "name": "stdout",
     "output_type": "stream",
     "text": [
      "[0. 0. 1. 1. 0. 0. 0. 2. 0. 0.]\n"
     ]
    }
   ],
   "source": [
    "lr_pred = lr.predict(X_test)\n",
    "print(lr_pred[:10])"
   ]
  },
  {
   "cell_type": "code",
   "execution_count": 37,
   "metadata": {},
   "outputs": [
    {
     "name": "stdout",
     "output_type": "stream",
     "text": [
      "0.5675675675675675\n"
     ]
    }
   ],
   "source": [
    "lr_acc = accuracy_score(y_test, lr_pred)\n",
    "print(lr_acc)"
   ]
  },
  {
   "cell_type": "code",
   "execution_count": 38,
   "metadata": {},
   "outputs": [
    {
     "name": "stdout",
     "output_type": "stream",
     "text": [
      "0.5609774212715389\n"
     ]
    }
   ],
   "source": [
    "lr_f1 = f1_score(y_test, lr_pred, average='macro')\n",
    "print(lr_f1)"
   ]
  },
  {
   "cell_type": "markdown",
   "metadata": {},
   "source": [
    "## GBM"
   ]
  },
  {
   "cell_type": "code",
   "execution_count": 39,
   "metadata": {},
   "outputs": [
    {
     "name": "stdout",
     "output_type": "stream",
     "text": [
      "[1. 0. 2. 1. 0. 0. 0. 0. 0. 0.]\n"
     ]
    }
   ],
   "source": [
    "from sklearn.ensemble import GradientBoostingClassifier\n",
    "\n",
    "gbm = GradientBoostingClassifier(n_estimators=1000, max_depth=8, random_state=seed)\n",
    "gbm.fit(X_train, y_train)\n",
    "\n",
    "gbm_pred = gbm.predict(X_test)\n",
    "print(gbm_pred[:10])"
   ]
  },
  {
   "cell_type": "code",
   "execution_count": 40,
   "metadata": {},
   "outputs": [
    {
     "name": "stdout",
     "output_type": "stream",
     "text": [
      "0.6351351351351351\n"
     ]
    }
   ],
   "source": [
    "gbm_acc = accuracy_score(y_test, gbm_pred)\n",
    "print(gbm_acc)"
   ]
  },
  {
   "cell_type": "code",
   "execution_count": 41,
   "metadata": {},
   "outputs": [
    {
     "name": "stdout",
     "output_type": "stream",
     "text": [
      "0.6136864136864136\n"
     ]
    }
   ],
   "source": [
    "gbm_f1 = f1_score(y_test, gbm_pred, average='macro')\n",
    "print(gbm_f1)"
   ]
  },
  {
   "cell_type": "markdown",
   "metadata": {},
   "source": [
    "## AdaBoost"
   ]
  },
  {
   "cell_type": "code",
   "execution_count": 42,
   "metadata": {},
   "outputs": [
    {
     "name": "stdout",
     "output_type": "stream",
     "text": [
      "[0. 0. 0. 2. 2. 0. 0. 0. 0. 0.]\n"
     ]
    }
   ],
   "source": [
    "from sklearn.ensemble import AdaBoostClassifier\n",
    "\n",
    "ada = AdaBoostClassifier(n_estimators = 300, learning_rate = 0.1, random_state=seed)\n",
    "ada.fit(X_train, y_train)\n",
    "\n",
    "ada_pred = ada.predict(X_test)\n",
    "print(ada_pred[:10])"
   ]
  },
  {
   "cell_type": "code",
   "execution_count": 43,
   "metadata": {},
   "outputs": [
    {
     "name": "stdout",
     "output_type": "stream",
     "text": [
      "0.6216216216216216\n"
     ]
    }
   ],
   "source": [
    "ada_acc = accuracy_score(y_test, ada_pred)\n",
    "print(ada_acc)"
   ]
  },
  {
   "cell_type": "code",
   "execution_count": 44,
   "metadata": {},
   "outputs": [
    {
     "name": "stdout",
     "output_type": "stream",
     "text": [
      "0.6123724489795919\n"
     ]
    }
   ],
   "source": [
    "ada_f1 = f1_score(y_test, ada_pred, average='macro')\n",
    "print(ada_f1)"
   ]
  },
  {
   "cell_type": "markdown",
   "metadata": {},
   "source": [
    "## XGBoost"
   ]
  },
  {
   "cell_type": "code",
   "execution_count": 45,
   "metadata": {},
   "outputs": [
    {
     "name": "stdout",
     "output_type": "stream",
     "text": [
      "1.3.3\n",
      "[23:32:28] WARNING: /opt/concourse/worker/volumes/live/7a2b9f41-3287-451b-6691-43e9a6c0910f/volume/xgboost-split_1619728204606/work/src/learner.cc:1061: Starting in XGBoost 1.3.0, the default evaluation metric used with the objective 'multi:softprob' was changed from 'merror' to 'mlogloss'. Explicitly set eval_metric if you'd like to restore the old behavior.\n",
      "[0 0 0 1 0 0 0 0 0 0]\n"
     ]
    }
   ],
   "source": [
    "import xgboost as xgb\n",
    "print(xgb.__version__)\n",
    "\n",
    "xgb_clf = xgb.XGBClassifier(learning_rate=0.05, max_depth=15, n_estimators=1000,\n",
    "                            use_label_encoder=False, random_state=seed)\n",
    "xgb_clf.fit(X_train, y_train, verbose=False)\n",
    "\n",
    "xgb_pred = xgb_clf.predict(X_test)\n",
    "print(xgb_pred[:10])"
   ]
  },
  {
   "cell_type": "code",
   "execution_count": 46,
   "metadata": {},
   "outputs": [
    {
     "name": "stdout",
     "output_type": "stream",
     "text": [
      "0.6081081081081081\n"
     ]
    }
   ],
   "source": [
    "xgb_acc = accuracy_score(y_test, xgb_pred)\n",
    "print(xgb_acc)"
   ]
  },
  {
   "cell_type": "code",
   "execution_count": 47,
   "metadata": {},
   "outputs": [
    {
     "name": "stdout",
     "output_type": "stream",
     "text": [
      "0.571597581554057\n"
     ]
    }
   ],
   "source": [
    "xgb_f1 = f1_score(y_test, xgb_pred, average='macro')\n",
    "print(xgb_f1)"
   ]
  },
  {
   "cell_type": "code",
   "execution_count": 48,
   "metadata": {},
   "outputs": [
    {
     "data": {
      "image/png": "[encoded data removed]",
      "text/plain": [
       "<Figure size 720x864 with 1 Axes>"
      ]
     },
     "metadata": {
      "needs_background": "light"
     },
     "output_type": "display_data"
    }
   ],
   "source": [
    "from xgboost import plot_importance\n",
    "\n",
    "plot_importance(xgb_clf, max_num_features=20)\n",
    "\n",
    "fig = plt.gcf()\n",
    "fig.set_size_inches(10, 12)"
   ]
  },
  {
   "cell_type": "markdown",
   "metadata": {},
   "source": [
    "## LightGBM"
   ]
  },
  {
   "cell_type": "code",
   "execution_count": 49,
   "metadata": {},
   "outputs": [
    {
     "name": "stdout",
     "output_type": "stream",
     "text": [
      "[LightGBM] [Warning] Accuracy may be bad since you didn't explicitly set num_leaves OR 2^max_depth > num_leaves. (num_leaves=31).\n"
     ]
    },
    {
     "data": {
      "text/plain": [
       "LGBMClassifier(max_depth=8, n_estimators=1000, random_state=1234)"
      ]
     },
     "execution_count": 49,
     "metadata": {},
     "output_type": "execute_result"
    }
   ],
   "source": [
    "import lightgbm as lgb\n",
    "\n",
    "\n",
    "lgb_clf = lgb.LGBMClassifier(n_estimators=1000, max_depth=8, random_state=seed)\n",
    "lgb_clf.fit(X_train, y_train,\n",
    "            eval_set=[(X_test, y_test)],\n",
    "            early_stopping_rounds=1000,\n",
    "            verbose = False)"
   ]
  },
  {
   "cell_type": "code",
   "execution_count": 50,
   "metadata": {},
   "outputs": [
    {
     "name": "stdout",
     "output_type": "stream",
     "text": [
      "[2. 0. 0. 2. 0. 0. 0. 2. 0. 0.]\n"
     ]
    }
   ],
   "source": [
    "lgb_pred = lgb_clf.predict(X_test)\n",
    "print(lgb_pred[:10])"
   ]
  },
  {
   "cell_type": "code",
   "execution_count": 51,
   "metadata": {},
   "outputs": [
    {
     "name": "stdout",
     "output_type": "stream",
     "text": [
      "0.5945945945945946\n"
     ]
    }
   ],
   "source": [
    "lgb_acc = accuracy_score(y_test, lgb_pred)\n",
    "print(lgb_acc)"
   ]
  },
  {
   "cell_type": "code",
   "execution_count": 52,
   "metadata": {},
   "outputs": [
    {
     "name": "stdout",
     "output_type": "stream",
     "text": [
      "0.5742759303319254\n"
     ]
    }
   ],
   "source": [
    "lgb_f1 = f1_score(y_test, lgb_pred, average='macro')\n",
    "print(lgb_f1)"
   ]
  },
  {
   "cell_type": "code",
   "execution_count": 53,
   "metadata": {},
   "outputs": [
    {
     "data": {
      "text/html": [
       "<div>\n",
       "<style scoped>\n",
       "    .dataframe tbody tr th:only-of-type {\n",
       "        vertical-align: middle;\n",
       "    }\n",
       "\n",
       "    .dataframe tbody tr th {\n",
       "        vertical-align: top;\n",
       "    }\n",
       "\n",
       "    .dataframe thead th {\n",
       "        text-align: right;\n",
       "    }\n",
       "</style>\n",
       "<table border=\"1\" class=\"dataframe\">\n",
       "  <thead>\n",
       "    <tr style=\"text-align: right;\">\n",
       "      <th></th>\n",
       "      <th>Model</th>\n",
       "      <th>Accuracy</th>\n",
       "      <th>F1 Score</th>\n",
       "    </tr>\n",
       "  </thead>\n",
       "  <tbody>\n",
       "    <tr>\n",
       "      <th>4</th>\n",
       "      <td>GBM</td>\n",
       "      <td>0.635135</td>\n",
       "      <td>0.613686</td>\n",
       "    </tr>\n",
       "    <tr>\n",
       "      <th>5</th>\n",
       "      <td>AdaBoost</td>\n",
       "      <td>0.621622</td>\n",
       "      <td>0.612372</td>\n",
       "    </tr>\n",
       "    <tr>\n",
       "      <th>3</th>\n",
       "      <td>RandomForest</td>\n",
       "      <td>0.608108</td>\n",
       "      <td>0.595068</td>\n",
       "    </tr>\n",
       "    <tr>\n",
       "      <th>7</th>\n",
       "      <td>LightGBM</td>\n",
       "      <td>0.594595</td>\n",
       "      <td>0.574276</td>\n",
       "    </tr>\n",
       "    <tr>\n",
       "      <th>6</th>\n",
       "      <td>XGBoost</td>\n",
       "      <td>0.608108</td>\n",
       "      <td>0.571598</td>\n",
       "    </tr>\n",
       "    <tr>\n",
       "      <th>0</th>\n",
       "      <td>Logstic Regression</td>\n",
       "      <td>0.567568</td>\n",
       "      <td>0.560977</td>\n",
       "    </tr>\n",
       "    <tr>\n",
       "      <th>1</th>\n",
       "      <td>SVM</td>\n",
       "      <td>0.554054</td>\n",
       "      <td>0.544878</td>\n",
       "    </tr>\n",
       "    <tr>\n",
       "      <th>2</th>\n",
       "      <td>Decision Tree</td>\n",
       "      <td>0.445946</td>\n",
       "      <td>0.453069</td>\n",
       "    </tr>\n",
       "  </tbody>\n",
       "</table>\n",
       "</div>"
      ],
      "text/plain": [
       "                Model  Accuracy  F1 Score\n",
       "4                 GBM  0.635135  0.613686\n",
       "5            AdaBoost  0.621622  0.612372\n",
       "3        RandomForest  0.608108  0.595068\n",
       "7            LightGBM  0.594595  0.574276\n",
       "6             XGBoost  0.608108  0.571598\n",
       "0  Logstic Regression  0.567568  0.560977\n",
       "1                 SVM  0.554054  0.544878\n",
       "2       Decision Tree  0.445946  0.453069"
      ]
     },
     "execution_count": 53,
     "metadata": {},
     "output_type": "execute_result"
    }
   ],
   "source": [
    "model_result = pd.DataFrame({\n",
    "    'Model': ['Logstic Regression', 'SVM', 'Decision Tree', 'RandomForest',\n",
    "              'GBM', 'AdaBoost', 'XGBoost', 'LightGBM'],\n",
    "    'Accuracy': [lr_acc, svm_acc, dt_acc, rf_acc,\n",
    "              gbm_acc, ada_acc, xgb_acc, lgb_acc],\n",
    "    'F1 Score': [lr_f1, svm_f1, dt_f1, rf_f1,\n",
    "              gbm_f1, ada_f1, xgb_f1, lgb_f1]})\n",
    "model_result.sort_values(by='F1 Score', ascending=False)"
   ]
  },
  {
   "cell_type": "markdown",
   "metadata": {},
   "source": [
    "# Ensemble"
   ]
  },
  {
   "cell_type": "code",
   "execution_count": 54,
   "metadata": {},
   "outputs": [],
   "source": [
    "import torch\n",
    "from sklearn.metrics import accuracy_score, f1_score\n",
    "\n",
    "class EnsembleClassifier:\n",
    "    def __init__(self, models, voting='soft', weights=None):\n",
    "        \n",
    "        self.models = models\n",
    "        self.voting = voting\n",
    "        self.weights = weights\n",
    "        \n",
    "    def predict(self, X_test): \n",
    "        pred_list = []\n",
    "        for model in models.values():\n",
    "            pred_list.append(model.predict_proba(X_test))\n",
    "        preds = np.array(pred_list)\n",
    "        \n",
    "        if self.voting == 'soft':\n",
    "            prediction = np.average(preds, axis=0, weights=self.weights)\n",
    "        elif self.voting == 'hard':\n",
    "            pass\n",
    "        \n",
    "        return prediction\n",
    "    \n",
    "    def random_search(self, X_test, y_test, num_search):\n",
    "        weights = torch.softmax(torch.rand(num_search, len(self.models)), axis=1).numpy()\n",
    "        \n",
    "        pred_list = []\n",
    "        for model in models.values():\n",
    "            pred_list.append(model.predict_proba(X_test))\n",
    "        preds = np.array(pred_list)\n",
    "              \n",
    "        acc = []\n",
    "        f1 = []\n",
    "        for i in range(num_search):\n",
    "            prediction = np.average(preds, axis=0, weights=weights[i])\n",
    "            acc_ = accuracy_score(y_test, prediction.argmax(axis=1))\n",
    "            f1_ = f1_score(y_test, prediction.argmax(axis=1), average='macro')\n",
    "            acc.append(acc_)\n",
    "            f1.append(f1_)\n",
    "            \n",
    "        result = pd.DataFrame(weights)\n",
    "        result['Accuracy'] = acc\n",
    "        result['F1 Score'] = f1\n",
    "\n",
    "        return result.sort_values('F1 Score', ascending=False)"
   ]
  },
  {
   "cell_type": "code",
   "execution_count": 55,
   "metadata": {},
   "outputs": [
    {
     "data": {
      "text/html": [
       "<div>\n",
       "<style scoped>\n",
       "    .dataframe tbody tr th:only-of-type {\n",
       "        vertical-align: middle;\n",
       "    }\n",
       "\n",
       "    .dataframe tbody tr th {\n",
       "        vertical-align: top;\n",
       "    }\n",
       "\n",
       "    .dataframe thead th {\n",
       "        text-align: right;\n",
       "    }\n",
       "</style>\n",
       "<table border=\"1\" class=\"dataframe\">\n",
       "  <thead>\n",
       "    <tr style=\"text-align: right;\">\n",
       "      <th></th>\n",
       "      <th>0</th>\n",
       "      <th>1</th>\n",
       "      <th>2</th>\n",
       "      <th>Accuracy</th>\n",
       "      <th>F1 Score</th>\n",
       "    </tr>\n",
       "  </thead>\n",
       "  <tbody>\n",
       "    <tr>\n",
       "      <th>3462</th>\n",
       "      <td>0.562514</td>\n",
       "      <td>0.224836</td>\n",
       "      <td>0.212650</td>\n",
       "      <td>0.635135</td>\n",
       "      <td>0.605390</td>\n",
       "    </tr>\n",
       "    <tr>\n",
       "      <th>5756</th>\n",
       "      <td>0.571359</td>\n",
       "      <td>0.216969</td>\n",
       "      <td>0.211673</td>\n",
       "      <td>0.635135</td>\n",
       "      <td>0.605390</td>\n",
       "    </tr>\n",
       "    <tr>\n",
       "      <th>26253</th>\n",
       "      <td>0.566199</td>\n",
       "      <td>0.214365</td>\n",
       "      <td>0.219436</td>\n",
       "      <td>0.635135</td>\n",
       "      <td>0.605390</td>\n",
       "    </tr>\n",
       "    <tr>\n",
       "      <th>26264</th>\n",
       "      <td>0.564503</td>\n",
       "      <td>0.222000</td>\n",
       "      <td>0.213497</td>\n",
       "      <td>0.635135</td>\n",
       "      <td>0.605390</td>\n",
       "    </tr>\n",
       "    <tr>\n",
       "      <th>24474</th>\n",
       "      <td>0.557635</td>\n",
       "      <td>0.229197</td>\n",
       "      <td>0.213168</td>\n",
       "      <td>0.635135</td>\n",
       "      <td>0.605390</td>\n",
       "    </tr>\n",
       "    <tr>\n",
       "      <th>...</th>\n",
       "      <td>...</td>\n",
       "      <td>...</td>\n",
       "      <td>...</td>\n",
       "      <td>...</td>\n",
       "      <td>...</td>\n",
       "    </tr>\n",
       "    <tr>\n",
       "      <th>3526</th>\n",
       "      <td>0.374800</td>\n",
       "      <td>0.416088</td>\n",
       "      <td>0.209112</td>\n",
       "      <td>0.554054</td>\n",
       "      <td>0.524788</td>\n",
       "    </tr>\n",
       "    <tr>\n",
       "      <th>10106</th>\n",
       "      <td>0.376924</td>\n",
       "      <td>0.409311</td>\n",
       "      <td>0.213765</td>\n",
       "      <td>0.554054</td>\n",
       "      <td>0.524788</td>\n",
       "    </tr>\n",
       "    <tr>\n",
       "      <th>18171</th>\n",
       "      <td>0.376342</td>\n",
       "      <td>0.439416</td>\n",
       "      <td>0.184242</td>\n",
       "      <td>0.554054</td>\n",
       "      <td>0.524788</td>\n",
       "    </tr>\n",
       "    <tr>\n",
       "      <th>16746</th>\n",
       "      <td>0.380093</td>\n",
       "      <td>0.412737</td>\n",
       "      <td>0.207169</td>\n",
       "      <td>0.554054</td>\n",
       "      <td>0.524788</td>\n",
       "    </tr>\n",
       "    <tr>\n",
       "      <th>18950</th>\n",
       "      <td>0.377518</td>\n",
       "      <td>0.438510</td>\n",
       "      <td>0.183972</td>\n",
       "      <td>0.554054</td>\n",
       "      <td>0.524788</td>\n",
       "    </tr>\n",
       "  </tbody>\n",
       "</table>\n",
       "<p>30000 rows × 5 columns</p>\n",
       "</div>"
      ],
      "text/plain": [
       "              0         1         2  Accuracy  F1 Score\n",
       "3462   0.562514  0.224836  0.212650  0.635135  0.605390\n",
       "5756   0.571359  0.216969  0.211673  0.635135  0.605390\n",
       "26253  0.566199  0.214365  0.219436  0.635135  0.605390\n",
       "26264  0.564503  0.222000  0.213497  0.635135  0.605390\n",
       "24474  0.557635  0.229197  0.213168  0.635135  0.605390\n",
       "...         ...       ...       ...       ...       ...\n",
       "3526   0.374800  0.416088  0.209112  0.554054  0.524788\n",
       "10106  0.376924  0.409311  0.213765  0.554054  0.524788\n",
       "18171  0.376342  0.439416  0.184242  0.554054  0.524788\n",
       "16746  0.380093  0.412737  0.207169  0.554054  0.524788\n",
       "18950  0.377518  0.438510  0.183972  0.554054  0.524788\n",
       "\n",
       "[30000 rows x 5 columns]"
      ]
     },
     "execution_count": 55,
     "metadata": {},
     "output_type": "execute_result"
    }
   ],
   "source": [
    "models = {'RandomForest' : rf, 'LightGBM' : lgb_clf, 'XGBoost' : xgb_clf}\n",
    "\n",
    "ensemble = EnsembleClassifier(models, voting='soft', weights=None)\n",
    "result = ensemble.random_search(X_test, y_test, 30000)\n",
    "result"
   ]
  },
  {
   "cell_type": "code",
   "execution_count": 56,
   "metadata": {},
   "outputs": [
    {
     "name": "stdout",
     "output_type": "stream",
     "text": [
      "[0.563, 0.225, 0.213]\n"
     ]
    }
   ],
   "source": [
    "optimal_weight = np.round(result.iloc[0,:-2], 3).tolist()\n",
    "print(optimal_weight)"
   ]
  },
  {
   "cell_type": "code",
   "execution_count": 57,
   "metadata": {},
   "outputs": [
    {
     "name": "stdout",
     "output_type": "stream",
     "text": [
      "[[0.41099304 0.32055972 0.26844724]\n",
      " [0.51723881 0.22795093 0.25481026]\n",
      " [0.36515234 0.31374561 0.32110204]\n",
      " [0.23663387 0.41696461 0.34640152]\n",
      " [0.51097872 0.13353627 0.355485  ]\n",
      " [0.68248179 0.12184568 0.19567255]\n",
      " [0.69976715 0.11152899 0.18870386]\n",
      " [0.48394361 0.08776408 0.4282923 ]\n",
      " [0.73500158 0.05218273 0.21281568]\n",
      " [0.75873775 0.0773897  0.16387256]]\n"
     ]
    }
   ],
   "source": [
    "ensemble = EnsembleClassifier(models, weights=optimal_weight)\n",
    "\n",
    "preds = ensemble.predict(X_test)\n",
    "print(preds[:10])"
   ]
  },
  {
   "cell_type": "code",
   "execution_count": 58,
   "metadata": {},
   "outputs": [
    {
     "name": "stdout",
     "output_type": "stream",
     "text": [
      "앙상블 모델 정확도: 0.6351\n",
      "앙상블 모델 F1-score: 0.6054\n"
     ]
    }
   ],
   "source": [
    "accuracy = accuracy_score(y_test, preds.argmax(axis=1))\n",
    "f1 = f1_score(y_test, preds.argmax(axis=1), average='macro')\n",
    "print('앙상블 모델 정확도: {:.4f}'.format(accuracy))\n",
    "print('앙상블 모델 F1-score: {:.4f}'.format(f1))"
   ]
  },
  {
   "cell_type": "code",
   "execution_count": null,
   "metadata": {},
   "outputs": [],
   "source": []
  },
  {
   "cell_type": "code",
   "execution_count": null,
   "metadata": {},
   "outputs": [],
   "source": []
  }
 ],
 "metadata": {
  "kernelspec": {
   "display_name": "Python 3",
   "language": "python",
   "name": "python3"
  },
  "language_info": {
   "codemirror_mode": {
    "name": "ipython",
    "version": 3
   },
   "file_extension": ".py",
   "mimetype": "text/x-python",
   "name": "python",
   "nbconvert_exporter": "python",
   "pygments_lexer": "ipython3",
   "version": "3.8.5"
  }
 },
 "nbformat": 4,
 "nbformat_minor": 4
}
