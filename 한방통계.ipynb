{
 "cells": [
  {
   "cell_type": "code",
   "execution_count": 1,
   "metadata": {},
   "outputs": [
    {
     "data": {
      "text/html": [
       "<div>\n",
       "<style scoped>\n",
       "    .dataframe tbody tr th:only-of-type {\n",
       "        vertical-align: middle;\n",
       "    }\n",
       "\n",
       "    .dataframe tbody tr th {\n",
       "        vertical-align: top;\n",
       "    }\n",
       "\n",
       "    .dataframe thead th {\n",
       "        text-align: right;\n",
       "    }\n",
       "</style>\n",
       "<table border=\"1\" class=\"dataframe\">\n",
       "  <thead>\n",
       "    <tr style=\"text-align: right;\">\n",
       "      <th></th>\n",
       "      <th>SEX</th>\n",
       "      <th>AGE</th>\n",
       "      <th>JOB</th>\n",
       "      <th>EDUCATION</th>\n",
       "      <th>MARRIAGE</th>\n",
       "      <th>DRINK</th>\n",
       "      <th>SMOKE</th>\n",
       "      <th>CHARACTER1</th>\n",
       "      <th>CHARACTER2</th>\n",
       "      <th>CHARACTER3</th>\n",
       "      <th>...</th>\n",
       "      <th>BODYMEAS_8HAND6</th>\n",
       "      <th>BODYMEAS_8HAND7</th>\n",
       "      <th>BODYMEAS_8HAND8</th>\n",
       "      <th>SYSTOLICBP</th>\n",
       "      <th>DIASTOLICBP</th>\n",
       "      <th>GLUCOSE</th>\n",
       "      <th>T_CHOL</th>\n",
       "      <th>TG</th>\n",
       "      <th>HDL_CHOL</th>\n",
       "      <th>LDL_CHOL</th>\n",
       "    </tr>\n",
       "    <tr>\n",
       "      <th>ID</th>\n",
       "      <th></th>\n",
       "      <th></th>\n",
       "      <th></th>\n",
       "      <th></th>\n",
       "      <th></th>\n",
       "      <th></th>\n",
       "      <th></th>\n",
       "      <th></th>\n",
       "      <th></th>\n",
       "      <th></th>\n",
       "      <th></th>\n",
       "      <th></th>\n",
       "      <th></th>\n",
       "      <th></th>\n",
       "      <th></th>\n",
       "      <th></th>\n",
       "      <th></th>\n",
       "      <th></th>\n",
       "      <th></th>\n",
       "      <th></th>\n",
       "      <th></th>\n",
       "    </tr>\n",
       "  </thead>\n",
       "  <tbody>\n",
       "    <tr>\n",
       "      <th>KDCT00001</th>\n",
       "      <td>2</td>\n",
       "      <td>48.666</td>\n",
       "      <td>2</td>\n",
       "      <td>5</td>\n",
       "      <td>2</td>\n",
       "      <td>999</td>\n",
       "      <td>999</td>\n",
       "      <td>2</td>\n",
       "      <td>2</td>\n",
       "      <td>1</td>\n",
       "      <td>...</td>\n",
       "      <td>82.0</td>\n",
       "      <td>91.0</td>\n",
       "      <td>96.0</td>\n",
       "      <td>120</td>\n",
       "      <td>80</td>\n",
       "      <td>104</td>\n",
       "      <td>219</td>\n",
       "      <td>72</td>\n",
       "      <td>60</td>\n",
       "      <td>128</td>\n",
       "    </tr>\n",
       "    <tr>\n",
       "      <th>KDCT00002</th>\n",
       "      <td>2</td>\n",
       "      <td>80.773</td>\n",
       "      <td>14</td>\n",
       "      <td>3</td>\n",
       "      <td>2</td>\n",
       "      <td>999</td>\n",
       "      <td>999</td>\n",
       "      <td>1</td>\n",
       "      <td>1</td>\n",
       "      <td>1</td>\n",
       "      <td>...</td>\n",
       "      <td>92.0</td>\n",
       "      <td>96.0</td>\n",
       "      <td>99.0</td>\n",
       "      <td>124</td>\n",
       "      <td>65</td>\n",
       "      <td>110</td>\n",
       "      <td>199</td>\n",
       "      <td>97</td>\n",
       "      <td>46</td>\n",
       "      <td>114</td>\n",
       "    </tr>\n",
       "    <tr>\n",
       "      <th>KDCT00003</th>\n",
       "      <td>1</td>\n",
       "      <td>50.008</td>\n",
       "      <td>3</td>\n",
       "      <td>3</td>\n",
       "      <td>2</td>\n",
       "      <td>999</td>\n",
       "      <td>999</td>\n",
       "      <td>3</td>\n",
       "      <td>1</td>\n",
       "      <td>1</td>\n",
       "      <td>...</td>\n",
       "      <td>80.0</td>\n",
       "      <td>81.0</td>\n",
       "      <td>81.0</td>\n",
       "      <td>121</td>\n",
       "      <td>75</td>\n",
       "      <td>79</td>\n",
       "      <td>216</td>\n",
       "      <td>88</td>\n",
       "      <td>49</td>\n",
       "      <td>132</td>\n",
       "    </tr>\n",
       "    <tr>\n",
       "      <th>KDCT00004</th>\n",
       "      <td>2</td>\n",
       "      <td>50.551</td>\n",
       "      <td>14</td>\n",
       "      <td>4</td>\n",
       "      <td>2</td>\n",
       "      <td>999</td>\n",
       "      <td>999</td>\n",
       "      <td>1</td>\n",
       "      <td>1</td>\n",
       "      <td>1</td>\n",
       "      <td>...</td>\n",
       "      <td>91.0</td>\n",
       "      <td>94.0</td>\n",
       "      <td>99.0</td>\n",
       "      <td>113</td>\n",
       "      <td>81</td>\n",
       "      <td>100</td>\n",
       "      <td>218</td>\n",
       "      <td>136</td>\n",
       "      <td>44</td>\n",
       "      <td>136</td>\n",
       "    </tr>\n",
       "    <tr>\n",
       "      <th>KDCT00005</th>\n",
       "      <td>1</td>\n",
       "      <td>49.581</td>\n",
       "      <td>8</td>\n",
       "      <td>2</td>\n",
       "      <td>2</td>\n",
       "      <td>999</td>\n",
       "      <td>999</td>\n",
       "      <td>3</td>\n",
       "      <td>2</td>\n",
       "      <td>3</td>\n",
       "      <td>...</td>\n",
       "      <td>98.0</td>\n",
       "      <td>98.0</td>\n",
       "      <td>100.0</td>\n",
       "      <td>129</td>\n",
       "      <td>72</td>\n",
       "      <td>92</td>\n",
       "      <td>186</td>\n",
       "      <td>61</td>\n",
       "      <td>33</td>\n",
       "      <td>118</td>\n",
       "    </tr>\n",
       "  </tbody>\n",
       "</table>\n",
       "<p>5 rows × 72 columns</p>\n",
       "</div>"
      ],
      "text/plain": [
       "           SEX     AGE  JOB  EDUCATION  MARRIAGE  DRINK  SMOKE  CHARACTER1  \\\n",
       "ID                                                                           \n",
       "KDCT00001    2  48.666    2          5         2    999    999           2   \n",
       "KDCT00002    2  80.773   14          3         2    999    999           1   \n",
       "KDCT00003    1  50.008    3          3         2    999    999           3   \n",
       "KDCT00004    2  50.551   14          4         2    999    999           1   \n",
       "KDCT00005    1  49.581    8          2         2    999    999           3   \n",
       "\n",
       "           CHARACTER2  CHARACTER3  ...  BODYMEAS_8HAND6  BODYMEAS_8HAND7  \\\n",
       "ID                                 ...                                     \n",
       "KDCT00001           2           1  ...             82.0             91.0   \n",
       "KDCT00002           1           1  ...             92.0             96.0   \n",
       "KDCT00003           1           1  ...             80.0             81.0   \n",
       "KDCT00004           1           1  ...             91.0             94.0   \n",
       "KDCT00005           2           3  ...             98.0             98.0   \n",
       "\n",
       "           BODYMEAS_8HAND8  SYSTOLICBP  DIASTOLICBP  GLUCOSE  T_CHOL   TG  \\\n",
       "ID                                                                          \n",
       "KDCT00001             96.0         120           80      104     219   72   \n",
       "KDCT00002             99.0         124           65      110     199   97   \n",
       "KDCT00003             81.0         121           75       79     216   88   \n",
       "KDCT00004             99.0         113           81      100     218  136   \n",
       "KDCT00005            100.0         129           72       92     186   61   \n",
       "\n",
       "           HDL_CHOL  LDL_CHOL  \n",
       "ID                             \n",
       "KDCT00001        60       128  \n",
       "KDCT00002        46       114  \n",
       "KDCT00003        49       132  \n",
       "KDCT00004        44       136  \n",
       "KDCT00005        33       118  \n",
       "\n",
       "[5 rows x 72 columns]"
      ]
     },
     "execution_count": 1,
     "metadata": {},
     "output_type": "execute_result"
    }
   ],
   "source": [
    "import pandas as pd\n",
    "import numpy as np\n",
    "import matplotlib.pyplot as plt\n",
    "%matplotlib inline\n",
    "\n",
    "data = pd.read_excel('KDC 교육용 DATASET_공개.xlsx')\n",
    "data.set_index('ID', inplace=True)\n",
    "data.head()"
   ]
  },
  {
   "cell_type": "code",
   "execution_count": 2,
   "metadata": {},
   "outputs": [
    {
     "data": {
      "text/plain": [
       "DRINK          474\n",
       "SMOKE          474\n",
       "STOOL12_7      233\n",
       "STOOL12_8      233\n",
       "DIET4           79\n",
       "DIET7           26\n",
       "HDL_CHOL         3\n",
       "LDL_CHOL         3\n",
       "GLUCOSE          3\n",
       "T_CHOL           3\n",
       "TG               3\n",
       "SWEAT3           2\n",
       "CHARACTER7       1\n",
       "HEALTH1          1\n",
       "COLDHEAT_G       1\n",
       "CHARACTER8       1\n",
       "COLDHEAT_S       1\n",
       "WATER1           1\n",
       "CHARACTER15      0\n",
       "SWEAT1           0\n",
       "dtype: int64"
      ]
     },
     "execution_count": 2,
     "metadata": {},
     "output_type": "execute_result"
    }
   ],
   "source": [
    "X_data = data.replace([888,999], np.nan)\n",
    "X_data.isnull().sum().sort_values(ascending=False)[:20]"
   ]
  },
  {
   "cell_type": "code",
   "execution_count": 3,
   "metadata": {},
   "outputs": [],
   "source": [
    "X_data['SLEEP3_1'] = X_data['SLEEP3_1'] + X_data['SLEEP3_2'] / 60"
   ]
  },
  {
   "cell_type": "code",
   "execution_count": 4,
   "metadata": {},
   "outputs": [
    {
     "data": {
      "text/html": [
       "<div>\n",
       "<style scoped>\n",
       "    .dataframe tbody tr th:only-of-type {\n",
       "        vertical-align: middle;\n",
       "    }\n",
       "\n",
       "    .dataframe tbody tr th {\n",
       "        vertical-align: top;\n",
       "    }\n",
       "\n",
       "    .dataframe thead th {\n",
       "        text-align: right;\n",
       "    }\n",
       "</style>\n",
       "<table border=\"1\" class=\"dataframe\">\n",
       "  <thead>\n",
       "    <tr style=\"text-align: right;\">\n",
       "      <th></th>\n",
       "      <th>SEX</th>\n",
       "      <th>AGE</th>\n",
       "      <th>JOB</th>\n",
       "      <th>EDUCATION</th>\n",
       "      <th>MARRIAGE</th>\n",
       "      <th>CHARACTER1</th>\n",
       "      <th>CHARACTER2</th>\n",
       "      <th>CHARACTER3</th>\n",
       "      <th>CHARACTER4</th>\n",
       "      <th>CHARACTER5</th>\n",
       "      <th>...</th>\n",
       "      <th>BODYMEAS_8HAND6</th>\n",
       "      <th>BODYMEAS_8HAND7</th>\n",
       "      <th>BODYMEAS_8HAND8</th>\n",
       "      <th>SYSTOLICBP</th>\n",
       "      <th>DIASTOLICBP</th>\n",
       "      <th>GLUCOSE</th>\n",
       "      <th>T_CHOL</th>\n",
       "      <th>TG</th>\n",
       "      <th>HDL_CHOL</th>\n",
       "      <th>LDL_CHOL</th>\n",
       "    </tr>\n",
       "    <tr>\n",
       "      <th>ID</th>\n",
       "      <th></th>\n",
       "      <th></th>\n",
       "      <th></th>\n",
       "      <th></th>\n",
       "      <th></th>\n",
       "      <th></th>\n",
       "      <th></th>\n",
       "      <th></th>\n",
       "      <th></th>\n",
       "      <th></th>\n",
       "      <th></th>\n",
       "      <th></th>\n",
       "      <th></th>\n",
       "      <th></th>\n",
       "      <th></th>\n",
       "      <th></th>\n",
       "      <th></th>\n",
       "      <th></th>\n",
       "      <th></th>\n",
       "      <th></th>\n",
       "      <th></th>\n",
       "    </tr>\n",
       "  </thead>\n",
       "  <tbody>\n",
       "    <tr>\n",
       "      <th>KDCT00001</th>\n",
       "      <td>2</td>\n",
       "      <td>48.666</td>\n",
       "      <td>2</td>\n",
       "      <td>5</td>\n",
       "      <td>2</td>\n",
       "      <td>2</td>\n",
       "      <td>2</td>\n",
       "      <td>1</td>\n",
       "      <td>2</td>\n",
       "      <td>1</td>\n",
       "      <td>...</td>\n",
       "      <td>82.0</td>\n",
       "      <td>91.0</td>\n",
       "      <td>96.0</td>\n",
       "      <td>120</td>\n",
       "      <td>80</td>\n",
       "      <td>104.0</td>\n",
       "      <td>219.0</td>\n",
       "      <td>72.0</td>\n",
       "      <td>60.0</td>\n",
       "      <td>128.0</td>\n",
       "    </tr>\n",
       "    <tr>\n",
       "      <th>KDCT00002</th>\n",
       "      <td>2</td>\n",
       "      <td>80.773</td>\n",
       "      <td>14</td>\n",
       "      <td>3</td>\n",
       "      <td>2</td>\n",
       "      <td>1</td>\n",
       "      <td>1</td>\n",
       "      <td>1</td>\n",
       "      <td>1</td>\n",
       "      <td>1</td>\n",
       "      <td>...</td>\n",
       "      <td>92.0</td>\n",
       "      <td>96.0</td>\n",
       "      <td>99.0</td>\n",
       "      <td>124</td>\n",
       "      <td>65</td>\n",
       "      <td>110.0</td>\n",
       "      <td>199.0</td>\n",
       "      <td>97.0</td>\n",
       "      <td>46.0</td>\n",
       "      <td>114.0</td>\n",
       "    </tr>\n",
       "    <tr>\n",
       "      <th>KDCT00003</th>\n",
       "      <td>1</td>\n",
       "      <td>50.008</td>\n",
       "      <td>3</td>\n",
       "      <td>3</td>\n",
       "      <td>2</td>\n",
       "      <td>3</td>\n",
       "      <td>1</td>\n",
       "      <td>1</td>\n",
       "      <td>1</td>\n",
       "      <td>1</td>\n",
       "      <td>...</td>\n",
       "      <td>80.0</td>\n",
       "      <td>81.0</td>\n",
       "      <td>81.0</td>\n",
       "      <td>121</td>\n",
       "      <td>75</td>\n",
       "      <td>79.0</td>\n",
       "      <td>216.0</td>\n",
       "      <td>88.0</td>\n",
       "      <td>49.0</td>\n",
       "      <td>132.0</td>\n",
       "    </tr>\n",
       "    <tr>\n",
       "      <th>KDCT00004</th>\n",
       "      <td>2</td>\n",
       "      <td>50.551</td>\n",
       "      <td>14</td>\n",
       "      <td>4</td>\n",
       "      <td>2</td>\n",
       "      <td>1</td>\n",
       "      <td>1</td>\n",
       "      <td>1</td>\n",
       "      <td>1</td>\n",
       "      <td>1</td>\n",
       "      <td>...</td>\n",
       "      <td>91.0</td>\n",
       "      <td>94.0</td>\n",
       "      <td>99.0</td>\n",
       "      <td>113</td>\n",
       "      <td>81</td>\n",
       "      <td>100.0</td>\n",
       "      <td>218.0</td>\n",
       "      <td>136.0</td>\n",
       "      <td>44.0</td>\n",
       "      <td>136.0</td>\n",
       "    </tr>\n",
       "    <tr>\n",
       "      <th>KDCT00005</th>\n",
       "      <td>1</td>\n",
       "      <td>49.581</td>\n",
       "      <td>8</td>\n",
       "      <td>2</td>\n",
       "      <td>2</td>\n",
       "      <td>3</td>\n",
       "      <td>2</td>\n",
       "      <td>3</td>\n",
       "      <td>2</td>\n",
       "      <td>2</td>\n",
       "      <td>...</td>\n",
       "      <td>98.0</td>\n",
       "      <td>98.0</td>\n",
       "      <td>100.0</td>\n",
       "      <td>129</td>\n",
       "      <td>72</td>\n",
       "      <td>92.0</td>\n",
       "      <td>186.0</td>\n",
       "      <td>61.0</td>\n",
       "      <td>33.0</td>\n",
       "      <td>118.0</td>\n",
       "    </tr>\n",
       "    <tr>\n",
       "      <th>...</th>\n",
       "      <td>...</td>\n",
       "      <td>...</td>\n",
       "      <td>...</td>\n",
       "      <td>...</td>\n",
       "      <td>...</td>\n",
       "      <td>...</td>\n",
       "      <td>...</td>\n",
       "      <td>...</td>\n",
       "      <td>...</td>\n",
       "      <td>...</td>\n",
       "      <td>...</td>\n",
       "      <td>...</td>\n",
       "      <td>...</td>\n",
       "      <td>...</td>\n",
       "      <td>...</td>\n",
       "      <td>...</td>\n",
       "      <td>...</td>\n",
       "      <td>...</td>\n",
       "      <td>...</td>\n",
       "      <td>...</td>\n",
       "      <td>...</td>\n",
       "    </tr>\n",
       "    <tr>\n",
       "      <th>KDCT00496</th>\n",
       "      <td>1</td>\n",
       "      <td>50.682</td>\n",
       "      <td>3</td>\n",
       "      <td>5</td>\n",
       "      <td>2</td>\n",
       "      <td>3</td>\n",
       "      <td>1</td>\n",
       "      <td>2</td>\n",
       "      <td>2</td>\n",
       "      <td>1</td>\n",
       "      <td>...</td>\n",
       "      <td>74.5</td>\n",
       "      <td>80.0</td>\n",
       "      <td>88.0</td>\n",
       "      <td>120</td>\n",
       "      <td>80</td>\n",
       "      <td>71.0</td>\n",
       "      <td>190.0</td>\n",
       "      <td>75.0</td>\n",
       "      <td>73.0</td>\n",
       "      <td>101.0</td>\n",
       "    </tr>\n",
       "    <tr>\n",
       "      <th>KDCT00497</th>\n",
       "      <td>2</td>\n",
       "      <td>42.542</td>\n",
       "      <td>3</td>\n",
       "      <td>5</td>\n",
       "      <td>2</td>\n",
       "      <td>3</td>\n",
       "      <td>1</td>\n",
       "      <td>3</td>\n",
       "      <td>3</td>\n",
       "      <td>1</td>\n",
       "      <td>...</td>\n",
       "      <td>64.5</td>\n",
       "      <td>76.0</td>\n",
       "      <td>79.0</td>\n",
       "      <td>110</td>\n",
       "      <td>70</td>\n",
       "      <td>74.0</td>\n",
       "      <td>246.0</td>\n",
       "      <td>86.0</td>\n",
       "      <td>104.0</td>\n",
       "      <td>117.0</td>\n",
       "    </tr>\n",
       "    <tr>\n",
       "      <th>KDCT00498</th>\n",
       "      <td>1</td>\n",
       "      <td>48.797</td>\n",
       "      <td>7</td>\n",
       "      <td>5</td>\n",
       "      <td>2</td>\n",
       "      <td>3</td>\n",
       "      <td>2</td>\n",
       "      <td>2</td>\n",
       "      <td>2</td>\n",
       "      <td>2</td>\n",
       "      <td>...</td>\n",
       "      <td>95.0</td>\n",
       "      <td>96.5</td>\n",
       "      <td>97.5</td>\n",
       "      <td>150</td>\n",
       "      <td>100</td>\n",
       "      <td>125.0</td>\n",
       "      <td>246.0</td>\n",
       "      <td>220.0</td>\n",
       "      <td>74.0</td>\n",
       "      <td>154.0</td>\n",
       "    </tr>\n",
       "    <tr>\n",
       "      <th>KDCT00499</th>\n",
       "      <td>1</td>\n",
       "      <td>51.263</td>\n",
       "      <td>7</td>\n",
       "      <td>4</td>\n",
       "      <td>2</td>\n",
       "      <td>3</td>\n",
       "      <td>2</td>\n",
       "      <td>1</td>\n",
       "      <td>1</td>\n",
       "      <td>1</td>\n",
       "      <td>...</td>\n",
       "      <td>86.0</td>\n",
       "      <td>89.5</td>\n",
       "      <td>91.4</td>\n",
       "      <td>110</td>\n",
       "      <td>80</td>\n",
       "      <td>85.0</td>\n",
       "      <td>172.0</td>\n",
       "      <td>127.0</td>\n",
       "      <td>49.0</td>\n",
       "      <td>109.0</td>\n",
       "    </tr>\n",
       "    <tr>\n",
       "      <th>KDCT00500</th>\n",
       "      <td>2</td>\n",
       "      <td>53.767</td>\n",
       "      <td>5</td>\n",
       "      <td>3</td>\n",
       "      <td>2</td>\n",
       "      <td>2</td>\n",
       "      <td>1</td>\n",
       "      <td>1</td>\n",
       "      <td>2</td>\n",
       "      <td>1</td>\n",
       "      <td>...</td>\n",
       "      <td>76.2</td>\n",
       "      <td>87.3</td>\n",
       "      <td>91.0</td>\n",
       "      <td>120</td>\n",
       "      <td>80</td>\n",
       "      <td>84.0</td>\n",
       "      <td>279.0</td>\n",
       "      <td>157.0</td>\n",
       "      <td>84.0</td>\n",
       "      <td>171.0</td>\n",
       "    </tr>\n",
       "  </tbody>\n",
       "</table>\n",
       "<p>500 rows × 66 columns</p>\n",
       "</div>"
      ],
      "text/plain": [
       "           SEX     AGE  JOB  EDUCATION  MARRIAGE  CHARACTER1  CHARACTER2  \\\n",
       "ID                                                                         \n",
       "KDCT00001    2  48.666    2          5         2           2           2   \n",
       "KDCT00002    2  80.773   14          3         2           1           1   \n",
       "KDCT00003    1  50.008    3          3         2           3           1   \n",
       "KDCT00004    2  50.551   14          4         2           1           1   \n",
       "KDCT00005    1  49.581    8          2         2           3           2   \n",
       "...        ...     ...  ...        ...       ...         ...         ...   \n",
       "KDCT00496    1  50.682    3          5         2           3           1   \n",
       "KDCT00497    2  42.542    3          5         2           3           1   \n",
       "KDCT00498    1  48.797    7          5         2           3           2   \n",
       "KDCT00499    1  51.263    7          4         2           3           2   \n",
       "KDCT00500    2  53.767    5          3         2           2           1   \n",
       "\n",
       "           CHARACTER3  CHARACTER4  CHARACTER5  ...  BODYMEAS_8HAND6  \\\n",
       "ID                                             ...                    \n",
       "KDCT00001           1           2           1  ...             82.0   \n",
       "KDCT00002           1           1           1  ...             92.0   \n",
       "KDCT00003           1           1           1  ...             80.0   \n",
       "KDCT00004           1           1           1  ...             91.0   \n",
       "KDCT00005           3           2           2  ...             98.0   \n",
       "...               ...         ...         ...  ...              ...   \n",
       "KDCT00496           2           2           1  ...             74.5   \n",
       "KDCT00497           3           3           1  ...             64.5   \n",
       "KDCT00498           2           2           2  ...             95.0   \n",
       "KDCT00499           1           1           1  ...             86.0   \n",
       "KDCT00500           1           2           1  ...             76.2   \n",
       "\n",
       "           BODYMEAS_8HAND7  BODYMEAS_8HAND8  SYSTOLICBP  DIASTOLICBP  GLUCOSE  \\\n",
       "ID                                                                              \n",
       "KDCT00001             91.0             96.0         120           80    104.0   \n",
       "KDCT00002             96.0             99.0         124           65    110.0   \n",
       "KDCT00003             81.0             81.0         121           75     79.0   \n",
       "KDCT00004             94.0             99.0         113           81    100.0   \n",
       "KDCT00005             98.0            100.0         129           72     92.0   \n",
       "...                    ...              ...         ...          ...      ...   \n",
       "KDCT00496             80.0             88.0         120           80     71.0   \n",
       "KDCT00497             76.0             79.0         110           70     74.0   \n",
       "KDCT00498             96.5             97.5         150          100    125.0   \n",
       "KDCT00499             89.5             91.4         110           80     85.0   \n",
       "KDCT00500             87.3             91.0         120           80     84.0   \n",
       "\n",
       "           T_CHOL     TG  HDL_CHOL  LDL_CHOL  \n",
       "ID                                            \n",
       "KDCT00001   219.0   72.0      60.0     128.0  \n",
       "KDCT00002   199.0   97.0      46.0     114.0  \n",
       "KDCT00003   216.0   88.0      49.0     132.0  \n",
       "KDCT00004   218.0  136.0      44.0     136.0  \n",
       "KDCT00005   186.0   61.0      33.0     118.0  \n",
       "...           ...    ...       ...       ...  \n",
       "KDCT00496   190.0   75.0      73.0     101.0  \n",
       "KDCT00497   246.0   86.0     104.0     117.0  \n",
       "KDCT00498   246.0  220.0      74.0     154.0  \n",
       "KDCT00499   172.0  127.0      49.0     109.0  \n",
       "KDCT00500   279.0  157.0      84.0     171.0  \n",
       "\n",
       "[500 rows x 66 columns]"
      ]
     },
     "execution_count": 4,
     "metadata": {},
     "output_type": "execute_result"
    }
   ],
   "source": [
    "X_data = X_data.drop(['DRINK', 'SMOKE', 'STOOL12_7', 'STOOL12_8', 'DIET4', 'SLEEP3_2'], axis=1)\n",
    "X_data"
   ]
  },
  {
   "cell_type": "code",
   "execution_count": 5,
   "metadata": {},
   "outputs": [],
   "source": [
    "X_data.dropna(axis=0, inplace=True)"
   ]
  },
  {
   "cell_type": "code",
   "execution_count": 6,
   "metadata": {},
   "outputs": [
    {
     "data": {
      "text/plain": [
       "1    187\n",
       "3    162\n",
       "2    117\n",
       "Name: FINALDIAGNOSIS, dtype: int64"
      ]
     },
     "execution_count": 6,
     "metadata": {},
     "output_type": "execute_result"
    }
   ],
   "source": [
    "y_data = X_data.pop('FINALDIAGNOSIS')\n",
    "y_data.value_counts()"
   ]
  },
  {
   "cell_type": "code",
   "execution_count": 7,
   "metadata": {},
   "outputs": [
    {
     "data": {
      "text/html": [
       "<div>\n",
       "<style scoped>\n",
       "    .dataframe tbody tr th:only-of-type {\n",
       "        vertical-align: middle;\n",
       "    }\n",
       "\n",
       "    .dataframe tbody tr th {\n",
       "        vertical-align: top;\n",
       "    }\n",
       "\n",
       "    .dataframe thead th {\n",
       "        text-align: right;\n",
       "    }\n",
       "</style>\n",
       "<table border=\"1\" class=\"dataframe\">\n",
       "  <thead>\n",
       "    <tr style=\"text-align: right;\">\n",
       "      <th></th>\n",
       "      <th>AGE</th>\n",
       "      <th>URINE2</th>\n",
       "      <th>COLDHEAT_S</th>\n",
       "      <th>HEIGHT</th>\n",
       "      <th>WEIGHT</th>\n",
       "      <th>BMI</th>\n",
       "      <th>BODYMEAS_8HAND1</th>\n",
       "      <th>BODYMEAS_8HAND2</th>\n",
       "      <th>BODYMEAS_8HAND3</th>\n",
       "      <th>BODYMEAS_8HAND4</th>\n",
       "      <th>...</th>\n",
       "      <th>BODYMEAS_8HAND8</th>\n",
       "      <th>SYSTOLICBP</th>\n",
       "      <th>DIASTOLICBP</th>\n",
       "      <th>GLUCOSE</th>\n",
       "      <th>T_CHOL</th>\n",
       "      <th>TG</th>\n",
       "      <th>HDL_CHOL</th>\n",
       "      <th>LDL_CHOL</th>\n",
       "      <th>SLEEP3_1</th>\n",
       "      <th>HEALTH1</th>\n",
       "    </tr>\n",
       "    <tr>\n",
       "      <th>ID</th>\n",
       "      <th></th>\n",
       "      <th></th>\n",
       "      <th></th>\n",
       "      <th></th>\n",
       "      <th></th>\n",
       "      <th></th>\n",
       "      <th></th>\n",
       "      <th></th>\n",
       "      <th></th>\n",
       "      <th></th>\n",
       "      <th></th>\n",
       "      <th></th>\n",
       "      <th></th>\n",
       "      <th></th>\n",
       "      <th></th>\n",
       "      <th></th>\n",
       "      <th></th>\n",
       "      <th></th>\n",
       "      <th></th>\n",
       "      <th></th>\n",
       "      <th></th>\n",
       "    </tr>\n",
       "  </thead>\n",
       "  <tbody>\n",
       "    <tr>\n",
       "      <th>KDCT00001</th>\n",
       "      <td>48.666</td>\n",
       "      <td>1.0</td>\n",
       "      <td>12.0</td>\n",
       "      <td>158.0</td>\n",
       "      <td>55.0</td>\n",
       "      <td>22.0</td>\n",
       "      <td>53.0</td>\n",
       "      <td>33.0</td>\n",
       "      <td>92.0</td>\n",
       "      <td>96.0</td>\n",
       "      <td>...</td>\n",
       "      <td>96.0</td>\n",
       "      <td>120</td>\n",
       "      <td>80</td>\n",
       "      <td>104.0</td>\n",
       "      <td>219.0</td>\n",
       "      <td>72.0</td>\n",
       "      <td>60.0</td>\n",
       "      <td>128.0</td>\n",
       "      <td>5.0</td>\n",
       "      <td>3.0</td>\n",
       "    </tr>\n",
       "    <tr>\n",
       "      <th>KDCT00002</th>\n",
       "      <td>80.773</td>\n",
       "      <td>1.0</td>\n",
       "      <td>13.0</td>\n",
       "      <td>155.0</td>\n",
       "      <td>63.0</td>\n",
       "      <td>26.2</td>\n",
       "      <td>59.0</td>\n",
       "      <td>35.0</td>\n",
       "      <td>96.0</td>\n",
       "      <td>101.0</td>\n",
       "      <td>...</td>\n",
       "      <td>99.0</td>\n",
       "      <td>124</td>\n",
       "      <td>65</td>\n",
       "      <td>110.0</td>\n",
       "      <td>199.0</td>\n",
       "      <td>97.0</td>\n",
       "      <td>46.0</td>\n",
       "      <td>114.0</td>\n",
       "      <td>5.0</td>\n",
       "      <td>3.0</td>\n",
       "    </tr>\n",
       "    <tr>\n",
       "      <th>KDCT00003</th>\n",
       "      <td>50.008</td>\n",
       "      <td>1.0</td>\n",
       "      <td>12.0</td>\n",
       "      <td>160.0</td>\n",
       "      <td>59.0</td>\n",
       "      <td>23.0</td>\n",
       "      <td>57.0</td>\n",
       "      <td>37.0</td>\n",
       "      <td>95.0</td>\n",
       "      <td>90.0</td>\n",
       "      <td>...</td>\n",
       "      <td>81.0</td>\n",
       "      <td>121</td>\n",
       "      <td>75</td>\n",
       "      <td>79.0</td>\n",
       "      <td>216.0</td>\n",
       "      <td>88.0</td>\n",
       "      <td>49.0</td>\n",
       "      <td>132.0</td>\n",
       "      <td>7.0</td>\n",
       "      <td>3.0</td>\n",
       "    </tr>\n",
       "    <tr>\n",
       "      <th>KDCT00004</th>\n",
       "      <td>50.551</td>\n",
       "      <td>1.0</td>\n",
       "      <td>15.0</td>\n",
       "      <td>165.0</td>\n",
       "      <td>76.0</td>\n",
       "      <td>27.9</td>\n",
       "      <td>59.0</td>\n",
       "      <td>37.0</td>\n",
       "      <td>100.0</td>\n",
       "      <td>104.0</td>\n",
       "      <td>...</td>\n",
       "      <td>99.0</td>\n",
       "      <td>113</td>\n",
       "      <td>81</td>\n",
       "      <td>100.0</td>\n",
       "      <td>218.0</td>\n",
       "      <td>136.0</td>\n",
       "      <td>44.0</td>\n",
       "      <td>136.0</td>\n",
       "      <td>7.0</td>\n",
       "      <td>4.0</td>\n",
       "    </tr>\n",
       "    <tr>\n",
       "      <th>KDCT00005</th>\n",
       "      <td>49.581</td>\n",
       "      <td>0.0</td>\n",
       "      <td>11.0</td>\n",
       "      <td>165.0</td>\n",
       "      <td>70.0</td>\n",
       "      <td>25.7</td>\n",
       "      <td>60.0</td>\n",
       "      <td>40.0</td>\n",
       "      <td>106.0</td>\n",
       "      <td>102.0</td>\n",
       "      <td>...</td>\n",
       "      <td>100.0</td>\n",
       "      <td>129</td>\n",
       "      <td>72</td>\n",
       "      <td>92.0</td>\n",
       "      <td>186.0</td>\n",
       "      <td>61.0</td>\n",
       "      <td>33.0</td>\n",
       "      <td>118.0</td>\n",
       "      <td>5.0</td>\n",
       "      <td>2.0</td>\n",
       "    </tr>\n",
       "  </tbody>\n",
       "</table>\n",
       "<p>5 rows × 23 columns</p>\n",
       "</div>"
      ],
      "text/plain": [
       "              AGE  URINE2  COLDHEAT_S  HEIGHT  WEIGHT   BMI  BODYMEAS_8HAND1  \\\n",
       "ID                                                                             \n",
       "KDCT00001  48.666     1.0        12.0   158.0    55.0  22.0             53.0   \n",
       "KDCT00002  80.773     1.0        13.0   155.0    63.0  26.2             59.0   \n",
       "KDCT00003  50.008     1.0        12.0   160.0    59.0  23.0             57.0   \n",
       "KDCT00004  50.551     1.0        15.0   165.0    76.0  27.9             59.0   \n",
       "KDCT00005  49.581     0.0        11.0   165.0    70.0  25.7             60.0   \n",
       "\n",
       "           BODYMEAS_8HAND2  BODYMEAS_8HAND3  BODYMEAS_8HAND4  ...  \\\n",
       "ID                                                            ...   \n",
       "KDCT00001             33.0             92.0             96.0  ...   \n",
       "KDCT00002             35.0             96.0            101.0  ...   \n",
       "KDCT00003             37.0             95.0             90.0  ...   \n",
       "KDCT00004             37.0            100.0            104.0  ...   \n",
       "KDCT00005             40.0            106.0            102.0  ...   \n",
       "\n",
       "           BODYMEAS_8HAND8  SYSTOLICBP  DIASTOLICBP  GLUCOSE  T_CHOL     TG  \\\n",
       "ID                                                                            \n",
       "KDCT00001             96.0         120           80    104.0   219.0   72.0   \n",
       "KDCT00002             99.0         124           65    110.0   199.0   97.0   \n",
       "KDCT00003             81.0         121           75     79.0   216.0   88.0   \n",
       "KDCT00004             99.0         113           81    100.0   218.0  136.0   \n",
       "KDCT00005            100.0         129           72     92.0   186.0   61.0   \n",
       "\n",
       "           HDL_CHOL  LDL_CHOL  SLEEP3_1  HEALTH1  \n",
       "ID                                                \n",
       "KDCT00001      60.0     128.0       5.0      3.0  \n",
       "KDCT00002      46.0     114.0       5.0      3.0  \n",
       "KDCT00003      49.0     132.0       7.0      3.0  \n",
       "KDCT00004      44.0     136.0       7.0      4.0  \n",
       "KDCT00005      33.0     118.0       5.0      2.0  \n",
       "\n",
       "[5 rows x 23 columns]"
      ]
     },
     "execution_count": 7,
     "metadata": {},
     "output_type": "execute_result"
    }
   ],
   "source": [
    "num_var_list = ['AGE', 'URINE2', 'COLDHEAT_S', 'HEIGHT', 'WEIGHT', 'BMI', \n",
    "                'BODYMEAS_8HAND1', 'BODYMEAS_8HAND2', 'BODYMEAS_8HAND3', 'BODYMEAS_8HAND4', 'BODYMEAS_8HAND5', 'BODYMEAS_8HAND6', 'BODYMEAS_8HAND7', 'BODYMEAS_8HAND8',\n",
    "                'SYSTOLICBP', 'DIASTOLICBP', 'GLUCOSE', 'T_CHOL', 'TG', 'HDL_CHOL', 'LDL_CHOL', \n",
    "                'SLEEP3_1', 'HEALTH1']\n",
    "X_num = X_data.reindex(columns = num_var_list)\n",
    "X_num.head()"
   ]
  },
  {
   "cell_type": "code",
   "execution_count": 8,
   "metadata": {},
   "outputs": [
    {
     "data": {
      "text/html": [
       "<div>\n",
       "<style scoped>\n",
       "    .dataframe tbody tr th:only-of-type {\n",
       "        vertical-align: middle;\n",
       "    }\n",
       "\n",
       "    .dataframe tbody tr th {\n",
       "        vertical-align: top;\n",
       "    }\n",
       "\n",
       "    .dataframe thead th {\n",
       "        text-align: right;\n",
       "    }\n",
       "</style>\n",
       "<table border=\"1\" class=\"dataframe\">\n",
       "  <thead>\n",
       "    <tr style=\"text-align: right;\">\n",
       "      <th></th>\n",
       "      <th>SEX</th>\n",
       "      <th>JOB</th>\n",
       "      <th>EDUCATION</th>\n",
       "      <th>MARRIAGE</th>\n",
       "      <th>CHARACTER1</th>\n",
       "      <th>CHARACTER2</th>\n",
       "      <th>CHARACTER3</th>\n",
       "      <th>CHARACTER4</th>\n",
       "      <th>CHARACTER5</th>\n",
       "      <th>CHARACTER6</th>\n",
       "      <th>...</th>\n",
       "      <th>COLDHEAT_G</th>\n",
       "      <th>HYPER1</th>\n",
       "      <th>DIABE1</th>\n",
       "      <th>HYPERLI1</th>\n",
       "      <th>FATIGUE1</th>\n",
       "      <th>FATIGUE2_1</th>\n",
       "      <th>FATIGUE2_2</th>\n",
       "      <th>FATIGUE2_3</th>\n",
       "      <th>FATIGUE2_4</th>\n",
       "      <th>FATIGUE2_5</th>\n",
       "    </tr>\n",
       "    <tr>\n",
       "      <th>ID</th>\n",
       "      <th></th>\n",
       "      <th></th>\n",
       "      <th></th>\n",
       "      <th></th>\n",
       "      <th></th>\n",
       "      <th></th>\n",
       "      <th></th>\n",
       "      <th></th>\n",
       "      <th></th>\n",
       "      <th></th>\n",
       "      <th></th>\n",
       "      <th></th>\n",
       "      <th></th>\n",
       "      <th></th>\n",
       "      <th></th>\n",
       "      <th></th>\n",
       "      <th></th>\n",
       "      <th></th>\n",
       "      <th></th>\n",
       "      <th></th>\n",
       "      <th></th>\n",
       "    </tr>\n",
       "  </thead>\n",
       "  <tbody>\n",
       "    <tr>\n",
       "      <th>KDCT00001</th>\n",
       "      <td>2</td>\n",
       "      <td>2</td>\n",
       "      <td>5</td>\n",
       "      <td>2</td>\n",
       "      <td>2</td>\n",
       "      <td>2</td>\n",
       "      <td>1</td>\n",
       "      <td>2</td>\n",
       "      <td>1</td>\n",
       "      <td>1</td>\n",
       "      <td>...</td>\n",
       "      <td>2.0</td>\n",
       "      <td>1</td>\n",
       "      <td>1</td>\n",
       "      <td>1</td>\n",
       "      <td>2</td>\n",
       "      <td>0</td>\n",
       "      <td>0</td>\n",
       "      <td>0</td>\n",
       "      <td>1</td>\n",
       "      <td>0</td>\n",
       "    </tr>\n",
       "    <tr>\n",
       "      <th>KDCT00002</th>\n",
       "      <td>2</td>\n",
       "      <td>14</td>\n",
       "      <td>3</td>\n",
       "      <td>2</td>\n",
       "      <td>1</td>\n",
       "      <td>1</td>\n",
       "      <td>1</td>\n",
       "      <td>1</td>\n",
       "      <td>1</td>\n",
       "      <td>1</td>\n",
       "      <td>...</td>\n",
       "      <td>3.0</td>\n",
       "      <td>1</td>\n",
       "      <td>1</td>\n",
       "      <td>1</td>\n",
       "      <td>4</td>\n",
       "      <td>0</td>\n",
       "      <td>0</td>\n",
       "      <td>1</td>\n",
       "      <td>0</td>\n",
       "      <td>0</td>\n",
       "    </tr>\n",
       "    <tr>\n",
       "      <th>KDCT00003</th>\n",
       "      <td>1</td>\n",
       "      <td>3</td>\n",
       "      <td>3</td>\n",
       "      <td>2</td>\n",
       "      <td>3</td>\n",
       "      <td>1</td>\n",
       "      <td>1</td>\n",
       "      <td>1</td>\n",
       "      <td>1</td>\n",
       "      <td>1</td>\n",
       "      <td>...</td>\n",
       "      <td>2.0</td>\n",
       "      <td>1</td>\n",
       "      <td>1</td>\n",
       "      <td>1</td>\n",
       "      <td>2</td>\n",
       "      <td>0</td>\n",
       "      <td>0</td>\n",
       "      <td>1</td>\n",
       "      <td>0</td>\n",
       "      <td>0</td>\n",
       "    </tr>\n",
       "    <tr>\n",
       "      <th>KDCT00004</th>\n",
       "      <td>2</td>\n",
       "      <td>14</td>\n",
       "      <td>4</td>\n",
       "      <td>2</td>\n",
       "      <td>1</td>\n",
       "      <td>1</td>\n",
       "      <td>1</td>\n",
       "      <td>1</td>\n",
       "      <td>1</td>\n",
       "      <td>1</td>\n",
       "      <td>...</td>\n",
       "      <td>3.0</td>\n",
       "      <td>1</td>\n",
       "      <td>1</td>\n",
       "      <td>1</td>\n",
       "      <td>4</td>\n",
       "      <td>0</td>\n",
       "      <td>0</td>\n",
       "      <td>1</td>\n",
       "      <td>0</td>\n",
       "      <td>0</td>\n",
       "    </tr>\n",
       "    <tr>\n",
       "      <th>KDCT00005</th>\n",
       "      <td>1</td>\n",
       "      <td>8</td>\n",
       "      <td>2</td>\n",
       "      <td>2</td>\n",
       "      <td>3</td>\n",
       "      <td>2</td>\n",
       "      <td>3</td>\n",
       "      <td>2</td>\n",
       "      <td>2</td>\n",
       "      <td>3</td>\n",
       "      <td>...</td>\n",
       "      <td>2.0</td>\n",
       "      <td>1</td>\n",
       "      <td>1</td>\n",
       "      <td>1</td>\n",
       "      <td>4</td>\n",
       "      <td>0</td>\n",
       "      <td>0</td>\n",
       "      <td>1</td>\n",
       "      <td>0</td>\n",
       "      <td>0</td>\n",
       "    </tr>\n",
       "  </tbody>\n",
       "</table>\n",
       "<p>5 rows × 42 columns</p>\n",
       "</div>"
      ],
      "text/plain": [
       "           SEX  JOB  EDUCATION  MARRIAGE  CHARACTER1  CHARACTER2  CHARACTER3  \\\n",
       "ID                                                                             \n",
       "KDCT00001    2    2          5         2           2           2           1   \n",
       "KDCT00002    2   14          3         2           1           1           1   \n",
       "KDCT00003    1    3          3         2           3           1           1   \n",
       "KDCT00004    2   14          4         2           1           1           1   \n",
       "KDCT00005    1    8          2         2           3           2           3   \n",
       "\n",
       "           CHARACTER4  CHARACTER5  CHARACTER6  ...  COLDHEAT_G  HYPER1  \\\n",
       "ID                                             ...                       \n",
       "KDCT00001           2           1           1  ...         2.0       1   \n",
       "KDCT00002           1           1           1  ...         3.0       1   \n",
       "KDCT00003           1           1           1  ...         2.0       1   \n",
       "KDCT00004           1           1           1  ...         3.0       1   \n",
       "KDCT00005           2           2           3  ...         2.0       1   \n",
       "\n",
       "           DIABE1  HYPERLI1  FATIGUE1  FATIGUE2_1  FATIGUE2_2  FATIGUE2_3  \\\n",
       "ID                                                                          \n",
       "KDCT00001       1         1         2           0           0           0   \n",
       "KDCT00002       1         1         4           0           0           1   \n",
       "KDCT00003       1         1         2           0           0           1   \n",
       "KDCT00004       1         1         4           0           0           1   \n",
       "KDCT00005       1         1         4           0           0           1   \n",
       "\n",
       "           FATIGUE2_4  FATIGUE2_5  \n",
       "ID                                 \n",
       "KDCT00001           1           0  \n",
       "KDCT00002           0           0  \n",
       "KDCT00003           0           0  \n",
       "KDCT00004           0           0  \n",
       "KDCT00005           0           0  \n",
       "\n",
       "[5 rows x 42 columns]"
      ]
     },
     "execution_count": 8,
     "metadata": {},
     "output_type": "execute_result"
    }
   ],
   "source": [
    "X_cat = X_data.drop(num_var_list, axis=1)\n",
    "X_cat.head()"
   ]
  },
  {
   "cell_type": "markdown",
   "metadata": {},
   "source": [
    "## Numerical Variable processing"
   ]
  },
  {
   "cell_type": "code",
   "execution_count": 9,
   "metadata": {},
   "outputs": [
    {
     "data": {
      "text/plain": [
       "array([[0.52540906, 0.2       , 0.5       , ..., 0.58857143, 0.25      ,\n",
       "        0.5       ],\n",
       "       [0.96650593, 0.2       , 0.58333333, ..., 0.50857143, 0.25      ,\n",
       "        0.5       ],\n",
       "       [0.54384591, 0.2       , 0.5       , ..., 0.61142857, 0.41666667,\n",
       "        0.5       ],\n",
       "       ...,\n",
       "       [0.37974144, 0.2       , 0.58333333, ..., 0.50857143, 0.25      ,\n",
       "        1.        ],\n",
       "       [0.01780489, 0.        , 0.66666667, ..., 0.54285714, 0.54166667,\n",
       "        0.5       ],\n",
       "       [0.09662174, 0.        , 0.75      , ..., 0.28      , 0.375     ,\n",
       "        0.25      ]])"
      ]
     },
     "execution_count": 9,
     "metadata": {},
     "output_type": "execute_result"
    }
   ],
   "source": [
    "from sklearn.preprocessing import MinMaxScaler\n",
    "\n",
    "X_minmax_scaler = MinMaxScaler()\n",
    "X_minmax_scaler.fit(X_num)\n",
    "X_num_scaled = X_minmax_scaler.transform(X_num)\n",
    "X_num_scaled"
   ]
  },
  {
   "cell_type": "code",
   "execution_count": 10,
   "metadata": {},
   "outputs": [
    {
     "data": {
      "text/html": [
       "<div>\n",
       "<style scoped>\n",
       "    .dataframe tbody tr th:only-of-type {\n",
       "        vertical-align: middle;\n",
       "    }\n",
       "\n",
       "    .dataframe tbody tr th {\n",
       "        vertical-align: top;\n",
       "    }\n",
       "\n",
       "    .dataframe thead th {\n",
       "        text-align: right;\n",
       "    }\n",
       "</style>\n",
       "<table border=\"1\" class=\"dataframe\">\n",
       "  <thead>\n",
       "    <tr style=\"text-align: right;\">\n",
       "      <th></th>\n",
       "      <th>AGE</th>\n",
       "      <th>URINE2</th>\n",
       "      <th>COLDHEAT_S</th>\n",
       "      <th>HEIGHT</th>\n",
       "      <th>WEIGHT</th>\n",
       "      <th>BMI</th>\n",
       "      <th>BODYMEAS_8HAND1</th>\n",
       "      <th>BODYMEAS_8HAND2</th>\n",
       "      <th>BODYMEAS_8HAND3</th>\n",
       "      <th>BODYMEAS_8HAND4</th>\n",
       "      <th>...</th>\n",
       "      <th>BODYMEAS_8HAND8</th>\n",
       "      <th>SYSTOLICBP</th>\n",
       "      <th>DIASTOLICBP</th>\n",
       "      <th>GLUCOSE</th>\n",
       "      <th>T_CHOL</th>\n",
       "      <th>TG</th>\n",
       "      <th>HDL_CHOL</th>\n",
       "      <th>LDL_CHOL</th>\n",
       "      <th>SLEEP3_1</th>\n",
       "      <th>HEALTH1</th>\n",
       "    </tr>\n",
       "  </thead>\n",
       "  <tbody>\n",
       "    <tr>\n",
       "      <th>0</th>\n",
       "      <td>0.525409</td>\n",
       "      <td>0.2</td>\n",
       "      <td>0.500000</td>\n",
       "      <td>0.401786</td>\n",
       "      <td>0.272727</td>\n",
       "      <td>0.327957</td>\n",
       "      <td>0.137931</td>\n",
       "      <td>0.348837</td>\n",
       "      <td>0.511530</td>\n",
       "      <td>0.545455</td>\n",
       "      <td>...</td>\n",
       "      <td>0.547264</td>\n",
       "      <td>0.369369</td>\n",
       "      <td>0.558824</td>\n",
       "      <td>0.196078</td>\n",
       "      <td>0.582888</td>\n",
       "      <td>0.075993</td>\n",
       "      <td>0.569231</td>\n",
       "      <td>0.588571</td>\n",
       "      <td>0.250000</td>\n",
       "      <td>0.50</td>\n",
       "    </tr>\n",
       "    <tr>\n",
       "      <th>1</th>\n",
       "      <td>0.966506</td>\n",
       "      <td>0.2</td>\n",
       "      <td>0.583333</td>\n",
       "      <td>0.334821</td>\n",
       "      <td>0.384615</td>\n",
       "      <td>0.553763</td>\n",
       "      <td>0.551724</td>\n",
       "      <td>0.465116</td>\n",
       "      <td>0.595388</td>\n",
       "      <td>0.634581</td>\n",
       "      <td>...</td>\n",
       "      <td>0.621891</td>\n",
       "      <td>0.405405</td>\n",
       "      <td>0.338235</td>\n",
       "      <td>0.219608</td>\n",
       "      <td>0.475936</td>\n",
       "      <td>0.119171</td>\n",
       "      <td>0.353846</td>\n",
       "      <td>0.508571</td>\n",
       "      <td>0.250000</td>\n",
       "      <td>0.50</td>\n",
       "    </tr>\n",
       "    <tr>\n",
       "      <th>2</th>\n",
       "      <td>0.543846</td>\n",
       "      <td>0.2</td>\n",
       "      <td>0.500000</td>\n",
       "      <td>0.446429</td>\n",
       "      <td>0.328671</td>\n",
       "      <td>0.381720</td>\n",
       "      <td>0.413793</td>\n",
       "      <td>0.581395</td>\n",
       "      <td>0.574423</td>\n",
       "      <td>0.438503</td>\n",
       "      <td>...</td>\n",
       "      <td>0.174129</td>\n",
       "      <td>0.378378</td>\n",
       "      <td>0.485294</td>\n",
       "      <td>0.098039</td>\n",
       "      <td>0.566845</td>\n",
       "      <td>0.103627</td>\n",
       "      <td>0.400000</td>\n",
       "      <td>0.611429</td>\n",
       "      <td>0.416667</td>\n",
       "      <td>0.50</td>\n",
       "    </tr>\n",
       "    <tr>\n",
       "      <th>3</th>\n",
       "      <td>0.551306</td>\n",
       "      <td>0.2</td>\n",
       "      <td>0.750000</td>\n",
       "      <td>0.558036</td>\n",
       "      <td>0.566434</td>\n",
       "      <td>0.645161</td>\n",
       "      <td>0.551724</td>\n",
       "      <td>0.581395</td>\n",
       "      <td>0.679245</td>\n",
       "      <td>0.688057</td>\n",
       "      <td>...</td>\n",
       "      <td>0.621891</td>\n",
       "      <td>0.306306</td>\n",
       "      <td>0.573529</td>\n",
       "      <td>0.180392</td>\n",
       "      <td>0.577540</td>\n",
       "      <td>0.186528</td>\n",
       "      <td>0.323077</td>\n",
       "      <td>0.634286</td>\n",
       "      <td>0.416667</td>\n",
       "      <td>0.75</td>\n",
       "    </tr>\n",
       "    <tr>\n",
       "      <th>4</th>\n",
       "      <td>0.537980</td>\n",
       "      <td>0.0</td>\n",
       "      <td>0.416667</td>\n",
       "      <td>0.558036</td>\n",
       "      <td>0.482517</td>\n",
       "      <td>0.526882</td>\n",
       "      <td>0.620690</td>\n",
       "      <td>0.755814</td>\n",
       "      <td>0.805031</td>\n",
       "      <td>0.652406</td>\n",
       "      <td>...</td>\n",
       "      <td>0.646766</td>\n",
       "      <td>0.450450</td>\n",
       "      <td>0.441176</td>\n",
       "      <td>0.149020</td>\n",
       "      <td>0.406417</td>\n",
       "      <td>0.056995</td>\n",
       "      <td>0.153846</td>\n",
       "      <td>0.531429</td>\n",
       "      <td>0.250000</td>\n",
       "      <td>0.25</td>\n",
       "    </tr>\n",
       "  </tbody>\n",
       "</table>\n",
       "<p>5 rows × 23 columns</p>\n",
       "</div>"
      ],
      "text/plain": [
       "        AGE  URINE2  COLDHEAT_S    HEIGHT    WEIGHT       BMI  \\\n",
       "0  0.525409     0.2    0.500000  0.401786  0.272727  0.327957   \n",
       "1  0.966506     0.2    0.583333  0.334821  0.384615  0.553763   \n",
       "2  0.543846     0.2    0.500000  0.446429  0.328671  0.381720   \n",
       "3  0.551306     0.2    0.750000  0.558036  0.566434  0.645161   \n",
       "4  0.537980     0.0    0.416667  0.558036  0.482517  0.526882   \n",
       "\n",
       "   BODYMEAS_8HAND1  BODYMEAS_8HAND2  BODYMEAS_8HAND3  BODYMEAS_8HAND4  ...  \\\n",
       "0         0.137931         0.348837         0.511530         0.545455  ...   \n",
       "1         0.551724         0.465116         0.595388         0.634581  ...   \n",
       "2         0.413793         0.581395         0.574423         0.438503  ...   \n",
       "3         0.551724         0.581395         0.679245         0.688057  ...   \n",
       "4         0.620690         0.755814         0.805031         0.652406  ...   \n",
       "\n",
       "   BODYMEAS_8HAND8  SYSTOLICBP  DIASTOLICBP   GLUCOSE    T_CHOL        TG  \\\n",
       "0         0.547264    0.369369     0.558824  0.196078  0.582888  0.075993   \n",
       "1         0.621891    0.405405     0.338235  0.219608  0.475936  0.119171   \n",
       "2         0.174129    0.378378     0.485294  0.098039  0.566845  0.103627   \n",
       "3         0.621891    0.306306     0.573529  0.180392  0.577540  0.186528   \n",
       "4         0.646766    0.450450     0.441176  0.149020  0.406417  0.056995   \n",
       "\n",
       "   HDL_CHOL  LDL_CHOL  SLEEP3_1  HEALTH1  \n",
       "0  0.569231  0.588571  0.250000     0.50  \n",
       "1  0.353846  0.508571  0.250000     0.50  \n",
       "2  0.400000  0.611429  0.416667     0.50  \n",
       "3  0.323077  0.634286  0.416667     0.75  \n",
       "4  0.153846  0.531429  0.250000     0.25  \n",
       "\n",
       "[5 rows x 23 columns]"
      ]
     },
     "execution_count": 10,
     "metadata": {},
     "output_type": "execute_result"
    }
   ],
   "source": [
    "numeric_data_df = pd.DataFrame(X_num_scaled, columns=X_num.columns)\n",
    "numeric_data_df.head()"
   ]
  },
  {
   "cell_type": "markdown",
   "metadata": {},
   "source": [
    "## Categorical Variable processing"
   ]
  },
  {
   "cell_type": "code",
   "execution_count": 11,
   "metadata": {},
   "outputs": [],
   "source": [
    "binary_var_list = ['SEX', 'STOOL1', 'HYPER1', 'DIABE1', 'HYPERLI1', \n",
    "                   'FATIGUE2_1', 'FATIGUE2_2', 'FATIGUE2_3', 'FATIGUE2_4', 'FATIGUE2_5']\n",
    "X_binary = X_cat.reindex(columns=binary_var_list)"
   ]
  },
  {
   "cell_type": "code",
   "execution_count": 12,
   "metadata": {},
   "outputs": [
    {
     "name": "stdout",
     "output_type": "stream",
     "text": [
      "[array([1, 2]), array([1, 2]), array([1, 2]), array([1, 2]), array([1, 2]), array([0, 1]), array([0, 1]), array([0, 1]), array([0, 1]), array([0, 1])]\n",
      "(466, 10)\n"
     ]
    }
   ],
   "source": [
    "from sklearn.preprocessing import OneHotEncoder\n",
    "\n",
    "binary_encoder = OneHotEncoder(drop='first')\n",
    "binary_encoder.fit(X_binary)\n",
    "X_binary_matrix = binary_encoder.transform(X_binary)\n",
    "print(binary_encoder.categories_)\n",
    "print(X_binary_matrix.toarray().shape)"
   ]
  },
  {
   "cell_type": "code",
   "execution_count": 13,
   "metadata": {},
   "outputs": [
    {
     "data": {
      "text/html": [
       "<div>\n",
       "<style scoped>\n",
       "    .dataframe tbody tr th:only-of-type {\n",
       "        vertical-align: middle;\n",
       "    }\n",
       "\n",
       "    .dataframe tbody tr th {\n",
       "        vertical-align: top;\n",
       "    }\n",
       "\n",
       "    .dataframe thead th {\n",
       "        text-align: right;\n",
       "    }\n",
       "</style>\n",
       "<table border=\"1\" class=\"dataframe\">\n",
       "  <thead>\n",
       "    <tr style=\"text-align: right;\">\n",
       "      <th></th>\n",
       "      <th>SEX</th>\n",
       "      <th>STOOL1</th>\n",
       "      <th>HYPER1</th>\n",
       "      <th>DIABE1</th>\n",
       "      <th>HYPERLI1</th>\n",
       "      <th>FATIGUE2_1</th>\n",
       "      <th>FATIGUE2_2</th>\n",
       "      <th>FATIGUE2_3</th>\n",
       "      <th>FATIGUE2_4</th>\n",
       "      <th>FATIGUE2_5</th>\n",
       "    </tr>\n",
       "  </thead>\n",
       "  <tbody>\n",
       "    <tr>\n",
       "      <th>0</th>\n",
       "      <td>1.0</td>\n",
       "      <td>0.0</td>\n",
       "      <td>0.0</td>\n",
       "      <td>0.0</td>\n",
       "      <td>0.0</td>\n",
       "      <td>0.0</td>\n",
       "      <td>0.0</td>\n",
       "      <td>0.0</td>\n",
       "      <td>1.0</td>\n",
       "      <td>0.0</td>\n",
       "    </tr>\n",
       "    <tr>\n",
       "      <th>1</th>\n",
       "      <td>1.0</td>\n",
       "      <td>0.0</td>\n",
       "      <td>0.0</td>\n",
       "      <td>0.0</td>\n",
       "      <td>0.0</td>\n",
       "      <td>0.0</td>\n",
       "      <td>0.0</td>\n",
       "      <td>1.0</td>\n",
       "      <td>0.0</td>\n",
       "      <td>0.0</td>\n",
       "    </tr>\n",
       "    <tr>\n",
       "      <th>2</th>\n",
       "      <td>0.0</td>\n",
       "      <td>0.0</td>\n",
       "      <td>0.0</td>\n",
       "      <td>0.0</td>\n",
       "      <td>0.0</td>\n",
       "      <td>0.0</td>\n",
       "      <td>0.0</td>\n",
       "      <td>1.0</td>\n",
       "      <td>0.0</td>\n",
       "      <td>0.0</td>\n",
       "    </tr>\n",
       "    <tr>\n",
       "      <th>3</th>\n",
       "      <td>1.0</td>\n",
       "      <td>1.0</td>\n",
       "      <td>0.0</td>\n",
       "      <td>0.0</td>\n",
       "      <td>0.0</td>\n",
       "      <td>0.0</td>\n",
       "      <td>0.0</td>\n",
       "      <td>1.0</td>\n",
       "      <td>0.0</td>\n",
       "      <td>0.0</td>\n",
       "    </tr>\n",
       "    <tr>\n",
       "      <th>4</th>\n",
       "      <td>0.0</td>\n",
       "      <td>0.0</td>\n",
       "      <td>0.0</td>\n",
       "      <td>0.0</td>\n",
       "      <td>0.0</td>\n",
       "      <td>0.0</td>\n",
       "      <td>0.0</td>\n",
       "      <td>1.0</td>\n",
       "      <td>0.0</td>\n",
       "      <td>0.0</td>\n",
       "    </tr>\n",
       "  </tbody>\n",
       "</table>\n",
       "</div>"
      ],
      "text/plain": [
       "   SEX  STOOL1  HYPER1  DIABE1  HYPERLI1  FATIGUE2_1  FATIGUE2_2  FATIGUE2_3  \\\n",
       "0  1.0     0.0     0.0     0.0       0.0         0.0         0.0         0.0   \n",
       "1  1.0     0.0     0.0     0.0       0.0         0.0         0.0         1.0   \n",
       "2  0.0     0.0     0.0     0.0       0.0         0.0         0.0         1.0   \n",
       "3  1.0     1.0     0.0     0.0       0.0         0.0         0.0         1.0   \n",
       "4  0.0     0.0     0.0     0.0       0.0         0.0         0.0         1.0   \n",
       "\n",
       "   FATIGUE2_4  FATIGUE2_5  \n",
       "0         1.0         0.0  \n",
       "1         0.0         0.0  \n",
       "2         0.0         0.0  \n",
       "3         0.0         0.0  \n",
       "4         0.0         0.0  "
      ]
     },
     "execution_count": 13,
     "metadata": {},
     "output_type": "execute_result"
    }
   ],
   "source": [
    "X_cat_binary_df = pd.DataFrame(X_binary_matrix.toarray(), columns=X_binary.columns)\n",
    "X_cat_binary_df.head()"
   ]
  },
  {
   "cell_type": "code",
   "execution_count": 14,
   "metadata": {},
   "outputs": [
    {
     "name": "stdout",
     "output_type": "stream",
     "text": [
      "[array([ 1,  2,  3,  4,  5,  6,  7,  8, 14]), array([1, 2, 3, 4, 5, 6]), array([1, 2, 3, 4]), array([1, 2, 3]), array([1, 2, 3]), array([1, 2, 3]), array([1, 2, 3]), array([1, 2, 3]), array([1, 2, 3]), array([1., 2., 3.]), array([1., 2., 3.]), array([1, 2, 3]), array([1, 2, 3]), array([1, 2, 3]), array([1, 2, 3]), array([1, 2, 3]), array([1, 2, 3]), array([1, 2, 3]), array([1., 2., 3.]), array([1, 2, 3]), array([1, 2, 3, 4]), array([1, 2, 3]), array([1., 2., 3.]), array([1, 2, 3]), array([1, 2, 3]), array([1, 2, 3]), array([1, 2, 3]), array([1, 2, 3]), array([1., 2., 3., 4.]), array([1, 2, 3]), array([1., 2., 3.]), array([1, 2, 3, 4])]\n",
      "(466, 109)\n"
     ]
    }
   ],
   "source": [
    "from sklearn.preprocessing import OneHotEncoder\n",
    "\n",
    "X_multi = X_cat.drop(binary_var_list, axis=1)\n",
    "\n",
    "onehot_encoder = OneHotEncoder()\n",
    "onehot_encoder.fit(X_multi)\n",
    "onehot = onehot_encoder.fit_transform(X_multi)\n",
    "print(onehot_encoder.categories_)\n",
    "print(onehot.toarray().shape)"
   ]
  },
  {
   "cell_type": "code",
   "execution_count": 15,
   "metadata": {},
   "outputs": [
    {
     "data": {
      "text/html": [
       "<div>\n",
       "<style scoped>\n",
       "    .dataframe tbody tr th:only-of-type {\n",
       "        vertical-align: middle;\n",
       "    }\n",
       "\n",
       "    .dataframe tbody tr th {\n",
       "        vertical-align: top;\n",
       "    }\n",
       "\n",
       "    .dataframe thead th {\n",
       "        text-align: right;\n",
       "    }\n",
       "</style>\n",
       "<table border=\"1\" class=\"dataframe\">\n",
       "  <thead>\n",
       "    <tr style=\"text-align: right;\">\n",
       "      <th></th>\n",
       "      <th>0</th>\n",
       "      <th>1</th>\n",
       "      <th>2</th>\n",
       "      <th>3</th>\n",
       "      <th>4</th>\n",
       "      <th>5</th>\n",
       "      <th>6</th>\n",
       "      <th>7</th>\n",
       "      <th>8</th>\n",
       "      <th>9</th>\n",
       "      <th>...</th>\n",
       "      <th>99</th>\n",
       "      <th>100</th>\n",
       "      <th>101</th>\n",
       "      <th>102</th>\n",
       "      <th>103</th>\n",
       "      <th>104</th>\n",
       "      <th>105</th>\n",
       "      <th>106</th>\n",
       "      <th>107</th>\n",
       "      <th>108</th>\n",
       "    </tr>\n",
       "  </thead>\n",
       "  <tbody>\n",
       "    <tr>\n",
       "      <th>0</th>\n",
       "      <td>0.0</td>\n",
       "      <td>1.0</td>\n",
       "      <td>0.0</td>\n",
       "      <td>0.0</td>\n",
       "      <td>0.0</td>\n",
       "      <td>0.0</td>\n",
       "      <td>0.0</td>\n",
       "      <td>0.0</td>\n",
       "      <td>0.0</td>\n",
       "      <td>0.0</td>\n",
       "      <td>...</td>\n",
       "      <td>0.0</td>\n",
       "      <td>1.0</td>\n",
       "      <td>0.0</td>\n",
       "      <td>0.0</td>\n",
       "      <td>1.0</td>\n",
       "      <td>0.0</td>\n",
       "      <td>0.0</td>\n",
       "      <td>1.0</td>\n",
       "      <td>0.0</td>\n",
       "      <td>0.0</td>\n",
       "    </tr>\n",
       "    <tr>\n",
       "      <th>1</th>\n",
       "      <td>0.0</td>\n",
       "      <td>0.0</td>\n",
       "      <td>0.0</td>\n",
       "      <td>0.0</td>\n",
       "      <td>0.0</td>\n",
       "      <td>0.0</td>\n",
       "      <td>0.0</td>\n",
       "      <td>0.0</td>\n",
       "      <td>1.0</td>\n",
       "      <td>0.0</td>\n",
       "      <td>...</td>\n",
       "      <td>0.0</td>\n",
       "      <td>0.0</td>\n",
       "      <td>1.0</td>\n",
       "      <td>0.0</td>\n",
       "      <td>0.0</td>\n",
       "      <td>1.0</td>\n",
       "      <td>0.0</td>\n",
       "      <td>0.0</td>\n",
       "      <td>0.0</td>\n",
       "      <td>1.0</td>\n",
       "    </tr>\n",
       "    <tr>\n",
       "      <th>2</th>\n",
       "      <td>0.0</td>\n",
       "      <td>0.0</td>\n",
       "      <td>1.0</td>\n",
       "      <td>0.0</td>\n",
       "      <td>0.0</td>\n",
       "      <td>0.0</td>\n",
       "      <td>0.0</td>\n",
       "      <td>0.0</td>\n",
       "      <td>0.0</td>\n",
       "      <td>0.0</td>\n",
       "      <td>...</td>\n",
       "      <td>0.0</td>\n",
       "      <td>1.0</td>\n",
       "      <td>0.0</td>\n",
       "      <td>0.0</td>\n",
       "      <td>1.0</td>\n",
       "      <td>0.0</td>\n",
       "      <td>0.0</td>\n",
       "      <td>1.0</td>\n",
       "      <td>0.0</td>\n",
       "      <td>0.0</td>\n",
       "    </tr>\n",
       "    <tr>\n",
       "      <th>3</th>\n",
       "      <td>0.0</td>\n",
       "      <td>0.0</td>\n",
       "      <td>0.0</td>\n",
       "      <td>0.0</td>\n",
       "      <td>0.0</td>\n",
       "      <td>0.0</td>\n",
       "      <td>0.0</td>\n",
       "      <td>0.0</td>\n",
       "      <td>1.0</td>\n",
       "      <td>0.0</td>\n",
       "      <td>...</td>\n",
       "      <td>0.0</td>\n",
       "      <td>1.0</td>\n",
       "      <td>0.0</td>\n",
       "      <td>0.0</td>\n",
       "      <td>0.0</td>\n",
       "      <td>1.0</td>\n",
       "      <td>0.0</td>\n",
       "      <td>0.0</td>\n",
       "      <td>0.0</td>\n",
       "      <td>1.0</td>\n",
       "    </tr>\n",
       "    <tr>\n",
       "      <th>4</th>\n",
       "      <td>0.0</td>\n",
       "      <td>0.0</td>\n",
       "      <td>0.0</td>\n",
       "      <td>0.0</td>\n",
       "      <td>0.0</td>\n",
       "      <td>0.0</td>\n",
       "      <td>0.0</td>\n",
       "      <td>1.0</td>\n",
       "      <td>0.0</td>\n",
       "      <td>0.0</td>\n",
       "      <td>...</td>\n",
       "      <td>0.0</td>\n",
       "      <td>1.0</td>\n",
       "      <td>0.0</td>\n",
       "      <td>0.0</td>\n",
       "      <td>1.0</td>\n",
       "      <td>0.0</td>\n",
       "      <td>0.0</td>\n",
       "      <td>0.0</td>\n",
       "      <td>0.0</td>\n",
       "      <td>1.0</td>\n",
       "    </tr>\n",
       "  </tbody>\n",
       "</table>\n",
       "<p>5 rows × 109 columns</p>\n",
       "</div>"
      ],
      "text/plain": [
       "   0    1    2    3    4    5    6    7    8    9    ...  99   100  101  102  \\\n",
       "0  0.0  1.0  0.0  0.0  0.0  0.0  0.0  0.0  0.0  0.0  ...  0.0  1.0  0.0  0.0   \n",
       "1  0.0  0.0  0.0  0.0  0.0  0.0  0.0  0.0  1.0  0.0  ...  0.0  0.0  1.0  0.0   \n",
       "2  0.0  0.0  1.0  0.0  0.0  0.0  0.0  0.0  0.0  0.0  ...  0.0  1.0  0.0  0.0   \n",
       "3  0.0  0.0  0.0  0.0  0.0  0.0  0.0  0.0  1.0  0.0  ...  0.0  1.0  0.0  0.0   \n",
       "4  0.0  0.0  0.0  0.0  0.0  0.0  0.0  1.0  0.0  0.0  ...  0.0  1.0  0.0  0.0   \n",
       "\n",
       "   103  104  105  106  107  108  \n",
       "0  1.0  0.0  0.0  1.0  0.0  0.0  \n",
       "1  0.0  1.0  0.0  0.0  0.0  1.0  \n",
       "2  1.0  0.0  0.0  1.0  0.0  0.0  \n",
       "3  0.0  1.0  0.0  0.0  0.0  1.0  \n",
       "4  1.0  0.0  0.0  0.0  0.0  1.0  \n",
       "\n",
       "[5 rows x 109 columns]"
      ]
     },
     "execution_count": 15,
     "metadata": {},
     "output_type": "execute_result"
    }
   ],
   "source": [
    "X_cat_multi_df = pd.DataFrame(onehot.toarray())\n",
    "X_cat_multi_df.head()"
   ]
  },
  {
   "cell_type": "markdown",
   "metadata": {},
   "source": [
    "## Concatenate Numerical and Categorical Variables"
   ]
  },
  {
   "cell_type": "code",
   "execution_count": 16,
   "metadata": {},
   "outputs": [
    {
     "data": {
      "text/html": [
       "<div>\n",
       "<style scoped>\n",
       "    .dataframe tbody tr th:only-of-type {\n",
       "        vertical-align: middle;\n",
       "    }\n",
       "\n",
       "    .dataframe tbody tr th {\n",
       "        vertical-align: top;\n",
       "    }\n",
       "\n",
       "    .dataframe thead th {\n",
       "        text-align: right;\n",
       "    }\n",
       "</style>\n",
       "<table border=\"1\" class=\"dataframe\">\n",
       "  <thead>\n",
       "    <tr style=\"text-align: right;\">\n",
       "      <th></th>\n",
       "      <th>AGE</th>\n",
       "      <th>URINE2</th>\n",
       "      <th>COLDHEAT_S</th>\n",
       "      <th>HEIGHT</th>\n",
       "      <th>WEIGHT</th>\n",
       "      <th>BMI</th>\n",
       "      <th>BODYMEAS_8HAND1</th>\n",
       "      <th>BODYMEAS_8HAND2</th>\n",
       "      <th>BODYMEAS_8HAND3</th>\n",
       "      <th>BODYMEAS_8HAND4</th>\n",
       "      <th>...</th>\n",
       "      <th>99</th>\n",
       "      <th>100</th>\n",
       "      <th>101</th>\n",
       "      <th>102</th>\n",
       "      <th>103</th>\n",
       "      <th>104</th>\n",
       "      <th>105</th>\n",
       "      <th>106</th>\n",
       "      <th>107</th>\n",
       "      <th>108</th>\n",
       "    </tr>\n",
       "  </thead>\n",
       "  <tbody>\n",
       "    <tr>\n",
       "      <th>0</th>\n",
       "      <td>0.525409</td>\n",
       "      <td>0.2</td>\n",
       "      <td>0.500000</td>\n",
       "      <td>0.401786</td>\n",
       "      <td>0.272727</td>\n",
       "      <td>0.327957</td>\n",
       "      <td>0.137931</td>\n",
       "      <td>0.348837</td>\n",
       "      <td>0.511530</td>\n",
       "      <td>0.545455</td>\n",
       "      <td>...</td>\n",
       "      <td>0.0</td>\n",
       "      <td>1.0</td>\n",
       "      <td>0.0</td>\n",
       "      <td>0.0</td>\n",
       "      <td>1.0</td>\n",
       "      <td>0.0</td>\n",
       "      <td>0.0</td>\n",
       "      <td>1.0</td>\n",
       "      <td>0.0</td>\n",
       "      <td>0.0</td>\n",
       "    </tr>\n",
       "    <tr>\n",
       "      <th>1</th>\n",
       "      <td>0.966506</td>\n",
       "      <td>0.2</td>\n",
       "      <td>0.583333</td>\n",
       "      <td>0.334821</td>\n",
       "      <td>0.384615</td>\n",
       "      <td>0.553763</td>\n",
       "      <td>0.551724</td>\n",
       "      <td>0.465116</td>\n",
       "      <td>0.595388</td>\n",
       "      <td>0.634581</td>\n",
       "      <td>...</td>\n",
       "      <td>0.0</td>\n",
       "      <td>0.0</td>\n",
       "      <td>1.0</td>\n",
       "      <td>0.0</td>\n",
       "      <td>0.0</td>\n",
       "      <td>1.0</td>\n",
       "      <td>0.0</td>\n",
       "      <td>0.0</td>\n",
       "      <td>0.0</td>\n",
       "      <td>1.0</td>\n",
       "    </tr>\n",
       "    <tr>\n",
       "      <th>2</th>\n",
       "      <td>0.543846</td>\n",
       "      <td>0.2</td>\n",
       "      <td>0.500000</td>\n",
       "      <td>0.446429</td>\n",
       "      <td>0.328671</td>\n",
       "      <td>0.381720</td>\n",
       "      <td>0.413793</td>\n",
       "      <td>0.581395</td>\n",
       "      <td>0.574423</td>\n",
       "      <td>0.438503</td>\n",
       "      <td>...</td>\n",
       "      <td>0.0</td>\n",
       "      <td>1.0</td>\n",
       "      <td>0.0</td>\n",
       "      <td>0.0</td>\n",
       "      <td>1.0</td>\n",
       "      <td>0.0</td>\n",
       "      <td>0.0</td>\n",
       "      <td>1.0</td>\n",
       "      <td>0.0</td>\n",
       "      <td>0.0</td>\n",
       "    </tr>\n",
       "    <tr>\n",
       "      <th>3</th>\n",
       "      <td>0.551306</td>\n",
       "      <td>0.2</td>\n",
       "      <td>0.750000</td>\n",
       "      <td>0.558036</td>\n",
       "      <td>0.566434</td>\n",
       "      <td>0.645161</td>\n",
       "      <td>0.551724</td>\n",
       "      <td>0.581395</td>\n",
       "      <td>0.679245</td>\n",
       "      <td>0.688057</td>\n",
       "      <td>...</td>\n",
       "      <td>0.0</td>\n",
       "      <td>1.0</td>\n",
       "      <td>0.0</td>\n",
       "      <td>0.0</td>\n",
       "      <td>0.0</td>\n",
       "      <td>1.0</td>\n",
       "      <td>0.0</td>\n",
       "      <td>0.0</td>\n",
       "      <td>0.0</td>\n",
       "      <td>1.0</td>\n",
       "    </tr>\n",
       "    <tr>\n",
       "      <th>4</th>\n",
       "      <td>0.537980</td>\n",
       "      <td>0.0</td>\n",
       "      <td>0.416667</td>\n",
       "      <td>0.558036</td>\n",
       "      <td>0.482517</td>\n",
       "      <td>0.526882</td>\n",
       "      <td>0.620690</td>\n",
       "      <td>0.755814</td>\n",
       "      <td>0.805031</td>\n",
       "      <td>0.652406</td>\n",
       "      <td>...</td>\n",
       "      <td>0.0</td>\n",
       "      <td>1.0</td>\n",
       "      <td>0.0</td>\n",
       "      <td>0.0</td>\n",
       "      <td>1.0</td>\n",
       "      <td>0.0</td>\n",
       "      <td>0.0</td>\n",
       "      <td>0.0</td>\n",
       "      <td>0.0</td>\n",
       "      <td>1.0</td>\n",
       "    </tr>\n",
       "    <tr>\n",
       "      <th>...</th>\n",
       "      <td>...</td>\n",
       "      <td>...</td>\n",
       "      <td>...</td>\n",
       "      <td>...</td>\n",
       "      <td>...</td>\n",
       "      <td>...</td>\n",
       "      <td>...</td>\n",
       "      <td>...</td>\n",
       "      <td>...</td>\n",
       "      <td>...</td>\n",
       "      <td>...</td>\n",
       "      <td>...</td>\n",
       "      <td>...</td>\n",
       "      <td>...</td>\n",
       "      <td>...</td>\n",
       "      <td>...</td>\n",
       "      <td>...</td>\n",
       "      <td>...</td>\n",
       "      <td>...</td>\n",
       "      <td>...</td>\n",
       "      <td>...</td>\n",
       "    </tr>\n",
       "    <tr>\n",
       "      <th>461</th>\n",
       "      <td>0.805561</td>\n",
       "      <td>0.5</td>\n",
       "      <td>0.333333</td>\n",
       "      <td>0.370536</td>\n",
       "      <td>0.267133</td>\n",
       "      <td>0.344086</td>\n",
       "      <td>0.034483</td>\n",
       "      <td>0.145349</td>\n",
       "      <td>0.431866</td>\n",
       "      <td>0.491979</td>\n",
       "      <td>...</td>\n",
       "      <td>1.0</td>\n",
       "      <td>0.0</td>\n",
       "      <td>0.0</td>\n",
       "      <td>0.0</td>\n",
       "      <td>1.0</td>\n",
       "      <td>0.0</td>\n",
       "      <td>0.0</td>\n",
       "      <td>1.0</td>\n",
       "      <td>0.0</td>\n",
       "      <td>0.0</td>\n",
       "    </tr>\n",
       "    <tr>\n",
       "      <th>462</th>\n",
       "      <td>0.801261</td>\n",
       "      <td>0.2</td>\n",
       "      <td>0.500000</td>\n",
       "      <td>0.417411</td>\n",
       "      <td>0.302098</td>\n",
       "      <td>0.365591</td>\n",
       "      <td>0.172414</td>\n",
       "      <td>0.290698</td>\n",
       "      <td>0.490566</td>\n",
       "      <td>0.465241</td>\n",
       "      <td>...</td>\n",
       "      <td>1.0</td>\n",
       "      <td>0.0</td>\n",
       "      <td>0.0</td>\n",
       "      <td>0.0</td>\n",
       "      <td>1.0</td>\n",
       "      <td>0.0</td>\n",
       "      <td>0.0</td>\n",
       "      <td>0.0</td>\n",
       "      <td>1.0</td>\n",
       "      <td>0.0</td>\n",
       "    </tr>\n",
       "    <tr>\n",
       "      <th>463</th>\n",
       "      <td>0.379741</td>\n",
       "      <td>0.2</td>\n",
       "      <td>0.583333</td>\n",
       "      <td>0.383929</td>\n",
       "      <td>0.418182</td>\n",
       "      <td>0.569892</td>\n",
       "      <td>0.193103</td>\n",
       "      <td>0.372093</td>\n",
       "      <td>0.459119</td>\n",
       "      <td>0.474153</td>\n",
       "      <td>...</td>\n",
       "      <td>0.0</td>\n",
       "      <td>1.0</td>\n",
       "      <td>0.0</td>\n",
       "      <td>0.0</td>\n",
       "      <td>0.0</td>\n",
       "      <td>1.0</td>\n",
       "      <td>0.0</td>\n",
       "      <td>0.0</td>\n",
       "      <td>0.0</td>\n",
       "      <td>1.0</td>\n",
       "    </tr>\n",
       "    <tr>\n",
       "      <th>464</th>\n",
       "      <td>0.017805</td>\n",
       "      <td>0.0</td>\n",
       "      <td>0.666667</td>\n",
       "      <td>0.212054</td>\n",
       "      <td>0.000000</td>\n",
       "      <td>0.000000</td>\n",
       "      <td>0.068966</td>\n",
       "      <td>0.000000</td>\n",
       "      <td>0.039832</td>\n",
       "      <td>0.024955</td>\n",
       "      <td>...</td>\n",
       "      <td>0.0</td>\n",
       "      <td>1.0</td>\n",
       "      <td>0.0</td>\n",
       "      <td>0.0</td>\n",
       "      <td>0.0</td>\n",
       "      <td>1.0</td>\n",
       "      <td>0.0</td>\n",
       "      <td>0.0</td>\n",
       "      <td>1.0</td>\n",
       "      <td>0.0</td>\n",
       "    </tr>\n",
       "    <tr>\n",
       "      <th>465</th>\n",
       "      <td>0.096622</td>\n",
       "      <td>0.0</td>\n",
       "      <td>0.750000</td>\n",
       "      <td>0.910714</td>\n",
       "      <td>0.741259</td>\n",
       "      <td>0.602151</td>\n",
       "      <td>0.379310</td>\n",
       "      <td>0.494186</td>\n",
       "      <td>0.641509</td>\n",
       "      <td>0.638146</td>\n",
       "      <td>...</td>\n",
       "      <td>0.0</td>\n",
       "      <td>1.0</td>\n",
       "      <td>0.0</td>\n",
       "      <td>0.0</td>\n",
       "      <td>0.0</td>\n",
       "      <td>1.0</td>\n",
       "      <td>0.0</td>\n",
       "      <td>0.0</td>\n",
       "      <td>1.0</td>\n",
       "      <td>0.0</td>\n",
       "    </tr>\n",
       "  </tbody>\n",
       "</table>\n",
       "<p>466 rows × 142 columns</p>\n",
       "</div>"
      ],
      "text/plain": [
       "          AGE  URINE2  COLDHEAT_S    HEIGHT    WEIGHT       BMI  \\\n",
       "0    0.525409     0.2    0.500000  0.401786  0.272727  0.327957   \n",
       "1    0.966506     0.2    0.583333  0.334821  0.384615  0.553763   \n",
       "2    0.543846     0.2    0.500000  0.446429  0.328671  0.381720   \n",
       "3    0.551306     0.2    0.750000  0.558036  0.566434  0.645161   \n",
       "4    0.537980     0.0    0.416667  0.558036  0.482517  0.526882   \n",
       "..        ...     ...         ...       ...       ...       ...   \n",
       "461  0.805561     0.5    0.333333  0.370536  0.267133  0.344086   \n",
       "462  0.801261     0.2    0.500000  0.417411  0.302098  0.365591   \n",
       "463  0.379741     0.2    0.583333  0.383929  0.418182  0.569892   \n",
       "464  0.017805     0.0    0.666667  0.212054  0.000000  0.000000   \n",
       "465  0.096622     0.0    0.750000  0.910714  0.741259  0.602151   \n",
       "\n",
       "     BODYMEAS_8HAND1  BODYMEAS_8HAND2  BODYMEAS_8HAND3  BODYMEAS_8HAND4  ...  \\\n",
       "0           0.137931         0.348837         0.511530         0.545455  ...   \n",
       "1           0.551724         0.465116         0.595388         0.634581  ...   \n",
       "2           0.413793         0.581395         0.574423         0.438503  ...   \n",
       "3           0.551724         0.581395         0.679245         0.688057  ...   \n",
       "4           0.620690         0.755814         0.805031         0.652406  ...   \n",
       "..               ...              ...              ...              ...  ...   \n",
       "461         0.034483         0.145349         0.431866         0.491979  ...   \n",
       "462         0.172414         0.290698         0.490566         0.465241  ...   \n",
       "463         0.193103         0.372093         0.459119         0.474153  ...   \n",
       "464         0.068966         0.000000         0.039832         0.024955  ...   \n",
       "465         0.379310         0.494186         0.641509         0.638146  ...   \n",
       "\n",
       "      99  100  101  102  103  104  105  106  107  108  \n",
       "0    0.0  1.0  0.0  0.0  1.0  0.0  0.0  1.0  0.0  0.0  \n",
       "1    0.0  0.0  1.0  0.0  0.0  1.0  0.0  0.0  0.0  1.0  \n",
       "2    0.0  1.0  0.0  0.0  1.0  0.0  0.0  1.0  0.0  0.0  \n",
       "3    0.0  1.0  0.0  0.0  0.0  1.0  0.0  0.0  0.0  1.0  \n",
       "4    0.0  1.0  0.0  0.0  1.0  0.0  0.0  0.0  0.0  1.0  \n",
       "..   ...  ...  ...  ...  ...  ...  ...  ...  ...  ...  \n",
       "461  1.0  0.0  0.0  0.0  1.0  0.0  0.0  1.0  0.0  0.0  \n",
       "462  1.0  0.0  0.0  0.0  1.0  0.0  0.0  0.0  1.0  0.0  \n",
       "463  0.0  1.0  0.0  0.0  0.0  1.0  0.0  0.0  0.0  1.0  \n",
       "464  0.0  1.0  0.0  0.0  0.0  1.0  0.0  0.0  1.0  0.0  \n",
       "465  0.0  1.0  0.0  0.0  0.0  1.0  0.0  0.0  1.0  0.0  \n",
       "\n",
       "[466 rows x 142 columns]"
      ]
     },
     "execution_count": 16,
     "metadata": {},
     "output_type": "execute_result"
    }
   ],
   "source": [
    "X_data_df = pd.concat([numeric_data_df, X_cat_binary_df, X_cat_multi_df], axis=1)\n",
    "X_data_df"
   ]
  },
  {
   "cell_type": "code",
   "execution_count": 17,
   "metadata": {},
   "outputs": [
    {
     "name": "stdout",
     "output_type": "stream",
     "text": [
      "(466, 142) (466,)\n"
     ]
    }
   ],
   "source": [
    "X_data = np.array(X_data_df)\n",
    "\n",
    "print(X_data.shape, y_data.shape)"
   ]
  },
  {
   "cell_type": "markdown",
   "metadata": {},
   "source": [
    "## Train Test Split"
   ]
  },
  {
   "cell_type": "code",
   "execution_count": 18,
   "metadata": {},
   "outputs": [
    {
     "name": "stdout",
     "output_type": "stream",
     "text": [
      "(419, 142) (419,)\n",
      "(47, 142) (47,)\n"
     ]
    }
   ],
   "source": [
    "from sklearn.model_selection import train_test_split\n",
    "\n",
    "X_train, X_test, y_train, y_test = train_test_split(X_data, y_data,\n",
    "                                                    test_size=0.1,\n",
    "                                                    stratify=y_data,\n",
    "                                                    random_state=12345)\n",
    "print(X_train.shape, y_train.shape)\n",
    "print(X_test.shape, y_test.shape)"
   ]
  },
  {
   "cell_type": "markdown",
   "metadata": {},
   "source": [
    "# Modeling"
   ]
  },
  {
   "cell_type": "markdown",
   "metadata": {},
   "source": [
    "# Decision Tree"
   ]
  },
  {
   "cell_type": "code",
   "execution_count": 19,
   "metadata": {},
   "outputs": [
    {
     "data": {
      "text/plain": [
       "DecisionTreeClassifier(random_state=1000)"
      ]
     },
     "execution_count": 19,
     "metadata": {},
     "output_type": "execute_result"
    }
   ],
   "source": [
    "from sklearn.tree import DecisionTreeClassifier\n",
    "from sklearn.metrics import accuracy_score\n",
    "from sklearn.metrics import f1_score\n",
    "\n",
    "dt = DecisionTreeClassifier(random_state=1000)\n",
    "dt.fit(X_train, y_train)"
   ]
  },
  {
   "cell_type": "code",
   "execution_count": 20,
   "metadata": {},
   "outputs": [
    {
     "name": "stdout",
     "output_type": "stream",
     "text": [
      "[2 3 3 1 3 3 3 1 2 1]\n"
     ]
    }
   ],
   "source": [
    "dt_pred = dt.predict(X_test)\n",
    "print(dt_pred[:10])"
   ]
  },
  {
   "cell_type": "code",
   "execution_count": 21,
   "metadata": {},
   "outputs": [
    {
     "data": {
      "text/plain": [
       "0.5106382978723404"
      ]
     },
     "execution_count": 21,
     "metadata": {},
     "output_type": "execute_result"
    }
   ],
   "source": [
    "accuracy_score(y_test, dt_pred)"
   ]
  },
  {
   "cell_type": "code",
   "execution_count": 22,
   "metadata": {},
   "outputs": [
    {
     "data": {
      "text/plain": [
       "0.5106382978723404"
      ]
     },
     "execution_count": 22,
     "metadata": {},
     "output_type": "execute_result"
    }
   ],
   "source": [
    "f1_score(y_test, dt_pred, average='micro')"
   ]
  },
  {
   "cell_type": "markdown",
   "metadata": {},
   "source": [
    "## RandomForest"
   ]
  },
  {
   "cell_type": "code",
   "execution_count": 23,
   "metadata": {},
   "outputs": [
    {
     "data": {
      "text/plain": [
       "RandomForestClassifier(max_features='sqrt', n_estimators=1000,\n",
       "                       random_state=1000)"
      ]
     },
     "execution_count": 23,
     "metadata": {},
     "output_type": "execute_result"
    }
   ],
   "source": [
    "from sklearn.ensemble import RandomForestClassifier\n",
    "\n",
    "rf = RandomForestClassifier(n_estimators = 1000, max_features = 'sqrt', \n",
    "                           random_state = 1000)\n",
    "rf.fit(X_train, y_train)"
   ]
  },
  {
   "cell_type": "code",
   "execution_count": 24,
   "metadata": {},
   "outputs": [
    {
     "name": "stdout",
     "output_type": "stream",
     "text": [
      "[2 1 3 1 3 2 2 1 3 3]\n"
     ]
    }
   ],
   "source": [
    "rf_pred = rf.predict(X_test)\n",
    "print(rf_pred[:10])"
   ]
  },
  {
   "cell_type": "code",
   "execution_count": 25,
   "metadata": {},
   "outputs": [
    {
     "data": {
      "text/plain": [
       "0.6170212765957447"
      ]
     },
     "execution_count": 25,
     "metadata": {},
     "output_type": "execute_result"
    }
   ],
   "source": [
    "accuracy_score(y_test, rf_pred)"
   ]
  },
  {
   "cell_type": "code",
   "execution_count": 26,
   "metadata": {},
   "outputs": [
    {
     "data": {
      "text/plain": [
       "0.5792559743779256"
      ]
     },
     "execution_count": 26,
     "metadata": {},
     "output_type": "execute_result"
    }
   ],
   "source": [
    "f1_score(y_test, rf_pred, average='macro')"
   ]
  },
  {
   "cell_type": "code",
   "execution_count": 27,
   "metadata": {},
   "outputs": [
    {
     "data": {
      "image/png": "[encoded data removed]",
      "text/plain": [
       "<Figure size 576x432 with 1 Axes>"
      ]
     },
     "metadata": {
      "needs_background": "light"
     },
     "output_type": "display_data"
    }
   ],
   "source": [
    "import seaborn as sns\n",
    "\n",
    "importances_values = rf.feature_importances_\n",
    "importances = pd.Series(importances_values, index=X_data_df.columns)\n",
    "\n",
    "top20 = importances.sort_values(ascending=False)[:20]\n",
    "plt.figure(figsize=(8, 6))\n",
    "plt.title('Feature importances Top 20')\n",
    "sns.barplot(x = top20, y = top20.index)\n",
    "plt.show()"
   ]
  },
  {
   "cell_type": "markdown",
   "metadata": {},
   "source": [
    "## KNN"
   ]
  },
  {
   "cell_type": "code",
   "execution_count": 28,
   "metadata": {},
   "outputs": [
    {
     "data": {
      "text/plain": [
       "KNeighborsClassifier(n_neighbors=3)"
      ]
     },
     "execution_count": 28,
     "metadata": {},
     "output_type": "execute_result"
    }
   ],
   "source": [
    "from sklearn.neighbors import KNeighborsClassifier\n",
    "\n",
    "knn = KNeighborsClassifier(n_neighbors=3)\n",
    "knn.fit(X_train, y_train)"
   ]
  },
  {
   "cell_type": "code",
   "execution_count": 29,
   "metadata": {},
   "outputs": [
    {
     "name": "stdout",
     "output_type": "stream",
     "text": [
      "[2 1 1 1 3 3 1 3 1 3]\n"
     ]
    }
   ],
   "source": [
    "knn_pred = knn.predict(X_test)\n",
    "print(knn_pred[:10])"
   ]
  },
  {
   "cell_type": "code",
   "execution_count": 30,
   "metadata": {},
   "outputs": [
    {
     "data": {
      "text/plain": [
       "0.5106382978723404"
      ]
     },
     "execution_count": 30,
     "metadata": {},
     "output_type": "execute_result"
    }
   ],
   "source": [
    "accuracy_score(y_test, knn_pred)"
   ]
  },
  {
   "cell_type": "code",
   "execution_count": 31,
   "metadata": {},
   "outputs": [
    {
     "data": {
      "text/plain": [
       "0.49111267715918877"
      ]
     },
     "execution_count": 31,
     "metadata": {},
     "output_type": "execute_result"
    }
   ],
   "source": [
    "f1_score(y_test, knn_pred, average='macro')"
   ]
  },
  {
   "cell_type": "markdown",
   "metadata": {},
   "source": [
    "## LDA"
   ]
  },
  {
   "cell_type": "code",
   "execution_count": 32,
   "metadata": {},
   "outputs": [
    {
     "data": {
      "text/plain": [
       "LinearDiscriminantAnalysis()"
      ]
     },
     "execution_count": 32,
     "metadata": {},
     "output_type": "execute_result"
    }
   ],
   "source": [
    "from sklearn.discriminant_analysis import LinearDiscriminantAnalysis\n",
    "\n",
    "lda = LinearDiscriminantAnalysis()\n",
    "lda.fit(X_train, y_train)"
   ]
  },
  {
   "cell_type": "code",
   "execution_count": 33,
   "metadata": {},
   "outputs": [
    {
     "name": "stdout",
     "output_type": "stream",
     "text": [
      "[2 1 3 2 3 2 3 1 1 2]\n"
     ]
    }
   ],
   "source": [
    "lda_pred = lda.predict(X_test)\n",
    "print(lda_pred[:10])"
   ]
  },
  {
   "cell_type": "code",
   "execution_count": 34,
   "metadata": {},
   "outputs": [
    {
     "data": {
      "text/plain": [
       "0.40425531914893614"
      ]
     },
     "execution_count": 34,
     "metadata": {},
     "output_type": "execute_result"
    }
   ],
   "source": [
    "accuracy_score(y_test, lda_pred)"
   ]
  },
  {
   "cell_type": "code",
   "execution_count": 35,
   "metadata": {},
   "outputs": [
    {
     "data": {
      "text/plain": [
       "0.381926922717503"
      ]
     },
     "execution_count": 35,
     "metadata": {},
     "output_type": "execute_result"
    }
   ],
   "source": [
    "f1_score(y_test, lda_pred, average='macro')"
   ]
  },
  {
   "cell_type": "markdown",
   "metadata": {},
   "source": [
    "## Logistic Regression"
   ]
  },
  {
   "cell_type": "code",
   "execution_count": 36,
   "metadata": {},
   "outputs": [
    {
     "data": {
      "text/plain": [
       "LogisticRegression(penalty='l1', solver='liblinear')"
      ]
     },
     "execution_count": 36,
     "metadata": {},
     "output_type": "execute_result"
    }
   ],
   "source": [
    "from sklearn.linear_model import LogisticRegression\n",
    "\n",
    "lr = LogisticRegression(penalty='l1', solver='liblinear')\n",
    "lr.fit(X_train, y_train)"
   ]
  },
  {
   "cell_type": "code",
   "execution_count": 37,
   "metadata": {},
   "outputs": [
    {
     "name": "stdout",
     "output_type": "stream",
     "text": [
      "[2 1 3 1 3 2 3 1 1 2]\n"
     ]
    }
   ],
   "source": [
    "lr_pred = lr.predict(X_test)\n",
    "print(lr_pred[:10])"
   ]
  },
  {
   "cell_type": "code",
   "execution_count": 38,
   "metadata": {},
   "outputs": [
    {
     "data": {
      "text/plain": [
       "0.46808510638297873"
      ]
     },
     "execution_count": 38,
     "metadata": {},
     "output_type": "execute_result"
    }
   ],
   "source": [
    "accuracy_score(y_test, lr_pred)"
   ]
  },
  {
   "cell_type": "code",
   "execution_count": 39,
   "metadata": {},
   "outputs": [
    {
     "data": {
      "text/plain": [
       "0.4537732537732537"
      ]
     },
     "execution_count": 39,
     "metadata": {},
     "output_type": "execute_result"
    }
   ],
   "source": [
    "f1_score(y_test, lr_pred, average='macro')"
   ]
  },
  {
   "cell_type": "markdown",
   "metadata": {},
   "source": [
    "## GBM"
   ]
  },
  {
   "cell_type": "code",
   "execution_count": 40,
   "metadata": {},
   "outputs": [
    {
     "name": "stdout",
     "output_type": "stream",
     "text": [
      "[3 1 3 1 2 3 2 1 3 3]\n"
     ]
    }
   ],
   "source": [
    "from sklearn.ensemble import GradientBoostingClassifier\n",
    "\n",
    "gbm = GradientBoostingClassifier(n_estimators=500, max_depth=8, random_state=1000)\n",
    "gbm.fit(X_train, y_train)\n",
    "\n",
    "gbm_pred = gbm.predict(X_test)\n",
    "print(gbm_pred[:10])"
   ]
  },
  {
   "cell_type": "code",
   "execution_count": 41,
   "metadata": {},
   "outputs": [
    {
     "data": {
      "text/plain": [
       "0.6170212765957447"
      ]
     },
     "execution_count": 41,
     "metadata": {},
     "output_type": "execute_result"
    }
   ],
   "source": [
    "accuracy_score(y_test, gbm_pred)"
   ]
  },
  {
   "cell_type": "code",
   "execution_count": 42,
   "metadata": {},
   "outputs": [
    {
     "data": {
      "text/plain": [
       "0.6056184668989547"
      ]
     },
     "execution_count": 42,
     "metadata": {},
     "output_type": "execute_result"
    }
   ],
   "source": [
    "f1_score(y_test, gbm_pred, average='macro')"
   ]
  },
  {
   "cell_type": "markdown",
   "metadata": {},
   "source": [
    "## AdaBoost"
   ]
  },
  {
   "cell_type": "code",
   "execution_count": 43,
   "metadata": {},
   "outputs": [
    {
     "name": "stdout",
     "output_type": "stream",
     "text": [
      "[3 1 3 1 3 2 2 1 3 2]\n"
     ]
    }
   ],
   "source": [
    "from sklearn.ensemble import AdaBoostClassifier\n",
    "\n",
    "ada = AdaBoostClassifier(n_estimators = 300, learning_rate = 0.1, random_state=1000)\n",
    "ada.fit(X_train, y_train)\n",
    "\n",
    "ada_pred = ada.predict(X_test)\n",
    "print(ada_pred[:10])"
   ]
  },
  {
   "cell_type": "code",
   "execution_count": 44,
   "metadata": {},
   "outputs": [
    {
     "data": {
      "text/plain": [
       "0.5319148936170213"
      ]
     },
     "execution_count": 44,
     "metadata": {},
     "output_type": "execute_result"
    }
   ],
   "source": [
    "accuracy_score(y_test, ada_pred)"
   ]
  },
  {
   "cell_type": "code",
   "execution_count": 45,
   "metadata": {},
   "outputs": [
    {
     "data": {
      "text/plain": [
       "0.4973921289710763"
      ]
     },
     "execution_count": 45,
     "metadata": {},
     "output_type": "execute_result"
    }
   ],
   "source": [
    "f1_score(y_test, ada_pred, average='macro')"
   ]
  },
  {
   "cell_type": "markdown",
   "metadata": {},
   "source": [
    "## XGBoost"
   ]
  },
  {
   "cell_type": "code",
   "execution_count": 46,
   "metadata": {},
   "outputs": [
    {
     "name": "stdout",
     "output_type": "stream",
     "text": [
      "1.3.3\n",
      "[14:19:32] WARNING: /opt/concourse/worker/volumes/live/7a2b9f41-3287-451b-6691-43e9a6c0910f/volume/xgboost-split_1619728204606/work/src/learner.cc:1061: Starting in XGBoost 1.3.0, the default evaluation metric used with the objective 'multi:softprob' was changed from 'merror' to 'mlogloss'. Explicitly set eval_metric if you'd like to restore the old behavior.\n"
     ]
    },
    {
     "name": "stderr",
     "output_type": "stream",
     "text": [
      "/Users/kimsunghun/opt/anaconda3/lib/python3.8/site-packages/xgboost/sklearn.py:888: UserWarning: The use of label encoder in XGBClassifier is deprecated and will be removed in a future release. To remove this warning, do the following: 1) Pass option use_label_encoder=False when constructing XGBClassifier object; and 2) Encode your labels (y) as integers starting with 0, i.e. 0, 1, 2, ..., [num_class - 1].\n",
      "  warnings.warn(label_encoder_deprecation_msg, UserWarning)\n"
     ]
    },
    {
     "name": "stdout",
     "output_type": "stream",
     "text": [
      "[2 1 3 3 3 3 2 1 3 3]\n"
     ]
    }
   ],
   "source": [
    "import xgboost as xgb\n",
    "print(xgb.__version__)\n",
    "\n",
    "xgb_clf = xgb.XGBClassifier(learning_rate=0.1, max_depth=15, n_estimators=1000)\n",
    "xgb_clf.fit(X_train, y_train, verbose=False)\n",
    "\n",
    "xgb_pred = xgb_clf.predict(X_test)\n",
    "print(xgb_pred[:10])"
   ]
  },
  {
   "cell_type": "code",
   "execution_count": 47,
   "metadata": {},
   "outputs": [
    {
     "data": {
      "text/plain": [
       "0.5106382978723404"
      ]
     },
     "execution_count": 47,
     "metadata": {},
     "output_type": "execute_result"
    }
   ],
   "source": [
    "accuracy_score(y_test, xgb_pred)"
   ]
  },
  {
   "cell_type": "code",
   "execution_count": 48,
   "metadata": {},
   "outputs": [
    {
     "data": {
      "text/plain": [
       "0.49945533769063183"
      ]
     },
     "execution_count": 48,
     "metadata": {},
     "output_type": "execute_result"
    }
   ],
   "source": [
    "f1_score(y_test, xgb_pred, average='macro')"
   ]
  },
  {
   "cell_type": "code",
   "execution_count": 49,
   "metadata": {},
   "outputs": [
    {
     "data": {
      "image/png": "[encoded data removed]",
      "text/plain": [
       "<Figure size 720x864 with 1 Axes>"
      ]
     },
     "metadata": {
      "needs_background": "light"
     },
     "output_type": "display_data"
    }
   ],
   "source": [
    "from xgboost import plot_importance\n",
    "\n",
    "plot_importance(xgb_clf, max_num_features=20)\n",
    "\n",
    "fig = plt.gcf()\n",
    "fig.set_size_inches(10, 12)"
   ]
  },
  {
   "cell_type": "markdown",
   "metadata": {},
   "source": [
    "## LightGBM"
   ]
  },
  {
   "cell_type": "code",
   "execution_count": 50,
   "metadata": {},
   "outputs": [
    {
     "name": "stdout",
     "output_type": "stream",
     "text": [
      "[LightGBM] [Warning] Accuracy may be bad since you didn't explicitly set num_leaves OR 2^max_depth > num_leaves. (num_leaves=31).\n"
     ]
    },
    {
     "data": {
      "text/plain": [
       "LGBMClassifier(max_depth=8, n_estimators=1000)"
      ]
     },
     "execution_count": 50,
     "metadata": {},
     "output_type": "execute_result"
    }
   ],
   "source": [
    "import lightgbm as lgb\n",
    "\n",
    "\n",
    "lgb_clf = lgb.LGBMClassifier(n_estimators=1000, max_depth=8)\n",
    "lgb_clf.fit(X_train, y_train,\n",
    "        eval_set=[(X_test, y_test)],\n",
    "        early_stopping_rounds=1000,\n",
    "        verbose = False)"
   ]
  },
  {
   "cell_type": "code",
   "execution_count": 51,
   "metadata": {},
   "outputs": [
    {
     "name": "stdout",
     "output_type": "stream",
     "text": [
      "[2 1 3 1 2 2 2 1 3 3]\n"
     ]
    }
   ],
   "source": [
    "lgb_pred = lgb_clf.predict(X_test)\n",
    "print(lgb_pred[:10])"
   ]
  },
  {
   "cell_type": "code",
   "execution_count": 52,
   "metadata": {},
   "outputs": [
    {
     "data": {
      "text/plain": [
       "0.6382978723404256"
      ]
     },
     "execution_count": 52,
     "metadata": {},
     "output_type": "execute_result"
    }
   ],
   "source": [
    "accuracy_score(y_test, lgb_pred)"
   ]
  },
  {
   "cell_type": "code",
   "execution_count": 53,
   "metadata": {},
   "outputs": [
    {
     "data": {
      "text/plain": [
       "0.6273090708574579"
      ]
     },
     "execution_count": 53,
     "metadata": {},
     "output_type": "execute_result"
    }
   ],
   "source": [
    "f1_score(y_test, lgb_pred, average='macro')"
   ]
  },
  {
   "cell_type": "markdown",
   "metadata": {},
   "source": [
    "# Ensemble"
   ]
  },
  {
   "cell_type": "code",
   "execution_count": 54,
   "metadata": {},
   "outputs": [],
   "source": [
    "import torch\n",
    "from sklearn.metrics import accuracy_score\n",
    "\n",
    "class EnsembleClassifier:\n",
    "    def __init__(self, models, voting='soft', weights=None):\n",
    "        \n",
    "        self.models = models\n",
    "        self.voting = voting\n",
    "        self.weights = weights\n",
    "        \n",
    "    def predict(self, X_test): \n",
    "        pred_list = []\n",
    "        for model in models.values():\n",
    "            pred_list.append(model.predict_proba(X_test))\n",
    "        preds = np.array(pred_list)\n",
    "        \n",
    "        if self.voting == 'soft':\n",
    "            prediction = np.average(preds, axis=0, weights=self.weights)\n",
    "        elif self.voting == 'hard':\n",
    "            pass\n",
    "        \n",
    "        return prediction\n",
    "    \n",
    "    def random_search(self, X_test, y_test, num_search):\n",
    "        weights = torch.softmax(torch.rand(num_search, len(self.models)), axis=1).numpy()\n",
    "        \n",
    "        pred_list = []\n",
    "        for model in models.values():\n",
    "            pred_list.append(model.predict_proba(X_test))\n",
    "        preds = np.array(pred_list)\n",
    "              \n",
    "        acc = []\n",
    "        for i in range(num_search):\n",
    "            prediction = np.average(preds, axis=0, weights=weights[i])\n",
    "            acc_ = accuracy_score(y_test, prediction.argmax(axis=1)+1)\n",
    "            acc.append(acc_)\n",
    "            \n",
    "        result = pd.DataFrame(weights)\n",
    "        result['Accuracy'] = acc\n",
    "\n",
    "        return result.sort_values('Accuracy', ascending=False)"
   ]
  },
  {
   "cell_type": "code",
   "execution_count": 55,
   "metadata": {},
   "outputs": [
    {
     "data": {
      "text/html": [
       "<div>\n",
       "<style scoped>\n",
       "    .dataframe tbody tr th:only-of-type {\n",
       "        vertical-align: middle;\n",
       "    }\n",
       "\n",
       "    .dataframe tbody tr th {\n",
       "        vertical-align: top;\n",
       "    }\n",
       "\n",
       "    .dataframe thead th {\n",
       "        text-align: right;\n",
       "    }\n",
       "</style>\n",
       "<table border=\"1\" class=\"dataframe\">\n",
       "  <thead>\n",
       "    <tr style=\"text-align: right;\">\n",
       "      <th></th>\n",
       "      <th>0</th>\n",
       "      <th>1</th>\n",
       "      <th>2</th>\n",
       "      <th>Accuracy</th>\n",
       "    </tr>\n",
       "  </thead>\n",
       "  <tbody>\n",
       "    <tr>\n",
       "      <th>7602</th>\n",
       "      <td>0.337575</td>\n",
       "      <td>0.460686</td>\n",
       "      <td>0.201739</td>\n",
       "      <td>0.702128</td>\n",
       "    </tr>\n",
       "    <tr>\n",
       "      <th>25825</th>\n",
       "      <td>0.393766</td>\n",
       "      <td>0.414609</td>\n",
       "      <td>0.191624</td>\n",
       "      <td>0.702128</td>\n",
       "    </tr>\n",
       "    <tr>\n",
       "      <th>8961</th>\n",
       "      <td>0.306408</td>\n",
       "      <td>0.470768</td>\n",
       "      <td>0.222824</td>\n",
       "      <td>0.702128</td>\n",
       "    </tr>\n",
       "    <tr>\n",
       "      <th>11404</th>\n",
       "      <td>0.386837</td>\n",
       "      <td>0.396326</td>\n",
       "      <td>0.216837</td>\n",
       "      <td>0.702128</td>\n",
       "    </tr>\n",
       "    <tr>\n",
       "      <th>21953</th>\n",
       "      <td>0.336066</td>\n",
       "      <td>0.403088</td>\n",
       "      <td>0.260845</td>\n",
       "      <td>0.702128</td>\n",
       "    </tr>\n",
       "    <tr>\n",
       "      <th>...</th>\n",
       "      <td>...</td>\n",
       "      <td>...</td>\n",
       "      <td>...</td>\n",
       "      <td>...</td>\n",
       "    </tr>\n",
       "    <tr>\n",
       "      <th>9550</th>\n",
       "      <td>0.204391</td>\n",
       "      <td>0.285643</td>\n",
       "      <td>0.509966</td>\n",
       "      <td>0.638298</td>\n",
       "    </tr>\n",
       "    <tr>\n",
       "      <th>9555</th>\n",
       "      <td>0.243347</td>\n",
       "      <td>0.346431</td>\n",
       "      <td>0.410222</td>\n",
       "      <td>0.638298</td>\n",
       "    </tr>\n",
       "    <tr>\n",
       "      <th>23289</th>\n",
       "      <td>0.238936</td>\n",
       "      <td>0.328209</td>\n",
       "      <td>0.432855</td>\n",
       "      <td>0.638298</td>\n",
       "    </tr>\n",
       "    <tr>\n",
       "      <th>9562</th>\n",
       "      <td>0.214093</td>\n",
       "      <td>0.402379</td>\n",
       "      <td>0.383528</td>\n",
       "      <td>0.638298</td>\n",
       "    </tr>\n",
       "    <tr>\n",
       "      <th>0</th>\n",
       "      <td>0.220552</td>\n",
       "      <td>0.314804</td>\n",
       "      <td>0.464643</td>\n",
       "      <td>0.638298</td>\n",
       "    </tr>\n",
       "  </tbody>\n",
       "</table>\n",
       "<p>30000 rows × 4 columns</p>\n",
       "</div>"
      ],
      "text/plain": [
       "              0         1         2  Accuracy\n",
       "7602   0.337575  0.460686  0.201739  0.702128\n",
       "25825  0.393766  0.414609  0.191624  0.702128\n",
       "8961   0.306408  0.470768  0.222824  0.702128\n",
       "11404  0.386837  0.396326  0.216837  0.702128\n",
       "21953  0.336066  0.403088  0.260845  0.702128\n",
       "...         ...       ...       ...       ...\n",
       "9550   0.204391  0.285643  0.509966  0.638298\n",
       "9555   0.243347  0.346431  0.410222  0.638298\n",
       "23289  0.238936  0.328209  0.432855  0.638298\n",
       "9562   0.214093  0.402379  0.383528  0.638298\n",
       "0      0.220552  0.314804  0.464643  0.638298\n",
       "\n",
       "[30000 rows x 4 columns]"
      ]
     },
     "execution_count": 55,
     "metadata": {},
     "output_type": "execute_result"
    }
   ],
   "source": [
    "models = {'RandomForest' : rf, 'Ada' : ada, 'LightGBM' : lgb_clf}\n",
    "\n",
    "ensemble = EnsembleClassifier(models, voting='soft', weights=None)\n",
    "result = ensemble.random_search(X_test, y_test, 30000)\n",
    "result"
   ]
  },
  {
   "cell_type": "code",
   "execution_count": 56,
   "metadata": {},
   "outputs": [
    {
     "name": "stdout",
     "output_type": "stream",
     "text": [
      "[0.33757489919662476, 0.4606860876083374, 0.20173902809619904]\n"
     ]
    }
   ],
   "source": [
    "optimal_weight = result.iloc[0,:-1].tolist()\n",
    "print(optimal_weight)"
   ]
  },
  {
   "cell_type": "code",
   "execution_count": 57,
   "metadata": {},
   "outputs": [
    {
     "name": "stdout",
     "output_type": "stream",
     "text": [
      "[[0.29968412 0.37728098 0.32303491]\n",
      " [0.52005935 0.18703039 0.29291026]\n",
      " [0.24521139 0.23679742 0.51799119]\n",
      " [0.43044869 0.23802572 0.33152559]\n",
      " [0.32777955 0.34715472 0.32506573]\n",
      " [0.26461154 0.37747419 0.35791427]\n",
      " [0.22257657 0.40046454 0.37695889]\n",
      " [0.51270314 0.16354706 0.3237498 ]\n",
      " [0.24933278 0.26241774 0.48824949]\n",
      " [0.22395707 0.34042336 0.43561957]]\n"
     ]
    }
   ],
   "source": [
    "ensemble = EnsembleClassifier(models, weights=optimal_weight)\n",
    "\n",
    "preds = ensemble.predict(X_test)\n",
    "print(preds[:10])"
   ]
  },
  {
   "cell_type": "code",
   "execution_count": 58,
   "metadata": {},
   "outputs": [
    {
     "name": "stdout",
     "output_type": "stream",
     "text": [
      "앙상블 모델 정확도: 0.7021\n",
      "앙상블 모델 F1-score: 0.6913\n"
     ]
    }
   ],
   "source": [
    "accuracy = accuracy_score(y_test, preds.argmax(axis=1)+1)\n",
    "f1 = f1_score(y_test, preds.argmax(axis=1)+1, average='macro')\n",
    "print('앙상블 모델 정확도: {:.4f}'.format(accuracy))\n",
    "print('앙상블 모델 F1-score: {:.4f}'.format(f1))"
   ]
  },
  {
   "cell_type": "code",
   "execution_count": null,
   "metadata": {},
   "outputs": [],
   "source": []
  },
  {
   "cell_type": "code",
   "execution_count": null,
   "metadata": {},
   "outputs": [],
   "source": []
  }
 ],
 "metadata": {
  "kernelspec": {
   "display_name": "Python 3",
   "language": "python",
   "name": "python3"
  },
  "language_info": {
   "codemirror_mode": {
    "name": "ipython",
    "version": 3
   },
   "file_extension": ".py",
   "mimetype": "text/x-python",
   "name": "python",
   "nbconvert_exporter": "python",
   "pygments_lexer": "ipython3",
   "version": "3.8.5"
  }
 },
 "nbformat": 4,
 "nbformat_minor": 4
}
