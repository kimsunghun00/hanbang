{
 "cells": [
  {
   "cell_type": "markdown",
   "metadata": {},
   "source": [
    "# Load Data"
   ]
  },
  {
   "cell_type": "code",
   "execution_count": 1,
   "metadata": {},
   "outputs": [
    {
     "name": "stdout",
     "output_type": "stream",
     "text": [
      "2010 (216, 416)\n",
      "2011 (209, 416)\n",
      "2012 (216, 416)\n",
      "2013 (220, 416)\n",
      "2014 (255, 416)\n",
      "2015 (258, 416)\n",
      "2016 (252, 416)\n",
      "2017 (253, 416)\n",
      "2018 (231, 416)\n",
      "2019 (226, 432)\n"
     ]
    }
   ],
   "source": [
    "import os\n",
    "import pandas as pd\n",
    "import numpy as np\n",
    "\n",
    "\n",
    "def load_data(path):\n",
    "    years = [2010, 2011, 2012, 2013, 2014, 2015, 2016, 2017, 2018, 2019]\n",
    "    use_cols = ['age1',\n",
    "                'land', \n",
    "                'cvl00', 'cvl01', 'cvl02', 'cvl03',\n",
    "                'cvl10', 'cvl11', 'cvl12', 'cvl13',\n",
    "                'labch', 'labh_hour', 'lab_cost',\n",
    "                'fmtc', 'lansh',\n",
    "                'size', 'ara', 'de2',# catecorical variable\n",
    "                'cony'] # dependent variable\n",
    "\n",
    "    dataframe_list = []\n",
    "    for year in years[:7]:\n",
    "        file_path1 = os.path.join(path, str(year)+'년', str(year)+'년 임산물생산비조사_통합 데이터_1. 밤(엑셀1).xlsx')\n",
    "        file_path2 = os.path.join(path, str(year)+'년', str(year)+'년 임산물생산비조사_통합 데이터_1. 밤(엑셀2).xlsx')\n",
    "        \n",
    "        forest_data1 = pd.read_excel(file_path1)\n",
    "        forest_data2 = pd.read_excel(file_path2)\n",
    "        forest_data = pd.concat([forest_data1, forest_data2], axis=1)\n",
    "        dataframe_list.append(forest_data.loc[:,use_cols])\n",
    "        print(year, forest_data.shape)\n",
    "    \n",
    "    for year in years[7:9]:\n",
    "        file_path1 = os.path.join(path, str(year)+'년', str(year)+'년 임산물생산비조사_통합 데이터_1. 밤(엑셀 1).xls')\n",
    "        file_path2 = os.path.join(path, str(year)+'년', str(year)+'년 임산물생산비조사_통합 데이터_1. 밤(엑셀 2).xls')\n",
    "        \n",
    "        forest_data1 = pd.read_excel(file_path1)\n",
    "        forest_data2 = pd.read_excel(file_path2)\n",
    "        forest_data = pd.concat([forest_data1, forest_data2], axis=1)\n",
    "        dataframe_list.append(forest_data.loc[:,use_cols])\n",
    "        print(year, forest_data.shape)\n",
    "    \n",
    "    \n",
    "    file_path = os.path.join(path, str(years[9])+'년', str(years[9])+'년 임산물생산비조사_통합 데이터_1. 밤.xlsx')\n",
    "    forest_2019 = pd.read_excel(file_path)\n",
    "    dataframe_list.append(forest_2019.loc[:,use_cols])\n",
    "    print(2019, forest_2019.shape)\n",
    "    \n",
    "    data = pd.concat(dataframe_list, axis=0)\n",
    "    \n",
    "    return data\n",
    "    \n",
    "data = load_data('./임산물생산비조사 마이크로데이터(2010-2019)')"
   ]
  },
  {
   "cell_type": "code",
   "execution_count": 2,
   "metadata": {},
   "outputs": [
    {
     "data": {
      "text/html": [
       "<div>\n",
       "<style scoped>\n",
       "    .dataframe tbody tr th:only-of-type {\n",
       "        vertical-align: middle;\n",
       "    }\n",
       "\n",
       "    .dataframe tbody tr th {\n",
       "        vertical-align: top;\n",
       "    }\n",
       "\n",
       "    .dataframe thead th {\n",
       "        text-align: right;\n",
       "    }\n",
       "</style>\n",
       "<table border=\"1\" class=\"dataframe\">\n",
       "  <thead>\n",
       "    <tr style=\"text-align: right;\">\n",
       "      <th></th>\n",
       "      <th>age1</th>\n",
       "      <th>land</th>\n",
       "      <th>cvl00</th>\n",
       "      <th>cvl01</th>\n",
       "      <th>cvl02</th>\n",
       "      <th>cvl03</th>\n",
       "      <th>cvl10</th>\n",
       "      <th>cvl11</th>\n",
       "      <th>cvl12</th>\n",
       "      <th>cvl13</th>\n",
       "      <th>labch</th>\n",
       "      <th>labh_hour</th>\n",
       "      <th>lab_cost</th>\n",
       "      <th>fmtc</th>\n",
       "      <th>lansh</th>\n",
       "      <th>size</th>\n",
       "      <th>ara</th>\n",
       "      <th>de2</th>\n",
       "      <th>cony</th>\n",
       "    </tr>\n",
       "  </thead>\n",
       "  <tbody>\n",
       "    <tr>\n",
       "      <th>0</th>\n",
       "      <td>70</td>\n",
       "      <td>320704.4848</td>\n",
       "      <td>19.54</td>\n",
       "      <td>0.0</td>\n",
       "      <td>0.0</td>\n",
       "      <td>19.54</td>\n",
       "      <td>19.54</td>\n",
       "      <td>0.0</td>\n",
       "      <td>0.0</td>\n",
       "      <td>19.54</td>\n",
       "      <td>1.556346e+06</td>\n",
       "      <td>179.633028</td>\n",
       "      <td>25446256.0</td>\n",
       "      <td>2.945521e+06</td>\n",
       "      <td>126261.834862</td>\n",
       "      <td>4</td>\n",
       "      <td>38</td>\n",
       "      <td>2</td>\n",
       "      <td>656.513761</td>\n",
       "    </tr>\n",
       "    <tr>\n",
       "      <th>1</th>\n",
       "      <td>67</td>\n",
       "      <td>320704.4848</td>\n",
       "      <td>8.30</td>\n",
       "      <td>0.0</td>\n",
       "      <td>0.0</td>\n",
       "      <td>8.30</td>\n",
       "      <td>1.50</td>\n",
       "      <td>0.0</td>\n",
       "      <td>0.0</td>\n",
       "      <td>1.50</td>\n",
       "      <td>2.377376e+06</td>\n",
       "      <td>188.235294</td>\n",
       "      <td>3637386.0</td>\n",
       "      <td>4.049301e+06</td>\n",
       "      <td>52818.954248</td>\n",
       "      <td>1</td>\n",
       "      <td>38</td>\n",
       "      <td>2</td>\n",
       "      <td>977.124183</td>\n",
       "    </tr>\n",
       "    <tr>\n",
       "      <th>2</th>\n",
       "      <td>65</td>\n",
       "      <td>320704.4848</td>\n",
       "      <td>1.05</td>\n",
       "      <td>0.0</td>\n",
       "      <td>0.0</td>\n",
       "      <td>1.05</td>\n",
       "      <td>1.05</td>\n",
       "      <td>0.0</td>\n",
       "      <td>0.0</td>\n",
       "      <td>1.05</td>\n",
       "      <td>1.030865e+06</td>\n",
       "      <td>124.761905</td>\n",
       "      <td>1082408.0</td>\n",
       "      <td>2.465761e+06</td>\n",
       "      <td>242057.142857</td>\n",
       "      <td>1</td>\n",
       "      <td>38</td>\n",
       "      <td>2</td>\n",
       "      <td>1260.000000</td>\n",
       "    </tr>\n",
       "    <tr>\n",
       "      <th>3</th>\n",
       "      <td>67</td>\n",
       "      <td>320704.4848</td>\n",
       "      <td>4.36</td>\n",
       "      <td>0.0</td>\n",
       "      <td>0.0</td>\n",
       "      <td>4.36</td>\n",
       "      <td>0.40</td>\n",
       "      <td>0.0</td>\n",
       "      <td>0.0</td>\n",
       "      <td>0.40</td>\n",
       "      <td>1.595115e+06</td>\n",
       "      <td>188.073394</td>\n",
       "      <td>6954700.0</td>\n",
       "      <td>2.980384e+06</td>\n",
       "      <td>48649.082569</td>\n",
       "      <td>3</td>\n",
       "      <td>38</td>\n",
       "      <td>2</td>\n",
       "      <td>1075.917431</td>\n",
       "    </tr>\n",
       "    <tr>\n",
       "      <th>4</th>\n",
       "      <td>69</td>\n",
       "      <td>320704.4848</td>\n",
       "      <td>1.16</td>\n",
       "      <td>0.0</td>\n",
       "      <td>0.0</td>\n",
       "      <td>1.16</td>\n",
       "      <td>1.16</td>\n",
       "      <td>0.0</td>\n",
       "      <td>0.0</td>\n",
       "      <td>1.16</td>\n",
       "      <td>2.213072e+06</td>\n",
       "      <td>249.137931</td>\n",
       "      <td>2567164.0</td>\n",
       "      <td>3.169380e+06</td>\n",
       "      <td>53741.379310</td>\n",
       "      <td>1</td>\n",
       "      <td>38</td>\n",
       "      <td>2</td>\n",
       "      <td>2232.758621</td>\n",
       "    </tr>\n",
       "    <tr>\n",
       "      <th>...</th>\n",
       "      <td>...</td>\n",
       "      <td>...</td>\n",
       "      <td>...</td>\n",
       "      <td>...</td>\n",
       "      <td>...</td>\n",
       "      <td>...</td>\n",
       "      <td>...</td>\n",
       "      <td>...</td>\n",
       "      <td>...</td>\n",
       "      <td>...</td>\n",
       "      <td>...</td>\n",
       "      <td>...</td>\n",
       "      <td>...</td>\n",
       "      <td>...</td>\n",
       "      <td>...</td>\n",
       "      <td>...</td>\n",
       "      <td>...</td>\n",
       "      <td>...</td>\n",
       "      <td>...</td>\n",
       "    </tr>\n",
       "    <tr>\n",
       "      <th>221</th>\n",
       "      <td>76</td>\n",
       "      <td>267209.0000</td>\n",
       "      <td>6.00</td>\n",
       "      <td>0.0</td>\n",
       "      <td>0.0</td>\n",
       "      <td>6.00</td>\n",
       "      <td>6.00</td>\n",
       "      <td>0.0</td>\n",
       "      <td>0.0</td>\n",
       "      <td>6.00</td>\n",
       "      <td>1.083966e+06</td>\n",
       "      <td>71.851852</td>\n",
       "      <td>5853414.0</td>\n",
       "      <td>1.696090e+06</td>\n",
       "      <td>147777.777778</td>\n",
       "      <td>4</td>\n",
       "      <td>38</td>\n",
       "      <td>2</td>\n",
       "      <td>409.259259</td>\n",
       "    </tr>\n",
       "    <tr>\n",
       "      <th>222</th>\n",
       "      <td>64</td>\n",
       "      <td>267209.0000</td>\n",
       "      <td>8.10</td>\n",
       "      <td>0.0</td>\n",
       "      <td>0.0</td>\n",
       "      <td>8.10</td>\n",
       "      <td>3.00</td>\n",
       "      <td>0.0</td>\n",
       "      <td>0.0</td>\n",
       "      <td>3.00</td>\n",
       "      <td>2.068280e+06</td>\n",
       "      <td>139.411765</td>\n",
       "      <td>10548228.0</td>\n",
       "      <td>3.155875e+06</td>\n",
       "      <td>180245.294118</td>\n",
       "      <td>4</td>\n",
       "      <td>38</td>\n",
       "      <td>2</td>\n",
       "      <td>2576.666667</td>\n",
       "    </tr>\n",
       "    <tr>\n",
       "      <th>223</th>\n",
       "      <td>58</td>\n",
       "      <td>248258.0000</td>\n",
       "      <td>6.00</td>\n",
       "      <td>0.0</td>\n",
       "      <td>0.0</td>\n",
       "      <td>6.00</td>\n",
       "      <td>0.00</td>\n",
       "      <td>0.0</td>\n",
       "      <td>0.0</td>\n",
       "      <td>0.00</td>\n",
       "      <td>3.475242e+06</td>\n",
       "      <td>286.166667</td>\n",
       "      <td>20851452.0</td>\n",
       "      <td>4.933520e+06</td>\n",
       "      <td>400000.000000</td>\n",
       "      <td>4</td>\n",
       "      <td>99</td>\n",
       "      <td>2</td>\n",
       "      <td>2212.000000</td>\n",
       "    </tr>\n",
       "    <tr>\n",
       "      <th>224</th>\n",
       "      <td>68</td>\n",
       "      <td>248258.0000</td>\n",
       "      <td>12.00</td>\n",
       "      <td>0.0</td>\n",
       "      <td>0.0</td>\n",
       "      <td>12.00</td>\n",
       "      <td>12.00</td>\n",
       "      <td>0.0</td>\n",
       "      <td>0.0</td>\n",
       "      <td>12.00</td>\n",
       "      <td>4.170109e+06</td>\n",
       "      <td>333.500000</td>\n",
       "      <td>50041308.0</td>\n",
       "      <td>5.532741e+06</td>\n",
       "      <td>380000.000000</td>\n",
       "      <td>4</td>\n",
       "      <td>99</td>\n",
       "      <td>2</td>\n",
       "      <td>2660.000000</td>\n",
       "    </tr>\n",
       "    <tr>\n",
       "      <th>225</th>\n",
       "      <td>69</td>\n",
       "      <td>248258.0000</td>\n",
       "      <td>7.00</td>\n",
       "      <td>0.0</td>\n",
       "      <td>0.0</td>\n",
       "      <td>7.00</td>\n",
       "      <td>7.00</td>\n",
       "      <td>0.0</td>\n",
       "      <td>0.0</td>\n",
       "      <td>7.00</td>\n",
       "      <td>3.625364e+06</td>\n",
       "      <td>299.428571</td>\n",
       "      <td>25377546.0</td>\n",
       "      <td>5.093054e+06</td>\n",
       "      <td>380000.000000</td>\n",
       "      <td>4</td>\n",
       "      <td>99</td>\n",
       "      <td>2</td>\n",
       "      <td>2668.571429</td>\n",
       "    </tr>\n",
       "  </tbody>\n",
       "</table>\n",
       "<p>2336 rows × 19 columns</p>\n",
       "</div>"
      ],
      "text/plain": [
       "     age1         land  cvl00  cvl01  cvl02  cvl03  cvl10  cvl11  cvl12  \\\n",
       "0      70  320704.4848  19.54    0.0    0.0  19.54  19.54    0.0    0.0   \n",
       "1      67  320704.4848   8.30    0.0    0.0   8.30   1.50    0.0    0.0   \n",
       "2      65  320704.4848   1.05    0.0    0.0   1.05   1.05    0.0    0.0   \n",
       "3      67  320704.4848   4.36    0.0    0.0   4.36   0.40    0.0    0.0   \n",
       "4      69  320704.4848   1.16    0.0    0.0   1.16   1.16    0.0    0.0   \n",
       "..    ...          ...    ...    ...    ...    ...    ...    ...    ...   \n",
       "221    76  267209.0000   6.00    0.0    0.0   6.00   6.00    0.0    0.0   \n",
       "222    64  267209.0000   8.10    0.0    0.0   8.10   3.00    0.0    0.0   \n",
       "223    58  248258.0000   6.00    0.0    0.0   6.00   0.00    0.0    0.0   \n",
       "224    68  248258.0000  12.00    0.0    0.0  12.00  12.00    0.0    0.0   \n",
       "225    69  248258.0000   7.00    0.0    0.0   7.00   7.00    0.0    0.0   \n",
       "\n",
       "     cvl13         labch   labh_hour    lab_cost          fmtc          lansh  \\\n",
       "0    19.54  1.556346e+06  179.633028  25446256.0  2.945521e+06  126261.834862   \n",
       "1     1.50  2.377376e+06  188.235294   3637386.0  4.049301e+06   52818.954248   \n",
       "2     1.05  1.030865e+06  124.761905   1082408.0  2.465761e+06  242057.142857   \n",
       "3     0.40  1.595115e+06  188.073394   6954700.0  2.980384e+06   48649.082569   \n",
       "4     1.16  2.213072e+06  249.137931   2567164.0  3.169380e+06   53741.379310   \n",
       "..     ...           ...         ...         ...           ...            ...   \n",
       "221   6.00  1.083966e+06   71.851852   5853414.0  1.696090e+06  147777.777778   \n",
       "222   3.00  2.068280e+06  139.411765  10548228.0  3.155875e+06  180245.294118   \n",
       "223   0.00  3.475242e+06  286.166667  20851452.0  4.933520e+06  400000.000000   \n",
       "224  12.00  4.170109e+06  333.500000  50041308.0  5.532741e+06  380000.000000   \n",
       "225   7.00  3.625364e+06  299.428571  25377546.0  5.093054e+06  380000.000000   \n",
       "\n",
       "     size  ara  de2         cony  \n",
       "0       4   38    2   656.513761  \n",
       "1       1   38    2   977.124183  \n",
       "2       1   38    2  1260.000000  \n",
       "3       3   38    2  1075.917431  \n",
       "4       1   38    2  2232.758621  \n",
       "..    ...  ...  ...          ...  \n",
       "221     4   38    2   409.259259  \n",
       "222     4   38    2  2576.666667  \n",
       "223     4   99    2  2212.000000  \n",
       "224     4   99    2  2660.000000  \n",
       "225     4   99    2  2668.571429  \n",
       "\n",
       "[2336 rows x 19 columns]"
      ]
     },
     "execution_count": 2,
     "metadata": {},
     "output_type": "execute_result"
    }
   ],
   "source": [
    "data"
   ]
  },
  {
   "cell_type": "code",
   "execution_count": 3,
   "metadata": {},
   "outputs": [
    {
     "name": "stdout",
     "output_type": "stream",
     "text": [
      "1    850\n",
      "2    535\n",
      "3    532\n",
      "4    419\n",
      "Name: size, dtype: int64\n",
      "\n",
      "34    891\n",
      "38    847\n",
      "36    454\n",
      "99    144\n",
      "Name: ara, dtype: int64\n",
      "\n",
      "2    2260\n",
      "1      76\n",
      "Name: de2, dtype: int64\n",
      "\n"
     ]
    }
   ],
   "source": [
    "for column in data.columns:\n",
    "    if len(data[column].value_counts()) <= 10:\n",
    "        print(data[column].value_counts())\n",
    "        print()"
   ]
  },
  {
   "cell_type": "code",
   "execution_count": 4,
   "metadata": {
    "scrolled": false
   },
   "outputs": [
    {
     "data": {
      "image/png": "[encoded data removed]",
      "text/plain": [
       "<Figure size 432x288 with 1 Axes>"
      ]
     },
     "metadata": {
      "needs_background": "light"
     },
     "output_type": "display_data"
    },
    {
     "data": {
      "image/png": "[encoded data removed]",
      "text/plain": [
       "<Figure size 432x288 with 1 Axes>"
      ]
     },
     "metadata": {
      "needs_background": "light"
     },
     "output_type": "display_data"
    },
    {
     "data": {
      "image/png": "[encoded data removed]",
      "text/plain": [
       "<Figure size 432x288 with 1 Axes>"
      ]
     },
     "metadata": {
      "needs_background": "light"
     },
     "output_type": "display_data"
    },
    {
     "data": {
      "image/png": "[encoded data removed]",
      "text/plain": [
       "<Figure size 432x288 with 1 Axes>"
      ]
     },
     "metadata": {
      "needs_background": "light"
     },
     "output_type": "display_data"
    },
    {
     "data": {
      "image/png": "[encoded data removed]",
      "text/plain": [
       "<Figure size 432x288 with 1 Axes>"
      ]
     },
     "metadata": {
      "needs_background": "light"
     },
     "output_type": "display_data"
    },
    {
     "data": {
      "image/png": "[encoded data removed]",
      "text/plain": [
       "<Figure size 432x288 with 1 Axes>"
      ]
     },
     "metadata": {
      "needs_background": "light"
     },
     "output_type": "display_data"
    },
    {
     "data": {
      "image/png": "[encoded data removed]",
      "text/plain": [
       "<Figure size 432x288 with 1 Axes>"
      ]
     },
     "metadata": {
      "needs_background": "light"
     },
     "output_type": "display_data"
    },
    {
     "data": {
      "image/png": "[encoded data removed]",
      "text/plain": [
       "<Figure size 432x288 with 1 Axes>"
      ]
     },
     "metadata": {
      "needs_background": "light"
     },
     "output_type": "display_data"
    },
    {
     "data": {
      "image/png": "[encoded data removed]",
      "text/plain": [
       "<Figure size 432x288 with 1 Axes>"
      ]
     },
     "metadata": {
      "needs_background": "light"
     },
     "output_type": "display_data"
    },
    {
     "data": {
      "image/png": "[encoded data removed]",
      "text/plain": [
       "<Figure size 432x288 with 1 Axes>"
      ]
     },
     "metadata": {
      "needs_background": "light"
     },
     "output_type": "display_data"
    },
    {
     "data": {
      "image/png": "[encoded data removed]",
      "text/plain": [
       "<Figure size 432x288 with 1 Axes>"
      ]
     },
     "metadata": {
      "needs_background": "light"
     },
     "output_type": "display_data"
    },
    {
     "data": {
      "image/png": "[encoded data removed]",
      "text/plain": [
       "<Figure size 432x288 with 1 Axes>"
      ]
     },
     "metadata": {
      "needs_background": "light"
     },
     "output_type": "display_data"
    },
    {
     "data": {
      "image/png": "[encoded data removed]",
      "text/plain": [
       "<Figure size 432x288 with 1 Axes>"
      ]
     },
     "metadata": {
      "needs_background": "light"
     },
     "output_type": "display_data"
    },
    {
     "data": {
      "image/png": "[encoded data removed]",
      "text/plain": [
       "<Figure size 432x288 with 1 Axes>"
      ]
     },
     "metadata": {
      "needs_background": "light"
     },
     "output_type": "display_data"
    },
    {
     "data": {
      "image/png": "[encoded data removed]",
      "text/plain": [
       "<Figure size 432x288 with 1 Axes>"
      ]
     },
     "metadata": {
      "needs_background": "light"
     },
     "output_type": "display_data"
    },
    {
     "data": {
      "image/png": "[encoded data removed]",
      "text/plain": [
       "<Figure size 432x288 with 1 Axes>"
      ]
     },
     "metadata": {
      "needs_background": "light"
     },
     "output_type": "display_data"
    },
    {
     "data": {
      "image/png": "[encoded data removed]",
      "text/plain": [
       "<Figure size 432x288 with 1 Axes>"
      ]
     },
     "metadata": {
      "needs_background": "light"
     },
     "output_type": "display_data"
    },
    {
     "data": {
      "image/png": "[encoded data removed]",
      "text/plain": [
       "<Figure size 432x288 with 1 Axes>"
      ]
     },
     "metadata": {
      "needs_background": "light"
     },
     "output_type": "display_data"
    },
    {
     "data": {
      "image/png": "[encoded data removed]",
      "text/plain": [
       "<Figure size 432x288 with 1 Axes>"
      ]
     },
     "metadata": {
      "needs_background": "light"
     },
     "output_type": "display_data"
    }
   ],
   "source": [
    "import matplotlib.pyplot as plt\n",
    "%matplotlib inline\n",
    "\n",
    "for column in data.columns:\n",
    "    data[column].hist()\n",
    "    plt.title(column)\n",
    "    plt.show()"
   ]
  },
  {
   "cell_type": "markdown",
   "metadata": {},
   "source": [
    "## Log Transform"
   ]
  },
  {
   "cell_type": "code",
   "execution_count": 5,
   "metadata": {},
   "outputs": [],
   "source": [
    "data.loc[:, ['cvl00', 'cvl01', 'cvl02', 'cvl03', 'cvl10', 'cvl11', 'cvl12', 'cvl13']] = np.log1p(data.loc[:, ['cvl00', 'cvl01', 'cvl02', 'cvl03', 'cvl10', 'cvl11', 'cvl12', 'cvl13']])\n",
    "data.loc[:, ['fmtc', 'lansh']] = np.log1p(data.loc[:, ['fmtc', 'lansh']])\n",
    "data.loc[:, ['labch', 'labh_hour', 'lab_cost']] = np.log1p(data.loc[:, ['labch', 'labh_hour', 'lab_cost']])"
   ]
  },
  {
   "cell_type": "code",
   "execution_count": 6,
   "metadata": {},
   "outputs": [],
   "source": [
    "data['cony'] = np.log1p(data['cony'])"
   ]
  },
  {
   "cell_type": "code",
   "execution_count": 7,
   "metadata": {},
   "outputs": [
    {
     "data": {
      "image/png": "[encoded data removed]",
      "text/plain": [
       "<Figure size 432x288 with 1 Axes>"
      ]
     },
     "metadata": {
      "needs_background": "light"
     },
     "output_type": "display_data"
    },
    {
     "data": {
      "image/png": "[encoded data removed]",
      "text/plain": [
       "<Figure size 432x288 with 1 Axes>"
      ]
     },
     "metadata": {
      "needs_background": "light"
     },
     "output_type": "display_data"
    },
    {
     "data": {
      "image/png": "[encoded data removed]",
      "text/plain": [
       "<Figure size 432x288 with 1 Axes>"
      ]
     },
     "metadata": {
      "needs_background": "light"
     },
     "output_type": "display_data"
    },
    {
     "data": {
      "image/png": "[encoded data removed]",
      "text/plain": [
       "<Figure size 432x288 with 1 Axes>"
      ]
     },
     "metadata": {
      "needs_background": "light"
     },
     "output_type": "display_data"
    },
    {
     "data": {
      "image/png": "[encoded data removed]",
      "text/plain": [
       "<Figure size 432x288 with 1 Axes>"
      ]
     },
     "metadata": {
      "needs_background": "light"
     },
     "output_type": "display_data"
    }
   ],
   "source": [
    "import seaborn as sns\n",
    "\n",
    "sns.scatterplot(x='fmtc', y='cony', data=data)\n",
    "plt.show()\n",
    "\n",
    "sns.scatterplot(x='labch', y='cony', data=data)\n",
    "plt.show()\n",
    "\n",
    "sns.scatterplot(x='labh_hour', y='cony', data=data)\n",
    "plt.show()\n",
    "\n",
    "sns.scatterplot(x='lab_cost', y='cony', data=data)\n",
    "plt.show()\n",
    "\n",
    "sns.scatterplot(x='lansh', y='cony', data=data)\n",
    "plt.show()"
   ]
  },
  {
   "cell_type": "markdown",
   "metadata": {},
   "source": [
    "## NaN Check"
   ]
  },
  {
   "cell_type": "code",
   "execution_count": 8,
   "metadata": {},
   "outputs": [],
   "source": [
    "data.replace({'labch' : {0 : np.nan},\n",
    "              'labh_hour' : {0 : np.nan},\n",
    "              'lab_cost' : {0 : np.nan},\n",
    "              'lansh' : {0 : np.nan}},\n",
    "             inplace=True)"
   ]
  },
  {
   "cell_type": "code",
   "execution_count": 9,
   "metadata": {},
   "outputs": [
    {
     "data": {
      "text/plain": [
       "age1         0\n",
       "land         0\n",
       "cvl00        0\n",
       "cvl01        0\n",
       "cvl02        0\n",
       "cvl03        0\n",
       "cvl10        0\n",
       "cvl11        0\n",
       "cvl12        0\n",
       "cvl13        0\n",
       "labch        7\n",
       "labh_hour    7\n",
       "lab_cost     7\n",
       "fmtc         0\n",
       "lansh        0\n",
       "size         0\n",
       "ara          0\n",
       "de2          0\n",
       "cony         0\n",
       "dtype: int64"
      ]
     },
     "execution_count": 9,
     "metadata": {},
     "output_type": "execute_result"
    }
   ],
   "source": [
    "data.isnull().sum()"
   ]
  },
  {
   "cell_type": "code",
   "execution_count": 10,
   "metadata": {},
   "outputs": [],
   "source": [
    "data.dropna(axis=0, inplace=True)"
   ]
  },
  {
   "cell_type": "code",
   "execution_count": 11,
   "metadata": {},
   "outputs": [
    {
     "data": {
      "image/png": "[encoded data removed]",
      "text/plain": [
       "<Figure size 432x288 with 1 Axes>"
      ]
     },
     "metadata": {
      "needs_background": "light"
     },
     "output_type": "display_data"
    },
    {
     "data": {
      "image/png": "[encoded data removed]",
      "text/plain": [
       "<Figure size 432x288 with 1 Axes>"
      ]
     },
     "metadata": {
      "needs_background": "light"
     },
     "output_type": "display_data"
    },
    {
     "data": {
      "image/png": "[encoded data removed]",
      "text/plain": [
       "<Figure size 432x288 with 1 Axes>"
      ]
     },
     "metadata": {
      "needs_background": "light"
     },
     "output_type": "display_data"
    }
   ],
   "source": [
    "sns.scatterplot(x='fmtc', y='cony', data=data)\n",
    "plt.show()\n",
    "\n",
    "sns.scatterplot(x='labch', y='cony', data=data)\n",
    "plt.show()\n",
    "\n",
    "sns.scatterplot(x='labh_hour', y='cony', data=data)\n",
    "plt.show()"
   ]
  },
  {
   "cell_type": "code",
   "execution_count": 12,
   "metadata": {
    "scrolled": false
   },
   "outputs": [
    {
     "data": {
      "image/png": "[encoded data removed]",
      "text/plain": [
       "<Figure size 432x288 with 1 Axes>"
      ]
     },
     "metadata": {
      "needs_background": "light"
     },
     "output_type": "display_data"
    },
    {
     "data": {
      "image/png": "[encoded data removed]",
      "text/plain": [
       "<Figure size 432x288 with 1 Axes>"
      ]
     },
     "metadata": {
      "needs_background": "light"
     },
     "output_type": "display_data"
    },
    {
     "data": {
      "image/png": "[encoded data removed]",
      "text/plain": [
       "<Figure size 432x288 with 1 Axes>"
      ]
     },
     "metadata": {
      "needs_background": "light"
     },
     "output_type": "display_data"
    },
    {
     "data": {
      "image/png": "[encoded data removed]",
      "text/plain": [
       "<Figure size 432x288 with 1 Axes>"
      ]
     },
     "metadata": {
      "needs_background": "light"
     },
     "output_type": "display_data"
    },
    {
     "data": {
      "image/png": "[encoded data removed]",
      "text/plain": [
       "<Figure size 432x288 with 1 Axes>"
      ]
     },
     "metadata": {
      "needs_background": "light"
     },
     "output_type": "display_data"
    },
    {
     "data": {
      "image/png": "[encoded data removed]",
      "text/plain": [
       "<Figure size 432x288 with 1 Axes>"
      ]
     },
     "metadata": {
      "needs_background": "light"
     },
     "output_type": "display_data"
    },
    {
     "data": {
      "image/png": "[encoded data removed]",
      "text/plain": [
       "<Figure size 432x288 with 1 Axes>"
      ]
     },
     "metadata": {
      "needs_background": "light"
     },
     "output_type": "display_data"
    },
    {
     "data": {
      "image/png": "[encoded data removed]",
      "text/plain": [
       "<Figure size 432x288 with 1 Axes>"
      ]
     },
     "metadata": {
      "needs_background": "light"
     },
     "output_type": "display_data"
    },
    {
     "data": {
      "image/png": "[encoded data removed]",
      "text/plain": [
       "<Figure size 432x288 with 1 Axes>"
      ]
     },
     "metadata": {
      "needs_background": "light"
     },
     "output_type": "display_data"
    },
    {
     "data": {
      "image/png": "[encoded data removed]",
      "text/plain": [
       "<Figure size 432x288 with 1 Axes>"
      ]
     },
     "metadata": {
      "needs_background": "light"
     },
     "output_type": "display_data"
    },
    {
     "data": {
      "image/png": "[encoded data removed]",
      "text/plain": [
       "<Figure size 432x288 with 1 Axes>"
      ]
     },
     "metadata": {
      "needs_background": "light"
     },
     "output_type": "display_data"
    },
    {
     "data": {
      "image/png": "[encoded data removed]",
      "text/plain": [
       "<Figure size 432x288 with 1 Axes>"
      ]
     },
     "metadata": {
      "needs_background": "light"
     },
     "output_type": "display_data"
    },
    {
     "data": {
      "image/png": "[encoded data removed]",
      "text/plain": [
       "<Figure size 432x288 with 1 Axes>"
      ]
     },
     "metadata": {
      "needs_background": "light"
     },
     "output_type": "display_data"
    },
    {
     "data": {
      "image/png": "[encoded data removed]",
      "text/plain": [
       "<Figure size 432x288 with 1 Axes>"
      ]
     },
     "metadata": {
      "needs_background": "light"
     },
     "output_type": "display_data"
    },
    {
     "data": {
      "image/png": "[encoded data removed]",
      "text/plain": [
       "<Figure size 432x288 with 1 Axes>"
      ]
     },
     "metadata": {
      "needs_background": "light"
     },
     "output_type": "display_data"
    },
    {
     "data": {
      "image/png": "[encoded data removed]",
      "text/plain": [
       "<Figure size 432x288 with 1 Axes>"
      ]
     },
     "metadata": {
      "needs_background": "light"
     },
     "output_type": "display_data"
    },
    {
     "data": {
      "image/png": "[encoded data removed]",
      "text/plain": [
       "<Figure size 432x288 with 1 Axes>"
      ]
     },
     "metadata": {
      "needs_background": "light"
     },
     "output_type": "display_data"
    },
    {
     "data": {
      "image/png": "[encoded data removed]",
      "text/plain": [
       "<Figure size 432x288 with 1 Axes>"
      ]
     },
     "metadata": {
      "needs_background": "light"
     },
     "output_type": "display_data"
    },
    {
     "data": {
      "image/png": "[encoded data removed]",
      "text/plain": [
       "<Figure size 432x288 with 1 Axes>"
      ]
     },
     "metadata": {
      "needs_background": "light"
     },
     "output_type": "display_data"
    }
   ],
   "source": [
    "for column in data.columns:\n",
    "    data[column].hist()\n",
    "    plt.title(column)\n",
    "    plt.show()"
   ]
  },
  {
   "cell_type": "markdown",
   "metadata": {},
   "source": [
    "## Categorical Variable processing"
   ]
  },
  {
   "cell_type": "code",
   "execution_count": 13,
   "metadata": {},
   "outputs": [
    {
     "name": "stdout",
     "output_type": "stream",
     "text": [
      "[array([1, 2, 3, 4]), array([34, 36, 38, 99]), array([1, 2])]\n",
      "(2329, 10)\n"
     ]
    }
   ],
   "source": [
    "from sklearn.preprocessing import OneHotEncoder\n",
    "\n",
    "categorical_variables = ['size', 'ara', 'de2']\n",
    "onehot_encoder = OneHotEncoder(handle_unknown='ignore')\n",
    "onehot_encoder.fit(data.loc[:, categorical_variables])\n",
    "onehot = onehot_encoder.fit_transform(data.loc[:, categorical_variables])\n",
    "print(onehot_encoder.categories_)\n",
    "print(onehot.toarray().shape)"
   ]
  },
  {
   "cell_type": "markdown",
   "metadata": {},
   "source": [
    "## Numerical Variable processing"
   ]
  },
  {
   "cell_type": "code",
   "execution_count": 14,
   "metadata": {},
   "outputs": [
    {
     "data": {
      "text/plain": [
       "array([[0.64814815, 0.8329955 , 0.53462995, ..., 0.85148156, 0.53296181,\n",
       "        0.51056193],\n",
       "       [0.59259259, 0.8329955 , 0.35275876, ..., 0.60291362, 0.61636206,\n",
       "        0.37381782],\n",
       "       [0.55555556, 0.8329955 , 0.00566772, ..., 0.44803629, 0.48637286,\n",
       "        0.6126814 ],\n",
       "       ...,\n",
       "       [0.42592593, 0.181128  , 0.28754801, ..., 0.82603511, 0.6681195 ,\n",
       "        0.69149598],\n",
       "       [0.61111111, 0.181128  , 0.42963674, ..., 0.93789564, 0.69815865,\n",
       "        0.68344753],\n",
       "       [0.62962963, 0.181128  , 0.31819762, ..., 0.85113607, 0.67645926,\n",
       "        0.68344753]])"
      ]
     },
     "execution_count": 14,
     "metadata": {},
     "output_type": "execute_result"
    }
   ],
   "source": [
    "from sklearn.preprocessing import MinMaxScaler\n",
    "\n",
    "numerical_variables = ['age1',\n",
    "                       'land', \n",
    "                       'cvl00', 'cvl01', 'cvl02', 'cvl03',\n",
    "                       'cvl10', 'cvl11', 'cvl12', 'cvl13',\n",
    "                       'labch', 'labh_hour', 'lab_cost',\n",
    "                       'fmtc', 'lansh']\n",
    "X_minmax_scaler = MinMaxScaler()\n",
    "X_minmax_scaler.fit(data.loc[:, numerical_variables])\n",
    "X_scaled = X_minmax_scaler.transform(data.loc[:, numerical_variables])\n",
    "X_scaled"
   ]
  },
  {
   "cell_type": "code",
   "execution_count": 15,
   "metadata": {},
   "outputs": [
    {
     "data": {
      "text/html": [
       "<div>\n",
       "<style scoped>\n",
       "    .dataframe tbody tr th:only-of-type {\n",
       "        vertical-align: middle;\n",
       "    }\n",
       "\n",
       "    .dataframe tbody tr th {\n",
       "        vertical-align: top;\n",
       "    }\n",
       "\n",
       "    .dataframe thead th {\n",
       "        text-align: right;\n",
       "    }\n",
       "</style>\n",
       "<table border=\"1\" class=\"dataframe\">\n",
       "  <thead>\n",
       "    <tr style=\"text-align: right;\">\n",
       "      <th></th>\n",
       "      <th>age1</th>\n",
       "      <th>land</th>\n",
       "      <th>cvl00</th>\n",
       "      <th>cvl01</th>\n",
       "      <th>cvl02</th>\n",
       "      <th>cvl03</th>\n",
       "      <th>cvl10</th>\n",
       "      <th>cvl11</th>\n",
       "      <th>cvl12</th>\n",
       "      <th>cvl13</th>\n",
       "      <th>...</th>\n",
       "      <th>0</th>\n",
       "      <th>1</th>\n",
       "      <th>2</th>\n",
       "      <th>3</th>\n",
       "      <th>4</th>\n",
       "      <th>5</th>\n",
       "      <th>6</th>\n",
       "      <th>7</th>\n",
       "      <th>8</th>\n",
       "      <th>9</th>\n",
       "    </tr>\n",
       "  </thead>\n",
       "  <tbody>\n",
       "    <tr>\n",
       "      <th>0</th>\n",
       "      <td>0.648148</td>\n",
       "      <td>0.832995</td>\n",
       "      <td>0.534630</td>\n",
       "      <td>0.0</td>\n",
       "      <td>0.0</td>\n",
       "      <td>0.598507</td>\n",
       "      <td>0.598507</td>\n",
       "      <td>0.0</td>\n",
       "      <td>0.0</td>\n",
       "      <td>0.598507</td>\n",
       "      <td>...</td>\n",
       "      <td>0.0</td>\n",
       "      <td>0.0</td>\n",
       "      <td>0.0</td>\n",
       "      <td>1.0</td>\n",
       "      <td>0.0</td>\n",
       "      <td>0.0</td>\n",
       "      <td>1.0</td>\n",
       "      <td>0.0</td>\n",
       "      <td>0.0</td>\n",
       "      <td>1.0</td>\n",
       "    </tr>\n",
       "    <tr>\n",
       "      <th>1</th>\n",
       "      <td>0.592593</td>\n",
       "      <td>0.832995</td>\n",
       "      <td>0.352759</td>\n",
       "      <td>0.0</td>\n",
       "      <td>0.0</td>\n",
       "      <td>0.441600</td>\n",
       "      <td>0.181449</td>\n",
       "      <td>0.0</td>\n",
       "      <td>0.0</td>\n",
       "      <td>0.181449</td>\n",
       "      <td>...</td>\n",
       "      <td>1.0</td>\n",
       "      <td>0.0</td>\n",
       "      <td>0.0</td>\n",
       "      <td>0.0</td>\n",
       "      <td>0.0</td>\n",
       "      <td>0.0</td>\n",
       "      <td>1.0</td>\n",
       "      <td>0.0</td>\n",
       "      <td>0.0</td>\n",
       "      <td>1.0</td>\n",
       "    </tr>\n",
       "    <tr>\n",
       "      <th>2</th>\n",
       "      <td>0.555556</td>\n",
       "      <td>0.832995</td>\n",
       "      <td>0.005668</td>\n",
       "      <td>0.0</td>\n",
       "      <td>0.0</td>\n",
       "      <td>0.142151</td>\n",
       "      <td>0.142151</td>\n",
       "      <td>0.0</td>\n",
       "      <td>0.0</td>\n",
       "      <td>0.142151</td>\n",
       "      <td>...</td>\n",
       "      <td>1.0</td>\n",
       "      <td>0.0</td>\n",
       "      <td>0.0</td>\n",
       "      <td>0.0</td>\n",
       "      <td>0.0</td>\n",
       "      <td>0.0</td>\n",
       "      <td>1.0</td>\n",
       "      <td>0.0</td>\n",
       "      <td>0.0</td>\n",
       "      <td>1.0</td>\n",
       "    </tr>\n",
       "    <tr>\n",
       "      <th>3</th>\n",
       "      <td>0.592593</td>\n",
       "      <td>0.832995</td>\n",
       "      <td>0.226276</td>\n",
       "      <td>0.0</td>\n",
       "      <td>0.0</td>\n",
       "      <td>0.332478</td>\n",
       "      <td>0.066630</td>\n",
       "      <td>0.0</td>\n",
       "      <td>0.0</td>\n",
       "      <td>0.066630</td>\n",
       "      <td>...</td>\n",
       "      <td>0.0</td>\n",
       "      <td>0.0</td>\n",
       "      <td>1.0</td>\n",
       "      <td>0.0</td>\n",
       "      <td>0.0</td>\n",
       "      <td>0.0</td>\n",
       "      <td>1.0</td>\n",
       "      <td>0.0</td>\n",
       "      <td>0.0</td>\n",
       "      <td>1.0</td>\n",
       "    </tr>\n",
       "    <tr>\n",
       "      <th>4</th>\n",
       "      <td>0.629630</td>\n",
       "      <td>0.832995</td>\n",
       "      <td>0.017665</td>\n",
       "      <td>0.0</td>\n",
       "      <td>0.0</td>\n",
       "      <td>0.152501</td>\n",
       "      <td>0.152501</td>\n",
       "      <td>0.0</td>\n",
       "      <td>0.0</td>\n",
       "      <td>0.152501</td>\n",
       "      <td>...</td>\n",
       "      <td>1.0</td>\n",
       "      <td>0.0</td>\n",
       "      <td>0.0</td>\n",
       "      <td>0.0</td>\n",
       "      <td>0.0</td>\n",
       "      <td>0.0</td>\n",
       "      <td>1.0</td>\n",
       "      <td>0.0</td>\n",
       "      <td>0.0</td>\n",
       "      <td>1.0</td>\n",
       "    </tr>\n",
       "    <tr>\n",
       "      <th>...</th>\n",
       "      <td>...</td>\n",
       "      <td>...</td>\n",
       "      <td>...</td>\n",
       "      <td>...</td>\n",
       "      <td>...</td>\n",
       "      <td>...</td>\n",
       "      <td>...</td>\n",
       "      <td>...</td>\n",
       "      <td>...</td>\n",
       "      <td>...</td>\n",
       "      <td>...</td>\n",
       "      <td>...</td>\n",
       "      <td>...</td>\n",
       "      <td>...</td>\n",
       "      <td>...</td>\n",
       "      <td>...</td>\n",
       "      <td>...</td>\n",
       "      <td>...</td>\n",
       "      <td>...</td>\n",
       "      <td>...</td>\n",
       "      <td>...</td>\n",
       "    </tr>\n",
       "    <tr>\n",
       "      <th>2324</th>\n",
       "      <td>0.759259</td>\n",
       "      <td>0.351648</td>\n",
       "      <td>0.287548</td>\n",
       "      <td>0.0</td>\n",
       "      <td>0.0</td>\n",
       "      <td>0.385340</td>\n",
       "      <td>0.385340</td>\n",
       "      <td>0.0</td>\n",
       "      <td>0.0</td>\n",
       "      <td>0.385340</td>\n",
       "      <td>...</td>\n",
       "      <td>0.0</td>\n",
       "      <td>0.0</td>\n",
       "      <td>0.0</td>\n",
       "      <td>1.0</td>\n",
       "      <td>0.0</td>\n",
       "      <td>0.0</td>\n",
       "      <td>1.0</td>\n",
       "      <td>0.0</td>\n",
       "      <td>0.0</td>\n",
       "      <td>1.0</td>\n",
       "    </tr>\n",
       "    <tr>\n",
       "      <th>2325</th>\n",
       "      <td>0.537037</td>\n",
       "      <td>0.351648</td>\n",
       "      <td>0.347769</td>\n",
       "      <td>0.0</td>\n",
       "      <td>0.0</td>\n",
       "      <td>0.437295</td>\n",
       "      <td>0.274522</td>\n",
       "      <td>0.0</td>\n",
       "      <td>0.0</td>\n",
       "      <td>0.274522</td>\n",
       "      <td>...</td>\n",
       "      <td>0.0</td>\n",
       "      <td>0.0</td>\n",
       "      <td>0.0</td>\n",
       "      <td>1.0</td>\n",
       "      <td>0.0</td>\n",
       "      <td>0.0</td>\n",
       "      <td>1.0</td>\n",
       "      <td>0.0</td>\n",
       "      <td>0.0</td>\n",
       "      <td>1.0</td>\n",
       "    </tr>\n",
       "    <tr>\n",
       "      <th>2326</th>\n",
       "      <td>0.425926</td>\n",
       "      <td>0.181128</td>\n",
       "      <td>0.287548</td>\n",
       "      <td>0.0</td>\n",
       "      <td>0.0</td>\n",
       "      <td>0.385340</td>\n",
       "      <td>0.000000</td>\n",
       "      <td>0.0</td>\n",
       "      <td>0.0</td>\n",
       "      <td>0.000000</td>\n",
       "      <td>...</td>\n",
       "      <td>0.0</td>\n",
       "      <td>0.0</td>\n",
       "      <td>0.0</td>\n",
       "      <td>1.0</td>\n",
       "      <td>0.0</td>\n",
       "      <td>0.0</td>\n",
       "      <td>0.0</td>\n",
       "      <td>1.0</td>\n",
       "      <td>0.0</td>\n",
       "      <td>1.0</td>\n",
       "    </tr>\n",
       "    <tr>\n",
       "      <th>2327</th>\n",
       "      <td>0.611111</td>\n",
       "      <td>0.181128</td>\n",
       "      <td>0.429637</td>\n",
       "      <td>0.0</td>\n",
       "      <td>0.0</td>\n",
       "      <td>0.507925</td>\n",
       "      <td>0.507925</td>\n",
       "      <td>0.0</td>\n",
       "      <td>0.0</td>\n",
       "      <td>0.507925</td>\n",
       "      <td>...</td>\n",
       "      <td>0.0</td>\n",
       "      <td>0.0</td>\n",
       "      <td>0.0</td>\n",
       "      <td>1.0</td>\n",
       "      <td>0.0</td>\n",
       "      <td>0.0</td>\n",
       "      <td>0.0</td>\n",
       "      <td>1.0</td>\n",
       "      <td>0.0</td>\n",
       "      <td>1.0</td>\n",
       "    </tr>\n",
       "    <tr>\n",
       "      <th>2328</th>\n",
       "      <td>0.629630</td>\n",
       "      <td>0.181128</td>\n",
       "      <td>0.318198</td>\n",
       "      <td>0.0</td>\n",
       "      <td>0.0</td>\n",
       "      <td>0.411782</td>\n",
       "      <td>0.411782</td>\n",
       "      <td>0.0</td>\n",
       "      <td>0.0</td>\n",
       "      <td>0.411782</td>\n",
       "      <td>...</td>\n",
       "      <td>0.0</td>\n",
       "      <td>0.0</td>\n",
       "      <td>0.0</td>\n",
       "      <td>1.0</td>\n",
       "      <td>0.0</td>\n",
       "      <td>0.0</td>\n",
       "      <td>0.0</td>\n",
       "      <td>1.0</td>\n",
       "      <td>0.0</td>\n",
       "      <td>1.0</td>\n",
       "    </tr>\n",
       "  </tbody>\n",
       "</table>\n",
       "<p>2329 rows × 25 columns</p>\n",
       "</div>"
      ],
      "text/plain": [
       "          age1      land     cvl00  cvl01  cvl02     cvl03     cvl10  cvl11  \\\n",
       "0     0.648148  0.832995  0.534630    0.0    0.0  0.598507  0.598507    0.0   \n",
       "1     0.592593  0.832995  0.352759    0.0    0.0  0.441600  0.181449    0.0   \n",
       "2     0.555556  0.832995  0.005668    0.0    0.0  0.142151  0.142151    0.0   \n",
       "3     0.592593  0.832995  0.226276    0.0    0.0  0.332478  0.066630    0.0   \n",
       "4     0.629630  0.832995  0.017665    0.0    0.0  0.152501  0.152501    0.0   \n",
       "...        ...       ...       ...    ...    ...       ...       ...    ...   \n",
       "2324  0.759259  0.351648  0.287548    0.0    0.0  0.385340  0.385340    0.0   \n",
       "2325  0.537037  0.351648  0.347769    0.0    0.0  0.437295  0.274522    0.0   \n",
       "2326  0.425926  0.181128  0.287548    0.0    0.0  0.385340  0.000000    0.0   \n",
       "2327  0.611111  0.181128  0.429637    0.0    0.0  0.507925  0.507925    0.0   \n",
       "2328  0.629630  0.181128  0.318198    0.0    0.0  0.411782  0.411782    0.0   \n",
       "\n",
       "      cvl12     cvl13  ...    0    1    2    3    4    5    6    7    8    9  \n",
       "0       0.0  0.598507  ...  0.0  0.0  0.0  1.0  0.0  0.0  1.0  0.0  0.0  1.0  \n",
       "1       0.0  0.181449  ...  1.0  0.0  0.0  0.0  0.0  0.0  1.0  0.0  0.0  1.0  \n",
       "2       0.0  0.142151  ...  1.0  0.0  0.0  0.0  0.0  0.0  1.0  0.0  0.0  1.0  \n",
       "3       0.0  0.066630  ...  0.0  0.0  1.0  0.0  0.0  0.0  1.0  0.0  0.0  1.0  \n",
       "4       0.0  0.152501  ...  1.0  0.0  0.0  0.0  0.0  0.0  1.0  0.0  0.0  1.0  \n",
       "...     ...       ...  ...  ...  ...  ...  ...  ...  ...  ...  ...  ...  ...  \n",
       "2324    0.0  0.385340  ...  0.0  0.0  0.0  1.0  0.0  0.0  1.0  0.0  0.0  1.0  \n",
       "2325    0.0  0.274522  ...  0.0  0.0  0.0  1.0  0.0  0.0  1.0  0.0  0.0  1.0  \n",
       "2326    0.0  0.000000  ...  0.0  0.0  0.0  1.0  0.0  0.0  0.0  1.0  0.0  1.0  \n",
       "2327    0.0  0.507925  ...  0.0  0.0  0.0  1.0  0.0  0.0  0.0  1.0  0.0  1.0  \n",
       "2328    0.0  0.411782  ...  0.0  0.0  0.0  1.0  0.0  0.0  0.0  1.0  0.0  1.0  \n",
       "\n",
       "[2329 rows x 25 columns]"
      ]
     },
     "execution_count": 15,
     "metadata": {},
     "output_type": "execute_result"
    }
   ],
   "source": [
    "numeric_data_df = pd.DataFrame(X_scaled, columns=numerical_variables)\n",
    "onehot_data_df = pd.DataFrame(onehot.toarray())\n",
    "\n",
    "X_data_df = pd.concat([numeric_data_df , onehot_data_df], axis=1)\n",
    "X_data_df"
   ]
  },
  {
   "cell_type": "code",
   "execution_count": 16,
   "metadata": {},
   "outputs": [],
   "source": [
    "X_data = np.array(X_data_df)\n",
    "y_data = np.array(data['cony'])"
   ]
  },
  {
   "cell_type": "markdown",
   "metadata": {},
   "source": [
    "# Train Test Split"
   ]
  },
  {
   "cell_type": "code",
   "execution_count": 17,
   "metadata": {},
   "outputs": [
    {
     "name": "stdout",
     "output_type": "stream",
     "text": [
      "(2096, 25) (2096,)\n",
      "(233, 25) (233,)\n"
     ]
    }
   ],
   "source": [
    "from sklearn.model_selection import train_test_split\n",
    "\n",
    "X_train, X_test, y_train, y_test = train_test_split(X_data, y_data,\n",
    "                                                    test_size=0.1,\n",
    "                                                    random_state=1234)\n",
    "print(X_train.shape, y_train.shape)\n",
    "print(X_test.shape, y_test.shape)"
   ]
  },
  {
   "cell_type": "markdown",
   "metadata": {},
   "source": [
    "# Modeling"
   ]
  },
  {
   "cell_type": "markdown",
   "metadata": {},
   "source": [
    "## Decision Tree"
   ]
  },
  {
   "cell_type": "code",
   "execution_count": 18,
   "metadata": {},
   "outputs": [
    {
     "data": {
      "text/plain": [
       "DecisionTreeRegressor(random_state=1000)"
      ]
     },
     "execution_count": 18,
     "metadata": {},
     "output_type": "execute_result"
    }
   ],
   "source": [
    "from sklearn.tree import DecisionTreeRegressor\n",
    "from sklearn.metrics import mean_squared_error\n",
    "\n",
    "dt = DecisionTreeRegressor(random_state=1000)\n",
    "dt.fit(X_train, y_train)"
   ]
  },
  {
   "cell_type": "code",
   "execution_count": 19,
   "metadata": {},
   "outputs": [
    {
     "name": "stdout",
     "output_type": "stream",
     "text": [
      "[7.10859479 6.21993835 7.42280832 6.97909489 8.36194191 6.2500312\n",
      " 7.07249161 7.49498065 7.08142843 3.56904691]\n"
     ]
    }
   ],
   "source": [
    "dt_pred = dt.predict(X_test)\n",
    "print(dt_pred[:10])"
   ]
  },
  {
   "cell_type": "code",
   "execution_count": 20,
   "metadata": {},
   "outputs": [
    {
     "data": {
      "text/plain": [
       "1.1019291538059708"
      ]
     },
     "execution_count": 20,
     "metadata": {},
     "output_type": "execute_result"
    }
   ],
   "source": [
    "dt_rmse = np.sqrt(mean_squared_error(y_test, dt_pred))\n",
    "dt_rmse"
   ]
  },
  {
   "cell_type": "markdown",
   "metadata": {},
   "source": [
    "## RandomForest"
   ]
  },
  {
   "cell_type": "code",
   "execution_count": 21,
   "metadata": {},
   "outputs": [
    {
     "data": {
      "text/plain": [
       "RandomForestRegressor(max_features='sqrt', n_estimators=3000, random_state=1000)"
      ]
     },
     "execution_count": 21,
     "metadata": {},
     "output_type": "execute_result"
    }
   ],
   "source": [
    "from sklearn.ensemble import RandomForestRegressor\n",
    "\n",
    "rf = RandomForestRegressor(n_estimators = 3000, max_features = 'sqrt', \n",
    "                           random_state = 1000)\n",
    "rf.fit(X_train, y_train)"
   ]
  },
  {
   "cell_type": "code",
   "execution_count": 22,
   "metadata": {},
   "outputs": [
    {
     "name": "stdout",
     "output_type": "stream",
     "text": [
      "[7.20032247 6.50100893 6.38448504 6.37474431 7.85094994 6.33837615\n",
      " 7.16297224 7.18637928 7.52501586 4.41343614]\n"
     ]
    }
   ],
   "source": [
    "rf_pred = rf.predict(X_test)\n",
    "print(rf_pred[:10])"
   ]
  },
  {
   "cell_type": "code",
   "execution_count": 23,
   "metadata": {},
   "outputs": [
    {
     "data": {
      "text/plain": [
       "0.6738304661975482"
      ]
     },
     "execution_count": 23,
     "metadata": {},
     "output_type": "execute_result"
    }
   ],
   "source": [
    "rf_rmse = np.sqrt(mean_squared_error(y_test, rf_pred))\n",
    "rf_rmse"
   ]
  },
  {
   "cell_type": "code",
   "execution_count": 24,
   "metadata": {},
   "outputs": [
    {
     "data": {
      "image/png": "[encoded data removed]",
      "text/plain": [
       "<Figure size 576x432 with 1 Axes>"
      ]
     },
     "metadata": {
      "needs_background": "light"
     },
     "output_type": "display_data"
    }
   ],
   "source": [
    "import seaborn as sns\n",
    "\n",
    "importances_values = rf.feature_importances_ \n",
    "importances = pd.Series(importances_values, index=X_data_df.columns)\n",
    "\n",
    "top20 = importances.sort_values(ascending=False)[:20]\n",
    "plt.figure(figsize=(8, 6))\n",
    "plt.title('Feature importances Top 20')\n",
    "sns.barplot(x = top20, y = top20.index)\n",
    "plt.show()"
   ]
  },
  {
   "cell_type": "markdown",
   "metadata": {},
   "source": [
    "## Ridge"
   ]
  },
  {
   "cell_type": "code",
   "execution_count": 33,
   "metadata": {},
   "outputs": [
    {
     "data": {
      "text/plain": [
       "Ridge(alpha=0.1724)"
      ]
     },
     "execution_count": 33,
     "metadata": {},
     "output_type": "execute_result"
    }
   ],
   "source": [
    "from sklearn.linear_model import Ridge\n",
    "\n",
    "ridge = Ridge(alpha=0.1724)\n",
    "ridge.fit(X_train, y_train)"
   ]
  },
  {
   "cell_type": "code",
   "execution_count": 34,
   "metadata": {},
   "outputs": [
    {
     "name": "stdout",
     "output_type": "stream",
     "text": [
      "0.45497713169744036\n"
     ]
    }
   ],
   "source": [
    "print(ridge.score(X_train, y_train))"
   ]
  },
  {
   "cell_type": "code",
   "execution_count": 35,
   "metadata": {},
   "outputs": [
    {
     "data": {
      "text/plain": [
       "0.6952304373814484"
      ]
     },
     "execution_count": 35,
     "metadata": {},
     "output_type": "execute_result"
    }
   ],
   "source": [
    "ridge_pred = ridge.predict(X_test)\n",
    "ridge_rmse = np.sqrt(mean_squared_error(y_test, ridge_pred))\n",
    "ridge_rmse"
   ]
  },
  {
   "cell_type": "markdown",
   "metadata": {},
   "source": [
    "## LASSO"
   ]
  },
  {
   "cell_type": "code",
   "execution_count": 36,
   "metadata": {},
   "outputs": [
    {
     "data": {
      "text/plain": [
       "Lasso(alpha=0.001)"
      ]
     },
     "execution_count": 36,
     "metadata": {},
     "output_type": "execute_result"
    }
   ],
   "source": [
    "from sklearn.linear_model import Lasso\n",
    "\n",
    "lasso = Lasso(alpha=0.001)\n",
    "lasso.fit(X_train, y_train)"
   ]
  },
  {
   "cell_type": "code",
   "execution_count": 37,
   "metadata": {},
   "outputs": [
    {
     "name": "stdout",
     "output_type": "stream",
     "text": [
      "0.45305826640989844\n"
     ]
    }
   ],
   "source": [
    "print(lasso.score(X_train, y_train))"
   ]
  },
  {
   "cell_type": "code",
   "execution_count": 38,
   "metadata": {},
   "outputs": [
    {
     "data": {
      "text/plain": [
       "0.6900496876475627"
      ]
     },
     "execution_count": 38,
     "metadata": {},
     "output_type": "execute_result"
    }
   ],
   "source": [
    "lasso_pred = lasso.predict(X_test)\n",
    "lasso_rmse = np.sqrt(mean_squared_error(y_test, lasso_pred))\n",
    "lasso_rmse"
   ]
  },
  {
   "cell_type": "markdown",
   "metadata": {},
   "source": [
    "## GBM"
   ]
  },
  {
   "cell_type": "code",
   "execution_count": 39,
   "metadata": {},
   "outputs": [
    {
     "name": "stdout",
     "output_type": "stream",
     "text": [
      "[7.30735211 6.3744601  6.80531673 6.40544047 7.78595763 6.49681265\n",
      " 7.17442752 6.72611267 7.66486191 4.59070182]\n"
     ]
    }
   ],
   "source": [
    "from sklearn.ensemble import GradientBoostingRegressor\n",
    "\n",
    "gbm = GradientBoostingRegressor(n_estimators=500, max_depth=8)\n",
    "gbm.fit(X_train, y_train)\n",
    "\n",
    "gbm_pred = gbm.predict(X_test)\n",
    "print(gbm_pred[:10])"
   ]
  },
  {
   "cell_type": "code",
   "execution_count": 40,
   "metadata": {},
   "outputs": [
    {
     "data": {
      "text/plain": [
       "0.7016605993651612"
      ]
     },
     "execution_count": 40,
     "metadata": {},
     "output_type": "execute_result"
    }
   ],
   "source": [
    "gbm_rmse = np.sqrt(mean_squared_error(y_test, gbm_pred))\n",
    "gbm_rmse"
   ]
  },
  {
   "cell_type": "markdown",
   "metadata": {},
   "source": [
    "## AdaBoost"
   ]
  },
  {
   "cell_type": "code",
   "execution_count": 41,
   "metadata": {},
   "outputs": [
    {
     "name": "stdout",
     "output_type": "stream",
     "text": [
      "[7.08477938 6.16257202 6.08117186 6.05571339 7.54821363 6.14598572\n",
      " 7.14563821 6.96243941 7.53313482 5.30506977]\n"
     ]
    }
   ],
   "source": [
    "from sklearn.ensemble import AdaBoostRegressor\n",
    "\n",
    "ada = AdaBoostRegressor(n_estimators = 500, learning_rate = 0.1)\n",
    "ada.fit(X_train, y_train)\n",
    "\n",
    "ada_pred = ada.predict(X_test)\n",
    "print(ada_pred[:10])"
   ]
  },
  {
   "cell_type": "code",
   "execution_count": 42,
   "metadata": {},
   "outputs": [
    {
     "data": {
      "text/plain": [
       "0.7574380039379682"
      ]
     },
     "execution_count": 42,
     "metadata": {},
     "output_type": "execute_result"
    }
   ],
   "source": [
    "ada_rmse = np.sqrt(mean_squared_error(y_test, ada_pred))\n",
    "ada_rmse"
   ]
  },
  {
   "cell_type": "markdown",
   "metadata": {},
   "source": [
    "## XGBoost"
   ]
  },
  {
   "cell_type": "code",
   "execution_count": 43,
   "metadata": {},
   "outputs": [
    {
     "name": "stdout",
     "output_type": "stream",
     "text": [
      "1.3.3\n",
      "[7.261648  6.562728  6.4919853 6.5049353 7.9381824 6.6582756 7.381413\n",
      " 7.354301  7.515667  4.2871633]\n"
     ]
    }
   ],
   "source": [
    "import xgboost as xgb\n",
    "print(xgb.__version__)\n",
    "\n",
    "xgb_reg = xgb.XGBRegressor(learning_rate=0.08, max_depth=8, \n",
    "                           gamma=0, n_estimators=3000,\n",
    "                           subsample=0.7, colsample_bytree=0.8)\n",
    "xgb_reg.fit(X_train, y_train, verbose=False)\n",
    "\n",
    "xgb_pred = xgb_reg.predict(X_test)\n",
    "print(xgb_pred[:10])"
   ]
  },
  {
   "cell_type": "code",
   "execution_count": 44,
   "metadata": {},
   "outputs": [
    {
     "data": {
      "text/plain": [
       "0.6826519190743018"
      ]
     },
     "execution_count": 44,
     "metadata": {},
     "output_type": "execute_result"
    }
   ],
   "source": [
    "xgb_rmse = np.sqrt(mean_squared_error(y_test, xgb_pred))\n",
    "xgb_rmse"
   ]
  },
  {
   "cell_type": "code",
   "execution_count": 45,
   "metadata": {},
   "outputs": [
    {
     "data": {
      "image/png": "[encoded data removed]",
      "text/plain": [
       "<Figure size 720x864 with 1 Axes>"
      ]
     },
     "metadata": {
      "needs_background": "light"
     },
     "output_type": "display_data"
    }
   ],
   "source": [
    "from xgboost import plot_importance\n",
    "\n",
    "plot_importance(xgb_reg, max_num_features=20)\n",
    "\n",
    "fig = plt.gcf()\n",
    "fig.set_size_inches(10, 12)"
   ]
  },
  {
   "cell_type": "markdown",
   "metadata": {},
   "source": [
    "## LightGBM"
   ]
  },
  {
   "cell_type": "code",
   "execution_count": 46,
   "metadata": {},
   "outputs": [
    {
     "name": "stdout",
     "output_type": "stream",
     "text": [
      "[LightGBM] [Warning] min_data_in_leaf is set=10, min_child_samples=20 will be ignored. Current value: min_data_in_leaf=10\n"
     ]
    },
    {
     "data": {
      "text/plain": [
       "LGBMRegressor(max_depth=50, min_data_in_leaf=10, n_estimators=1000,\n",
       "              num_leaves=10)"
      ]
     },
     "execution_count": 46,
     "metadata": {},
     "output_type": "execute_result"
    }
   ],
   "source": [
    "import lightgbm as lgb\n",
    "\n",
    "\n",
    "lgb_reg = lgb.LGBMRegressor(n_estimators=1000, max_depth=50, num_leaves=10, min_data_in_leaf=10)\n",
    "lgb_reg.fit(X_train, y_train,\n",
    "        eval_set=[(X_test, y_test)],\n",
    "        eval_metric='l1',\n",
    "        early_stopping_rounds=1000,\n",
    "        verbose = False)"
   ]
  },
  {
   "cell_type": "code",
   "execution_count": 47,
   "metadata": {},
   "outputs": [
    {
     "name": "stdout",
     "output_type": "stream",
     "text": [
      "[7.25112841 6.63173308 6.40004071 6.18462869 7.68858275 6.26756491\n",
      " 7.14824006 6.99078193 7.68006136 4.13206278]\n"
     ]
    }
   ],
   "source": [
    "lgb_pred = lgb_reg.predict(X_test)\n",
    "print(lgb_pred[:10])"
   ]
  },
  {
   "cell_type": "code",
   "execution_count": 48,
   "metadata": {},
   "outputs": [
    {
     "data": {
      "text/plain": [
       "0.6819225454486603"
      ]
     },
     "execution_count": 48,
     "metadata": {},
     "output_type": "execute_result"
    }
   ],
   "source": [
    "lgb_rmse = np.sqrt(mean_squared_error(y_test, lgb_pred))\n",
    "lgb_rmse"
   ]
  },
  {
   "cell_type": "markdown",
   "metadata": {},
   "source": [
    "# Model Comparison"
   ]
  },
  {
   "cell_type": "code",
   "execution_count": 49,
   "metadata": {},
   "outputs": [
    {
     "data": {
      "text/html": [
       "<div>\n",
       "<style scoped>\n",
       "    .dataframe tbody tr th:only-of-type {\n",
       "        vertical-align: middle;\n",
       "    }\n",
       "\n",
       "    .dataframe tbody tr th {\n",
       "        vertical-align: top;\n",
       "    }\n",
       "\n",
       "    .dataframe thead th {\n",
       "        text-align: right;\n",
       "    }\n",
       "</style>\n",
       "<table border=\"1\" class=\"dataframe\">\n",
       "  <thead>\n",
       "    <tr style=\"text-align: right;\">\n",
       "      <th></th>\n",
       "      <th>Model</th>\n",
       "      <th>RMSE</th>\n",
       "    </tr>\n",
       "  </thead>\n",
       "  <tbody>\n",
       "    <tr>\n",
       "      <th>1</th>\n",
       "      <td>RandomForest</td>\n",
       "      <td>0.673830</td>\n",
       "    </tr>\n",
       "    <tr>\n",
       "      <th>7</th>\n",
       "      <td>LightGBM</td>\n",
       "      <td>0.681923</td>\n",
       "    </tr>\n",
       "    <tr>\n",
       "      <th>6</th>\n",
       "      <td>XGboost</td>\n",
       "      <td>0.682652</td>\n",
       "    </tr>\n",
       "    <tr>\n",
       "      <th>3</th>\n",
       "      <td>LASSO</td>\n",
       "      <td>0.690050</td>\n",
       "    </tr>\n",
       "    <tr>\n",
       "      <th>2</th>\n",
       "      <td>Ridge</td>\n",
       "      <td>0.695230</td>\n",
       "    </tr>\n",
       "    <tr>\n",
       "      <th>4</th>\n",
       "      <td>GBM</td>\n",
       "      <td>0.701661</td>\n",
       "    </tr>\n",
       "    <tr>\n",
       "      <th>5</th>\n",
       "      <td>AdaBoost</td>\n",
       "      <td>0.757438</td>\n",
       "    </tr>\n",
       "    <tr>\n",
       "      <th>0</th>\n",
       "      <td>Decision Tree</td>\n",
       "      <td>1.101929</td>\n",
       "    </tr>\n",
       "  </tbody>\n",
       "</table>\n",
       "</div>"
      ],
      "text/plain": [
       "           Model      RMSE\n",
       "1   RandomForest  0.673830\n",
       "7       LightGBM  0.681923\n",
       "6        XGboost  0.682652\n",
       "3          LASSO  0.690050\n",
       "2          Ridge  0.695230\n",
       "4            GBM  0.701661\n",
       "5       AdaBoost  0.757438\n",
       "0  Decision Tree  1.101929"
      ]
     },
     "execution_count": 49,
     "metadata": {},
     "output_type": "execute_result"
    }
   ],
   "source": [
    "model_result = pd.DataFrame({\n",
    "    'Model': ['Decision Tree', 'RandomForest', 'Ridge', 'LASSO',\n",
    "              'GBM', 'AdaBoost', 'XGboost', 'LightGBM'],\n",
    "    'RMSE': [dt_rmse, rf_rmse, ridge_rmse, lasso_rmse,\n",
    "             gbm_rmse, ada_rmse, xgb_rmse, lgb_rmse]})\n",
    "model_result.sort_values(by='RMSE', ascending=True)"
   ]
  },
  {
   "cell_type": "markdown",
   "metadata": {},
   "source": [
    "# Ensemble"
   ]
  },
  {
   "cell_type": "code",
   "execution_count": 50,
   "metadata": {},
   "outputs": [],
   "source": [
    "import torch\n",
    "from sklearn.metrics import mean_squared_error\n",
    "\n",
    "class EnsembleRegressor:\n",
    "    def __init__(self, models, weights=None):\n",
    "        \n",
    "        self.models = models\n",
    "        self.weights = weights\n",
    "        \n",
    "    def predict(self, X_test):\n",
    "        pred_list = []\n",
    "        for i, model in enumerate(models.values()):\n",
    "            pred_list.append(model.predict(X_test))\n",
    "        preds = np.array(pred_list)\n",
    "            \n",
    "        prediction = np.average(preds, axis=0, weights=self.weights)\n",
    "\n",
    "        return prediction\n",
    "    \n",
    "    def random_search(self, X_test, y_test, num_search):\n",
    "        weights = torch.softmax(torch.rand(num_search, len(self.models)), axis=1).numpy()\n",
    "        \n",
    "        pred_list = []\n",
    "        for i, model in enumerate(models.values()):\n",
    "            pred_list.append(model.predict(X_test))\n",
    "        preds = np.array(pred_list)\n",
    "\n",
    "        mse = []\n",
    "        for i in range(num_search):\n",
    "            prediction = np.average(preds, axis=0, weights=weights[i])\n",
    "            mse_ = mean_squared_error(y_test, prediction)\n",
    "            mse.append(mse_)\n",
    "        \n",
    "        result = pd.DataFrame(weights)\n",
    "        result['RMSE'] = np.sqrt(mse)\n",
    "\n",
    "        return result.sort_values('RMSE', ascending=True)"
   ]
  },
  {
   "cell_type": "code",
   "execution_count": 51,
   "metadata": {},
   "outputs": [
    {
     "data": {
      "text/html": [
       "<div>\n",
       "<style scoped>\n",
       "    .dataframe tbody tr th:only-of-type {\n",
       "        vertical-align: middle;\n",
       "    }\n",
       "\n",
       "    .dataframe tbody tr th {\n",
       "        vertical-align: top;\n",
       "    }\n",
       "\n",
       "    .dataframe thead th {\n",
       "        text-align: right;\n",
       "    }\n",
       "</style>\n",
       "<table border=\"1\" class=\"dataframe\">\n",
       "  <thead>\n",
       "    <tr style=\"text-align: right;\">\n",
       "      <th></th>\n",
       "      <th>0</th>\n",
       "      <th>1</th>\n",
       "      <th>2</th>\n",
       "      <th>RMSE</th>\n",
       "    </tr>\n",
       "  </thead>\n",
       "  <tbody>\n",
       "    <tr>\n",
       "      <th>10448</th>\n",
       "      <td>0.332144</td>\n",
       "      <td>0.382886</td>\n",
       "      <td>0.284970</td>\n",
       "      <td>0.668073</td>\n",
       "    </tr>\n",
       "    <tr>\n",
       "      <th>13186</th>\n",
       "      <td>0.333064</td>\n",
       "      <td>0.381968</td>\n",
       "      <td>0.284968</td>\n",
       "      <td>0.668073</td>\n",
       "    </tr>\n",
       "    <tr>\n",
       "      <th>27361</th>\n",
       "      <td>0.331391</td>\n",
       "      <td>0.383525</td>\n",
       "      <td>0.285083</td>\n",
       "      <td>0.668073</td>\n",
       "    </tr>\n",
       "    <tr>\n",
       "      <th>3767</th>\n",
       "      <td>0.333788</td>\n",
       "      <td>0.381429</td>\n",
       "      <td>0.284783</td>\n",
       "      <td>0.668073</td>\n",
       "    </tr>\n",
       "    <tr>\n",
       "      <th>7850</th>\n",
       "      <td>0.329434</td>\n",
       "      <td>0.382528</td>\n",
       "      <td>0.288038</td>\n",
       "      <td>0.668073</td>\n",
       "    </tr>\n",
       "    <tr>\n",
       "      <th>1868</th>\n",
       "      <td>0.328628</td>\n",
       "      <td>0.383516</td>\n",
       "      <td>0.287856</td>\n",
       "      <td>0.668073</td>\n",
       "    </tr>\n",
       "    <tr>\n",
       "      <th>29361</th>\n",
       "      <td>0.330353</td>\n",
       "      <td>0.381683</td>\n",
       "      <td>0.287965</td>\n",
       "      <td>0.668073</td>\n",
       "    </tr>\n",
       "    <tr>\n",
       "      <th>24431</th>\n",
       "      <td>0.329756</td>\n",
       "      <td>0.384163</td>\n",
       "      <td>0.286081</td>\n",
       "      <td>0.668073</td>\n",
       "    </tr>\n",
       "    <tr>\n",
       "      <th>28018</th>\n",
       "      <td>0.328780</td>\n",
       "      <td>0.384503</td>\n",
       "      <td>0.286717</td>\n",
       "      <td>0.668073</td>\n",
       "    </tr>\n",
       "    <tr>\n",
       "      <th>20835</th>\n",
       "      <td>0.327986</td>\n",
       "      <td>0.383092</td>\n",
       "      <td>0.288922</td>\n",
       "      <td>0.668073</td>\n",
       "    </tr>\n",
       "  </tbody>\n",
       "</table>\n",
       "</div>"
      ],
      "text/plain": [
       "              0         1         2      RMSE\n",
       "10448  0.332144  0.382886  0.284970  0.668073\n",
       "13186  0.333064  0.381968  0.284968  0.668073\n",
       "27361  0.331391  0.383525  0.285083  0.668073\n",
       "3767   0.333788  0.381429  0.284783  0.668073\n",
       "7850   0.329434  0.382528  0.288038  0.668073\n",
       "1868   0.328628  0.383516  0.287856  0.668073\n",
       "29361  0.330353  0.381683  0.287965  0.668073\n",
       "24431  0.329756  0.384163  0.286081  0.668073\n",
       "28018  0.328780  0.384503  0.286717  0.668073\n",
       "20835  0.327986  0.383092  0.288922  0.668073"
      ]
     },
     "execution_count": 51,
     "metadata": {},
     "output_type": "execute_result"
    }
   ],
   "source": [
    "models = {'RandomForest' : rf, 'XGBoost' : xgb_reg, 'LightGBM' : lgb_reg}\n",
    "\n",
    "ensemble = EnsembleRegressor(models, weights=None)\n",
    "result = ensemble.random_search(X_test, y_test, 30000)\n",
    "result.head(10)"
   ]
  },
  {
   "cell_type": "code",
   "execution_count": 52,
   "metadata": {},
   "outputs": [
    {
     "name": "stdout",
     "output_type": "stream",
     "text": [
      "[0.332, 0.383, 0.285]\n"
     ]
    }
   ],
   "source": [
    "optimal_weight = np.round(result.iloc[0,:-1], 3).tolist()\n",
    "print(optimal_weight)"
   ]
  },
  {
   "cell_type": "code",
   "execution_count": 53,
   "metadata": {},
   "outputs": [
    {
     "name": "stdout",
     "output_type": "stream",
     "text": [
      "[7.23828991 6.56190369 6.43009102 6.3704245  7.83808531 6.44071644\n",
      " 7.24243637 7.19494804 7.5656232  4.28488222]\n"
     ]
    }
   ],
   "source": [
    "ensemble = EnsembleRegressor(models, weights=optimal_weight)\n",
    "\n",
    "preds = ensemble.predict(X_test)\n",
    "print(preds[:10])"
   ]
  },
  {
   "cell_type": "code",
   "execution_count": 54,
   "metadata": {},
   "outputs": [
    {
     "data": {
      "text/plain": [
       "0.6680730135873509"
      ]
     },
     "execution_count": 54,
     "metadata": {},
     "output_type": "execute_result"
    }
   ],
   "source": [
    "rmse = np.sqrt(mean_squared_error(y_test, preds))\n",
    "rmse"
   ]
  },
  {
   "cell_type": "markdown",
   "metadata": {},
   "source": [
    "# Evaluation"
   ]
  },
  {
   "cell_type": "code",
   "execution_count": 55,
   "metadata": {},
   "outputs": [
    {
     "name": "stdout",
     "output_type": "stream",
     "text": [
      "[1390.71198112  706.61749668  619.23039577  583.30581141 2534.34577362\n",
      "  625.85574279 1396.49464642 1331.68108309 1929.67159577   71.59399598]\n",
      "[ 525.          732.          441.          891.42156863 1981.08108108\n",
      "  563.125      2221.47651007 1273.33333333 1710.66666667  440.        ]\n"
     ]
    }
   ],
   "source": [
    "inverse_transformed_pred = np.expm1(preds)\n",
    "inverse_transformed_pred = np.where(inverse_transformed_pred < 0, 0, inverse_transformed_pred)\n",
    "inverse_transformed_y_test = np.expm1(y_test)\n",
    "\n",
    "print(inverse_transformed_pred[:10])\n",
    "print(inverse_transformed_y_test[:10])"
   ]
  },
  {
   "cell_type": "code",
   "execution_count": 56,
   "metadata": {},
   "outputs": [
    {
     "data": {
      "text/plain": [
       "745.3759756234958"
      ]
     },
     "execution_count": 56,
     "metadata": {},
     "output_type": "execute_result"
    }
   ],
   "source": [
    "np.sqrt(mean_squared_error(inverse_transformed_y_test, inverse_transformed_pred))"
   ]
  },
  {
   "cell_type": "code",
   "execution_count": 57,
   "metadata": {},
   "outputs": [
    {
     "data": {
      "text/html": [
       "<div>\n",
       "<style scoped>\n",
       "    .dataframe tbody tr th:only-of-type {\n",
       "        vertical-align: middle;\n",
       "    }\n",
       "\n",
       "    .dataframe tbody tr th {\n",
       "        vertical-align: top;\n",
       "    }\n",
       "\n",
       "    .dataframe thead th {\n",
       "        text-align: right;\n",
       "    }\n",
       "</style>\n",
       "<table border=\"1\" class=\"dataframe\">\n",
       "  <thead>\n",
       "    <tr style=\"text-align: right;\">\n",
       "      <th></th>\n",
       "      <th>생산량</th>\n",
       "      <th>예측값</th>\n",
       "    </tr>\n",
       "  </thead>\n",
       "  <tbody>\n",
       "    <tr>\n",
       "      <th>0</th>\n",
       "      <td>525.0</td>\n",
       "      <td>1390.7</td>\n",
       "    </tr>\n",
       "    <tr>\n",
       "      <th>1</th>\n",
       "      <td>732.0</td>\n",
       "      <td>706.6</td>\n",
       "    </tr>\n",
       "    <tr>\n",
       "      <th>2</th>\n",
       "      <td>441.0</td>\n",
       "      <td>619.2</td>\n",
       "    </tr>\n",
       "    <tr>\n",
       "      <th>3</th>\n",
       "      <td>891.4</td>\n",
       "      <td>583.3</td>\n",
       "    </tr>\n",
       "    <tr>\n",
       "      <th>4</th>\n",
       "      <td>1981.1</td>\n",
       "      <td>2534.3</td>\n",
       "    </tr>\n",
       "    <tr>\n",
       "      <th>5</th>\n",
       "      <td>563.1</td>\n",
       "      <td>625.9</td>\n",
       "    </tr>\n",
       "    <tr>\n",
       "      <th>6</th>\n",
       "      <td>2221.5</td>\n",
       "      <td>1396.5</td>\n",
       "    </tr>\n",
       "    <tr>\n",
       "      <th>7</th>\n",
       "      <td>1273.3</td>\n",
       "      <td>1331.7</td>\n",
       "    </tr>\n",
       "    <tr>\n",
       "      <th>8</th>\n",
       "      <td>1710.7</td>\n",
       "      <td>1929.7</td>\n",
       "    </tr>\n",
       "    <tr>\n",
       "      <th>9</th>\n",
       "      <td>440.0</td>\n",
       "      <td>71.6</td>\n",
       "    </tr>\n",
       "    <tr>\n",
       "      <th>10</th>\n",
       "      <td>663.3</td>\n",
       "      <td>629.4</td>\n",
       "    </tr>\n",
       "    <tr>\n",
       "      <th>11</th>\n",
       "      <td>1273.8</td>\n",
       "      <td>673.9</td>\n",
       "    </tr>\n",
       "    <tr>\n",
       "      <th>12</th>\n",
       "      <td>605.0</td>\n",
       "      <td>554.2</td>\n",
       "    </tr>\n",
       "    <tr>\n",
       "      <th>13</th>\n",
       "      <td>1986.8</td>\n",
       "      <td>1048.4</td>\n",
       "    </tr>\n",
       "    <tr>\n",
       "      <th>14</th>\n",
       "      <td>1890.0</td>\n",
       "      <td>1047.2</td>\n",
       "    </tr>\n",
       "    <tr>\n",
       "      <th>15</th>\n",
       "      <td>868.0</td>\n",
       "      <td>1724.3</td>\n",
       "    </tr>\n",
       "    <tr>\n",
       "      <th>16</th>\n",
       "      <td>494.2</td>\n",
       "      <td>257.5</td>\n",
       "    </tr>\n",
       "    <tr>\n",
       "      <th>17</th>\n",
       "      <td>500.0</td>\n",
       "      <td>385.1</td>\n",
       "    </tr>\n",
       "    <tr>\n",
       "      <th>18</th>\n",
       "      <td>1208.0</td>\n",
       "      <td>1517.2</td>\n",
       "    </tr>\n",
       "    <tr>\n",
       "      <th>19</th>\n",
       "      <td>1113.6</td>\n",
       "      <td>853.5</td>\n",
       "    </tr>\n",
       "    <tr>\n",
       "      <th>20</th>\n",
       "      <td>1300.5</td>\n",
       "      <td>1687.5</td>\n",
       "    </tr>\n",
       "    <tr>\n",
       "      <th>21</th>\n",
       "      <td>3312.0</td>\n",
       "      <td>1429.6</td>\n",
       "    </tr>\n",
       "    <tr>\n",
       "      <th>22</th>\n",
       "      <td>867.9</td>\n",
       "      <td>973.5</td>\n",
       "    </tr>\n",
       "    <tr>\n",
       "      <th>23</th>\n",
       "      <td>635.0</td>\n",
       "      <td>1091.7</td>\n",
       "    </tr>\n",
       "    <tr>\n",
       "      <th>24</th>\n",
       "      <td>914.1</td>\n",
       "      <td>833.5</td>\n",
       "    </tr>\n",
       "    <tr>\n",
       "      <th>25</th>\n",
       "      <td>678.8</td>\n",
       "      <td>918.8</td>\n",
       "    </tr>\n",
       "    <tr>\n",
       "      <th>26</th>\n",
       "      <td>0.0</td>\n",
       "      <td>21.6</td>\n",
       "    </tr>\n",
       "    <tr>\n",
       "      <th>27</th>\n",
       "      <td>2107.5</td>\n",
       "      <td>1258.8</td>\n",
       "    </tr>\n",
       "    <tr>\n",
       "      <th>28</th>\n",
       "      <td>2711.5</td>\n",
       "      <td>2776.8</td>\n",
       "    </tr>\n",
       "    <tr>\n",
       "      <th>29</th>\n",
       "      <td>1544.7</td>\n",
       "      <td>724.2</td>\n",
       "    </tr>\n",
       "  </tbody>\n",
       "</table>\n",
       "</div>"
      ],
      "text/plain": [
       "       생산량     예측값\n",
       "0    525.0  1390.7\n",
       "1    732.0   706.6\n",
       "2    441.0   619.2\n",
       "3    891.4   583.3\n",
       "4   1981.1  2534.3\n",
       "5    563.1   625.9\n",
       "6   2221.5  1396.5\n",
       "7   1273.3  1331.7\n",
       "8   1710.7  1929.7\n",
       "9    440.0    71.6\n",
       "10   663.3   629.4\n",
       "11  1273.8   673.9\n",
       "12   605.0   554.2\n",
       "13  1986.8  1048.4\n",
       "14  1890.0  1047.2\n",
       "15   868.0  1724.3\n",
       "16   494.2   257.5\n",
       "17   500.0   385.1\n",
       "18  1208.0  1517.2\n",
       "19  1113.6   853.5\n",
       "20  1300.5  1687.5\n",
       "21  3312.0  1429.6\n",
       "22   867.9   973.5\n",
       "23   635.0  1091.7\n",
       "24   914.1   833.5\n",
       "25   678.8   918.8\n",
       "26     0.0    21.6\n",
       "27  2107.5  1258.8\n",
       "28  2711.5  2776.8\n",
       "29  1544.7   724.2"
      ]
     },
     "execution_count": 57,
     "metadata": {},
     "output_type": "execute_result"
    }
   ],
   "source": [
    "inverse_transformed_pred = pd.Series(np.round(inverse_transformed_pred,1), name='예측값')\n",
    "inverse_transformed_y_test= pd.Series(np.round(inverse_transformed_y_test,1), name='생산량')\n",
    "result = pd.concat([inverse_transformed_y_test, inverse_transformed_pred], axis=1)\n",
    "result[:30]"
   ]
  },
  {
   "cell_type": "markdown",
   "metadata": {},
   "source": [
    "# 2018-2019 Prediction"
   ]
  },
  {
   "cell_type": "code",
   "execution_count": 60,
   "metadata": {},
   "outputs": [
    {
     "name": "stdout",
     "output_type": "stream",
     "text": [
      "2018 (231, 416)\n",
      "2019 (226, 432)\n"
     ]
    }
   ],
   "source": [
    "import os\n",
    "import pandas as pd\n",
    "import numpy as np\n",
    "\n",
    "\n",
    "def load_data(path):\n",
    "    years = [2018, 2019]\n",
    "    use_cols = ['age1',\n",
    "                'land', \n",
    "                'cvl00', 'cvl01', 'cvl02', 'cvl03',\n",
    "                'cvl10', 'cvl11', 'cvl12', 'cvl13',\n",
    "                'labch', 'labh_hour', 'lab_cost',\n",
    "                'fmtc', 'lansh',\n",
    "                'size', 'ara', 'de2',# catecorical variable\n",
    "                'cony'] # dependent variable\n",
    "\n",
    "    dataframe_list = []\n",
    "    \n",
    "    # 2018\n",
    "    file_path1 = os.path.join(path, str(years[0])+'년', str(years[0])+'년 임산물생산비조사_통합 데이터_1. 밤(엑셀 1).xls')\n",
    "    file_path2 = os.path.join(path, str(years[0])+'년', str(years[0])+'년 임산물생산비조사_통합 데이터_1. 밤(엑셀 2).xls')\n",
    "    forest_data1 = pd.read_excel(file_path1)\n",
    "    forest_data2 = pd.read_excel(file_path2)\n",
    "    forest_2018 = pd.concat([forest_data1, forest_data2], axis=1)\n",
    "    dataframe_list.append(forest_2018.loc[:,use_cols])\n",
    "    print(2018, forest_2018.shape)\n",
    "\n",
    "    # 2019\n",
    "    file_path = os.path.join(path, str(years[1])+'년', str(years[1])+'년 임산물생산비조사_통합 데이터_1. 밤.xlsx')\n",
    "    forest_2019 = pd.read_excel(file_path)\n",
    "    dataframe_list.append(forest_2019.loc[:,use_cols])\n",
    "    print(2019, forest_2019.shape)\n",
    "    \n",
    "    data = pd.concat(dataframe_list, axis=0)\n",
    "    \n",
    "    return data\n",
    "    \n",
    "data = load_data('./임산물생산비조사 마이크로데이터(2010-2019)')"
   ]
  },
  {
   "cell_type": "code",
   "execution_count": 62,
   "metadata": {},
   "outputs": [],
   "source": [
    "data.loc[:, ['cvl00', 'cvl01', 'cvl02', 'cvl03', 'cvl10', 'cvl11', 'cvl12', 'cvl13']] = np.log1p(data.loc[:, ['cvl00', 'cvl01', 'cvl02', 'cvl03', 'cvl10', 'cvl11', 'cvl12', 'cvl13']])\n",
    "data.loc[:, ['fmtc', 'lansh']] = np.log1p(data.loc[:, ['fmtc', 'lansh']])\n",
    "data.loc[:, ['labch', 'labh_hour', 'lab_cost']] = np.log1p(data.loc[:, ['labch', 'labh_hour', 'lab_cost']])"
   ]
  },
  {
   "cell_type": "code",
   "execution_count": 63,
   "metadata": {},
   "outputs": [],
   "source": [
    "data['cony'] = np.log1p(data['cony'])"
   ]
  },
  {
   "cell_type": "code",
   "execution_count": 64,
   "metadata": {},
   "outputs": [],
   "source": [
    "data.replace({'labch' : {0 : np.nan},\n",
    "              'labh_hour' : {0 : np.nan},\n",
    "              'lab_cost' : {0 : np.nan},\n",
    "              'lansh' : {0 : np.nan}},\n",
    "             inplace=True)"
   ]
  },
  {
   "cell_type": "code",
   "execution_count": 77,
   "metadata": {},
   "outputs": [],
   "source": [
    "if data.isnull().sum().sum() > 0:\n",
    "    data.fillna(df.mean(), inplace=True)"
   ]
  },
  {
   "cell_type": "code",
   "execution_count": 67,
   "metadata": {},
   "outputs": [
    {
     "name": "stdout",
     "output_type": "stream",
     "text": [
      "[array([1, 2, 3, 4]), array([34, 36, 38, 99]), array([1, 2])]\n",
      "(457, 10)\n"
     ]
    }
   ],
   "source": [
    "from sklearn.preprocessing import OneHotEncoder\n",
    "\n",
    "categorical_variables = ['size', 'ara', 'de2']\n",
    "onehot = onehot_encoder.transform(data.loc[:, categorical_variables])\n",
    "print(onehot_encoder.categories_)\n",
    "print(onehot.toarray().shape)"
   ]
  },
  {
   "cell_type": "code",
   "execution_count": 68,
   "metadata": {},
   "outputs": [
    {
     "data": {
      "text/plain": [
       "array([[0.61111111, 0.32314213, 0.05121838, ..., 0.55895445, 0.52268493,\n",
       "        0.50506695],\n",
       "       [0.57407407, 0.32314213, 0.01659984, ..., 0.54532211, 0.66767472,\n",
       "        0.75737545],\n",
       "       [0.40740741, 0.32314213, 0.39129264, ..., 0.68666586, 0.57492137,\n",
       "        0.78247559],\n",
       "       ...,\n",
       "       [0.42592593, 0.181128  , 0.28754801, ..., 0.82603511, 0.6681195 ,\n",
       "        0.69149598],\n",
       "       [0.61111111, 0.181128  , 0.42963674, ..., 0.93789564, 0.69815865,\n",
       "        0.68344753],\n",
       "       [0.62962963, 0.181128  , 0.31819762, ..., 0.85113607, 0.67645926,\n",
       "        0.68344753]])"
      ]
     },
     "execution_count": 68,
     "metadata": {},
     "output_type": "execute_result"
    }
   ],
   "source": [
    "from sklearn.preprocessing import MinMaxScaler\n",
    "\n",
    "numerical_variables = ['age1',\n",
    "                       'land', \n",
    "                       'cvl00', 'cvl01', 'cvl02', 'cvl03',\n",
    "                       'cvl10', 'cvl11', 'cvl12', 'cvl13',\n",
    "                       'labch', 'labh_hour', 'lab_cost',\n",
    "                       'fmtc', 'lansh']\n",
    "X_scaled = X_minmax_scaler.transform(data.loc[:, numerical_variables])\n",
    "X_scaled"
   ]
  },
  {
   "cell_type": "code",
   "execution_count": 69,
   "metadata": {},
   "outputs": [
    {
     "data": {
      "text/html": [
       "<div>\n",
       "<style scoped>\n",
       "    .dataframe tbody tr th:only-of-type {\n",
       "        vertical-align: middle;\n",
       "    }\n",
       "\n",
       "    .dataframe tbody tr th {\n",
       "        vertical-align: top;\n",
       "    }\n",
       "\n",
       "    .dataframe thead th {\n",
       "        text-align: right;\n",
       "    }\n",
       "</style>\n",
       "<table border=\"1\" class=\"dataframe\">\n",
       "  <thead>\n",
       "    <tr style=\"text-align: right;\">\n",
       "      <th></th>\n",
       "      <th>age1</th>\n",
       "      <th>land</th>\n",
       "      <th>cvl00</th>\n",
       "      <th>cvl01</th>\n",
       "      <th>cvl02</th>\n",
       "      <th>cvl03</th>\n",
       "      <th>cvl10</th>\n",
       "      <th>cvl11</th>\n",
       "      <th>cvl12</th>\n",
       "      <th>cvl13</th>\n",
       "      <th>...</th>\n",
       "      <th>0</th>\n",
       "      <th>1</th>\n",
       "      <th>2</th>\n",
       "      <th>3</th>\n",
       "      <th>4</th>\n",
       "      <th>5</th>\n",
       "      <th>6</th>\n",
       "      <th>7</th>\n",
       "      <th>8</th>\n",
       "      <th>9</th>\n",
       "    </tr>\n",
       "  </thead>\n",
       "  <tbody>\n",
       "    <tr>\n",
       "      <th>0</th>\n",
       "      <td>0.611111</td>\n",
       "      <td>0.323142</td>\n",
       "      <td>0.051218</td>\n",
       "      <td>0.0</td>\n",
       "      <td>0.205713</td>\n",
       "      <td>0.153416</td>\n",
       "      <td>0.181449</td>\n",
       "      <td>0.0</td>\n",
       "      <td>0.205713</td>\n",
       "      <td>0.153416</td>\n",
       "      <td>...</td>\n",
       "      <td>1.0</td>\n",
       "      <td>0.0</td>\n",
       "      <td>0.0</td>\n",
       "      <td>0.0</td>\n",
       "      <td>0.0</td>\n",
       "      <td>0.0</td>\n",
       "      <td>1.0</td>\n",
       "      <td>0.0</td>\n",
       "      <td>0.0</td>\n",
       "      <td>1.0</td>\n",
       "    </tr>\n",
       "    <tr>\n",
       "      <th>1</th>\n",
       "      <td>0.574074</td>\n",
       "      <td>0.323142</td>\n",
       "      <td>0.016600</td>\n",
       "      <td>0.0</td>\n",
       "      <td>0.000000</td>\n",
       "      <td>0.151582</td>\n",
       "      <td>0.151582</td>\n",
       "      <td>0.0</td>\n",
       "      <td>0.000000</td>\n",
       "      <td>0.151582</td>\n",
       "      <td>...</td>\n",
       "      <td>1.0</td>\n",
       "      <td>0.0</td>\n",
       "      <td>0.0</td>\n",
       "      <td>0.0</td>\n",
       "      <td>0.0</td>\n",
       "      <td>0.0</td>\n",
       "      <td>1.0</td>\n",
       "      <td>0.0</td>\n",
       "      <td>0.0</td>\n",
       "      <td>1.0</td>\n",
       "    </tr>\n",
       "    <tr>\n",
       "      <th>2</th>\n",
       "      <td>0.407407</td>\n",
       "      <td>0.323142</td>\n",
       "      <td>0.391293</td>\n",
       "      <td>0.0</td>\n",
       "      <td>0.000000</td>\n",
       "      <td>0.474844</td>\n",
       "      <td>0.000000</td>\n",
       "      <td>0.0</td>\n",
       "      <td>0.000000</td>\n",
       "      <td>0.000000</td>\n",
       "      <td>...</td>\n",
       "      <td>0.0</td>\n",
       "      <td>0.0</td>\n",
       "      <td>0.0</td>\n",
       "      <td>1.0</td>\n",
       "      <td>0.0</td>\n",
       "      <td>0.0</td>\n",
       "      <td>1.0</td>\n",
       "      <td>0.0</td>\n",
       "      <td>0.0</td>\n",
       "      <td>1.0</td>\n",
       "    </tr>\n",
       "    <tr>\n",
       "      <th>3</th>\n",
       "      <td>0.388889</td>\n",
       "      <td>0.237572</td>\n",
       "      <td>0.193166</td>\n",
       "      <td>0.0</td>\n",
       "      <td>0.000000</td>\n",
       "      <td>0.303913</td>\n",
       "      <td>0.303913</td>\n",
       "      <td>0.0</td>\n",
       "      <td>0.000000</td>\n",
       "      <td>0.303913</td>\n",
       "      <td>...</td>\n",
       "      <td>0.0</td>\n",
       "      <td>0.0</td>\n",
       "      <td>1.0</td>\n",
       "      <td>0.0</td>\n",
       "      <td>0.0</td>\n",
       "      <td>1.0</td>\n",
       "      <td>0.0</td>\n",
       "      <td>0.0</td>\n",
       "      <td>0.0</td>\n",
       "      <td>1.0</td>\n",
       "    </tr>\n",
       "    <tr>\n",
       "      <th>4</th>\n",
       "      <td>0.351852</td>\n",
       "      <td>0.237572</td>\n",
       "      <td>0.216209</td>\n",
       "      <td>0.0</td>\n",
       "      <td>0.555516</td>\n",
       "      <td>0.273031</td>\n",
       "      <td>0.290676</td>\n",
       "      <td>0.0</td>\n",
       "      <td>0.227088</td>\n",
       "      <td>0.273031</td>\n",
       "      <td>...</td>\n",
       "      <td>0.0</td>\n",
       "      <td>0.0</td>\n",
       "      <td>1.0</td>\n",
       "      <td>0.0</td>\n",
       "      <td>0.0</td>\n",
       "      <td>1.0</td>\n",
       "      <td>0.0</td>\n",
       "      <td>0.0</td>\n",
       "      <td>0.0</td>\n",
       "      <td>1.0</td>\n",
       "    </tr>\n",
       "    <tr>\n",
       "      <th>...</th>\n",
       "      <td>...</td>\n",
       "      <td>...</td>\n",
       "      <td>...</td>\n",
       "      <td>...</td>\n",
       "      <td>...</td>\n",
       "      <td>...</td>\n",
       "      <td>...</td>\n",
       "      <td>...</td>\n",
       "      <td>...</td>\n",
       "      <td>...</td>\n",
       "      <td>...</td>\n",
       "      <td>...</td>\n",
       "      <td>...</td>\n",
       "      <td>...</td>\n",
       "      <td>...</td>\n",
       "      <td>...</td>\n",
       "      <td>...</td>\n",
       "      <td>...</td>\n",
       "      <td>...</td>\n",
       "      <td>...</td>\n",
       "      <td>...</td>\n",
       "    </tr>\n",
       "    <tr>\n",
       "      <th>452</th>\n",
       "      <td>0.759259</td>\n",
       "      <td>0.351648</td>\n",
       "      <td>0.287548</td>\n",
       "      <td>0.0</td>\n",
       "      <td>0.000000</td>\n",
       "      <td>0.385340</td>\n",
       "      <td>0.385340</td>\n",
       "      <td>0.0</td>\n",
       "      <td>0.000000</td>\n",
       "      <td>0.385340</td>\n",
       "      <td>...</td>\n",
       "      <td>0.0</td>\n",
       "      <td>0.0</td>\n",
       "      <td>0.0</td>\n",
       "      <td>1.0</td>\n",
       "      <td>0.0</td>\n",
       "      <td>0.0</td>\n",
       "      <td>1.0</td>\n",
       "      <td>0.0</td>\n",
       "      <td>0.0</td>\n",
       "      <td>1.0</td>\n",
       "    </tr>\n",
       "    <tr>\n",
       "      <th>453</th>\n",
       "      <td>0.537037</td>\n",
       "      <td>0.351648</td>\n",
       "      <td>0.347769</td>\n",
       "      <td>0.0</td>\n",
       "      <td>0.000000</td>\n",
       "      <td>0.437295</td>\n",
       "      <td>0.274522</td>\n",
       "      <td>0.0</td>\n",
       "      <td>0.000000</td>\n",
       "      <td>0.274522</td>\n",
       "      <td>...</td>\n",
       "      <td>0.0</td>\n",
       "      <td>0.0</td>\n",
       "      <td>0.0</td>\n",
       "      <td>1.0</td>\n",
       "      <td>0.0</td>\n",
       "      <td>0.0</td>\n",
       "      <td>1.0</td>\n",
       "      <td>0.0</td>\n",
       "      <td>0.0</td>\n",
       "      <td>1.0</td>\n",
       "    </tr>\n",
       "    <tr>\n",
       "      <th>454</th>\n",
       "      <td>0.425926</td>\n",
       "      <td>0.181128</td>\n",
       "      <td>0.287548</td>\n",
       "      <td>0.0</td>\n",
       "      <td>0.000000</td>\n",
       "      <td>0.385340</td>\n",
       "      <td>0.000000</td>\n",
       "      <td>0.0</td>\n",
       "      <td>0.000000</td>\n",
       "      <td>0.000000</td>\n",
       "      <td>...</td>\n",
       "      <td>0.0</td>\n",
       "      <td>0.0</td>\n",
       "      <td>0.0</td>\n",
       "      <td>1.0</td>\n",
       "      <td>0.0</td>\n",
       "      <td>0.0</td>\n",
       "      <td>0.0</td>\n",
       "      <td>1.0</td>\n",
       "      <td>0.0</td>\n",
       "      <td>1.0</td>\n",
       "    </tr>\n",
       "    <tr>\n",
       "      <th>455</th>\n",
       "      <td>0.611111</td>\n",
       "      <td>0.181128</td>\n",
       "      <td>0.429637</td>\n",
       "      <td>0.0</td>\n",
       "      <td>0.000000</td>\n",
       "      <td>0.507925</td>\n",
       "      <td>0.507925</td>\n",
       "      <td>0.0</td>\n",
       "      <td>0.000000</td>\n",
       "      <td>0.507925</td>\n",
       "      <td>...</td>\n",
       "      <td>0.0</td>\n",
       "      <td>0.0</td>\n",
       "      <td>0.0</td>\n",
       "      <td>1.0</td>\n",
       "      <td>0.0</td>\n",
       "      <td>0.0</td>\n",
       "      <td>0.0</td>\n",
       "      <td>1.0</td>\n",
       "      <td>0.0</td>\n",
       "      <td>1.0</td>\n",
       "    </tr>\n",
       "    <tr>\n",
       "      <th>456</th>\n",
       "      <td>0.629630</td>\n",
       "      <td>0.181128</td>\n",
       "      <td>0.318198</td>\n",
       "      <td>0.0</td>\n",
       "      <td>0.000000</td>\n",
       "      <td>0.411782</td>\n",
       "      <td>0.411782</td>\n",
       "      <td>0.0</td>\n",
       "      <td>0.000000</td>\n",
       "      <td>0.411782</td>\n",
       "      <td>...</td>\n",
       "      <td>0.0</td>\n",
       "      <td>0.0</td>\n",
       "      <td>0.0</td>\n",
       "      <td>1.0</td>\n",
       "      <td>0.0</td>\n",
       "      <td>0.0</td>\n",
       "      <td>0.0</td>\n",
       "      <td>1.0</td>\n",
       "      <td>0.0</td>\n",
       "      <td>1.0</td>\n",
       "    </tr>\n",
       "  </tbody>\n",
       "</table>\n",
       "<p>457 rows × 25 columns</p>\n",
       "</div>"
      ],
      "text/plain": [
       "         age1      land     cvl00  cvl01     cvl02     cvl03     cvl10  cvl11  \\\n",
       "0    0.611111  0.323142  0.051218    0.0  0.205713  0.153416  0.181449    0.0   \n",
       "1    0.574074  0.323142  0.016600    0.0  0.000000  0.151582  0.151582    0.0   \n",
       "2    0.407407  0.323142  0.391293    0.0  0.000000  0.474844  0.000000    0.0   \n",
       "3    0.388889  0.237572  0.193166    0.0  0.000000  0.303913  0.303913    0.0   \n",
       "4    0.351852  0.237572  0.216209    0.0  0.555516  0.273031  0.290676    0.0   \n",
       "..        ...       ...       ...    ...       ...       ...       ...    ...   \n",
       "452  0.759259  0.351648  0.287548    0.0  0.000000  0.385340  0.385340    0.0   \n",
       "453  0.537037  0.351648  0.347769    0.0  0.000000  0.437295  0.274522    0.0   \n",
       "454  0.425926  0.181128  0.287548    0.0  0.000000  0.385340  0.000000    0.0   \n",
       "455  0.611111  0.181128  0.429637    0.0  0.000000  0.507925  0.507925    0.0   \n",
       "456  0.629630  0.181128  0.318198    0.0  0.000000  0.411782  0.411782    0.0   \n",
       "\n",
       "        cvl12     cvl13  ...    0    1    2    3    4    5    6    7    8    9  \n",
       "0    0.205713  0.153416  ...  1.0  0.0  0.0  0.0  0.0  0.0  1.0  0.0  0.0  1.0  \n",
       "1    0.000000  0.151582  ...  1.0  0.0  0.0  0.0  0.0  0.0  1.0  0.0  0.0  1.0  \n",
       "2    0.000000  0.000000  ...  0.0  0.0  0.0  1.0  0.0  0.0  1.0  0.0  0.0  1.0  \n",
       "3    0.000000  0.303913  ...  0.0  0.0  1.0  0.0  0.0  1.0  0.0  0.0  0.0  1.0  \n",
       "4    0.227088  0.273031  ...  0.0  0.0  1.0  0.0  0.0  1.0  0.0  0.0  0.0  1.0  \n",
       "..        ...       ...  ...  ...  ...  ...  ...  ...  ...  ...  ...  ...  ...  \n",
       "452  0.000000  0.385340  ...  0.0  0.0  0.0  1.0  0.0  0.0  1.0  0.0  0.0  1.0  \n",
       "453  0.000000  0.274522  ...  0.0  0.0  0.0  1.0  0.0  0.0  1.0  0.0  0.0  1.0  \n",
       "454  0.000000  0.000000  ...  0.0  0.0  0.0  1.0  0.0  0.0  0.0  1.0  0.0  1.0  \n",
       "455  0.000000  0.507925  ...  0.0  0.0  0.0  1.0  0.0  0.0  0.0  1.0  0.0  1.0  \n",
       "456  0.000000  0.411782  ...  0.0  0.0  0.0  1.0  0.0  0.0  0.0  1.0  0.0  1.0  \n",
       "\n",
       "[457 rows x 25 columns]"
      ]
     },
     "execution_count": 69,
     "metadata": {},
     "output_type": "execute_result"
    }
   ],
   "source": [
    "numeric_data_df = pd.DataFrame(X_scaled, columns=numerical_variables)\n",
    "onehot_data_df = pd.DataFrame(onehot.toarray())\n",
    "\n",
    "X_data_df = pd.concat([numeric_data_df , onehot_data_df], axis=1)\n",
    "X_data_df"
   ]
  },
  {
   "cell_type": "code",
   "execution_count": 70,
   "metadata": {},
   "outputs": [],
   "source": [
    "X_test = np.array(X_data_df)\n",
    "y_test = np.array(data['cony'])"
   ]
  },
  {
   "cell_type": "code",
   "execution_count": 71,
   "metadata": {},
   "outputs": [
    {
     "name": "stdout",
     "output_type": "stream",
     "text": [
      "[6.92933739 6.84348159 6.72485797 6.59888092 6.00428493 6.2282798\n",
      " 7.39716449 6.28837366 7.00982106 7.78025631]\n"
     ]
    }
   ],
   "source": [
    "ensemble = EnsembleRegressor(models, weights=optimal_weight)\n",
    "\n",
    "preds = ensemble.predict(X_test)\n",
    "print(preds[:10])"
   ]
  },
  {
   "cell_type": "code",
   "execution_count": 72,
   "metadata": {},
   "outputs": [
    {
     "name": "stdout",
     "output_type": "stream",
     "text": [
      "[1020.81669024  936.74831381  831.85368189  733.27301967  404.16116497\n",
      "  505.88279247 1630.35215557  537.27719551 1106.45631772 2391.88805493]\n",
      "[1143.33333333  851.30434783  378.85714286  805.47112462  392.83819629\n",
      "  550.         1568.18181818  602.48681236 1171.875      2809.33333333]\n"
     ]
    }
   ],
   "source": [
    "inverse_transformed_pred = np.expm1(preds)\n",
    "inverse_transformed_pred = np.where(inverse_transformed_pred < 0, 0, inverse_transformed_pred)\n",
    "inverse_transformed_y_test = np.expm1(y_test)\n",
    "\n",
    "print(inverse_transformed_pred[:10])\n",
    "print(inverse_transformed_y_test[:10])"
   ]
  },
  {
   "cell_type": "code",
   "execution_count": 73,
   "metadata": {},
   "outputs": [
    {
     "data": {
      "text/plain": [
       "541.7373200749496"
      ]
     },
     "execution_count": 73,
     "metadata": {},
     "output_type": "execute_result"
    }
   ],
   "source": [
    "print(np.sqrt(mean_squared_error(inverse_transformed_y_test, inverse_transformed_pred)))"
   ]
  },
  {
   "cell_type": "code",
   "execution_count": 74,
   "metadata": {},
   "outputs": [
    {
     "data": {
      "text/html": [
       "<div>\n",
       "<style scoped>\n",
       "    .dataframe tbody tr th:only-of-type {\n",
       "        vertical-align: middle;\n",
       "    }\n",
       "\n",
       "    .dataframe tbody tr th {\n",
       "        vertical-align: top;\n",
       "    }\n",
       "\n",
       "    .dataframe thead th {\n",
       "        text-align: right;\n",
       "    }\n",
       "</style>\n",
       "<table border=\"1\" class=\"dataframe\">\n",
       "  <thead>\n",
       "    <tr style=\"text-align: right;\">\n",
       "      <th></th>\n",
       "      <th>생산량</th>\n",
       "      <th>예측값</th>\n",
       "    </tr>\n",
       "  </thead>\n",
       "  <tbody>\n",
       "    <tr>\n",
       "      <th>0</th>\n",
       "      <td>1143.3</td>\n",
       "      <td>1020.8</td>\n",
       "    </tr>\n",
       "    <tr>\n",
       "      <th>1</th>\n",
       "      <td>851.3</td>\n",
       "      <td>936.7</td>\n",
       "    </tr>\n",
       "    <tr>\n",
       "      <th>2</th>\n",
       "      <td>378.9</td>\n",
       "      <td>831.9</td>\n",
       "    </tr>\n",
       "    <tr>\n",
       "      <th>3</th>\n",
       "      <td>805.5</td>\n",
       "      <td>733.3</td>\n",
       "    </tr>\n",
       "    <tr>\n",
       "      <th>4</th>\n",
       "      <td>392.8</td>\n",
       "      <td>404.2</td>\n",
       "    </tr>\n",
       "    <tr>\n",
       "      <th>5</th>\n",
       "      <td>550.0</td>\n",
       "      <td>505.9</td>\n",
       "    </tr>\n",
       "    <tr>\n",
       "      <th>6</th>\n",
       "      <td>1568.2</td>\n",
       "      <td>1630.4</td>\n",
       "    </tr>\n",
       "    <tr>\n",
       "      <th>7</th>\n",
       "      <td>602.5</td>\n",
       "      <td>537.3</td>\n",
       "    </tr>\n",
       "    <tr>\n",
       "      <th>8</th>\n",
       "      <td>1171.9</td>\n",
       "      <td>1106.5</td>\n",
       "    </tr>\n",
       "    <tr>\n",
       "      <th>9</th>\n",
       "      <td>2809.3</td>\n",
       "      <td>2391.9</td>\n",
       "    </tr>\n",
       "    <tr>\n",
       "      <th>10</th>\n",
       "      <td>1891.2</td>\n",
       "      <td>1733.6</td>\n",
       "    </tr>\n",
       "    <tr>\n",
       "      <th>11</th>\n",
       "      <td>1744.0</td>\n",
       "      <td>1911.1</td>\n",
       "    </tr>\n",
       "    <tr>\n",
       "      <th>12</th>\n",
       "      <td>887.5</td>\n",
       "      <td>1050.4</td>\n",
       "    </tr>\n",
       "    <tr>\n",
       "      <th>13</th>\n",
       "      <td>1131.3</td>\n",
       "      <td>1306.8</td>\n",
       "    </tr>\n",
       "    <tr>\n",
       "      <th>14</th>\n",
       "      <td>3500.0</td>\n",
       "      <td>2334.3</td>\n",
       "    </tr>\n",
       "    <tr>\n",
       "      <th>15</th>\n",
       "      <td>2352.9</td>\n",
       "      <td>1926.1</td>\n",
       "    </tr>\n",
       "    <tr>\n",
       "      <th>16</th>\n",
       "      <td>2800.0</td>\n",
       "      <td>2391.8</td>\n",
       "    </tr>\n",
       "    <tr>\n",
       "      <th>17</th>\n",
       "      <td>2903.2</td>\n",
       "      <td>2127.8</td>\n",
       "    </tr>\n",
       "    <tr>\n",
       "      <th>18</th>\n",
       "      <td>640.0</td>\n",
       "      <td>747.0</td>\n",
       "    </tr>\n",
       "    <tr>\n",
       "      <th>19</th>\n",
       "      <td>1400.0</td>\n",
       "      <td>1269.7</td>\n",
       "    </tr>\n",
       "    <tr>\n",
       "      <th>20</th>\n",
       "      <td>2793.3</td>\n",
       "      <td>2302.1</td>\n",
       "    </tr>\n",
       "    <tr>\n",
       "      <th>21</th>\n",
       "      <td>525.0</td>\n",
       "      <td>1390.7</td>\n",
       "    </tr>\n",
       "    <tr>\n",
       "      <th>22</th>\n",
       "      <td>1977.2</td>\n",
       "      <td>1768.2</td>\n",
       "    </tr>\n",
       "    <tr>\n",
       "      <th>23</th>\n",
       "      <td>1084.2</td>\n",
       "      <td>1166.4</td>\n",
       "    </tr>\n",
       "    <tr>\n",
       "      <th>24</th>\n",
       "      <td>1512.0</td>\n",
       "      <td>1372.9</td>\n",
       "    </tr>\n",
       "    <tr>\n",
       "      <th>25</th>\n",
       "      <td>163.0</td>\n",
       "      <td>348.7</td>\n",
       "    </tr>\n",
       "    <tr>\n",
       "      <th>26</th>\n",
       "      <td>1440.0</td>\n",
       "      <td>1338.4</td>\n",
       "    </tr>\n",
       "    <tr>\n",
       "      <th>27</th>\n",
       "      <td>1010.1</td>\n",
       "      <td>821.5</td>\n",
       "    </tr>\n",
       "    <tr>\n",
       "      <th>28</th>\n",
       "      <td>3000.0</td>\n",
       "      <td>2514.5</td>\n",
       "    </tr>\n",
       "    <tr>\n",
       "      <th>29</th>\n",
       "      <td>1333.3</td>\n",
       "      <td>1347.4</td>\n",
       "    </tr>\n",
       "  </tbody>\n",
       "</table>\n",
       "</div>"
      ],
      "text/plain": [
       "       생산량     예측값\n",
       "0   1143.3  1020.8\n",
       "1    851.3   936.7\n",
       "2    378.9   831.9\n",
       "3    805.5   733.3\n",
       "4    392.8   404.2\n",
       "5    550.0   505.9\n",
       "6   1568.2  1630.4\n",
       "7    602.5   537.3\n",
       "8   1171.9  1106.5\n",
       "9   2809.3  2391.9\n",
       "10  1891.2  1733.6\n",
       "11  1744.0  1911.1\n",
       "12   887.5  1050.4\n",
       "13  1131.3  1306.8\n",
       "14  3500.0  2334.3\n",
       "15  2352.9  1926.1\n",
       "16  2800.0  2391.8\n",
       "17  2903.2  2127.8\n",
       "18   640.0   747.0\n",
       "19  1400.0  1269.7\n",
       "20  2793.3  2302.1\n",
       "21   525.0  1390.7\n",
       "22  1977.2  1768.2\n",
       "23  1084.2  1166.4\n",
       "24  1512.0  1372.9\n",
       "25   163.0   348.7\n",
       "26  1440.0  1338.4\n",
       "27  1010.1   821.5\n",
       "28  3000.0  2514.5\n",
       "29  1333.3  1347.4"
      ]
     },
     "execution_count": 74,
     "metadata": {},
     "output_type": "execute_result"
    }
   ],
   "source": [
    "inverse_transformed_pred = pd.Series(np.round(inverse_transformed_pred,1), name='예측값')\n",
    "inverse_transformed_y_test= pd.Series(np.round(inverse_transformed_y_test,1), name='생산량')\n",
    "result = pd.concat([inverse_transformed_y_test, inverse_transformed_pred], axis=1)\n",
    "result[:30]"
   ]
  },
  {
   "cell_type": "code",
   "execution_count": null,
   "metadata": {},
   "outputs": [],
   "source": []
  }
 ],
 "metadata": {
  "kernelspec": {
   "display_name": "Python 3",
   "language": "python",
   "name": "python3"
  },
  "language_info": {
   "codemirror_mode": {
    "name": "ipython",
    "version": 3
   },
   "file_extension": ".py",
   "mimetype": "text/x-python",
   "name": "python",
   "nbconvert_exporter": "python",
   "pygments_lexer": "ipython3",
   "version": "3.8.5"
  }
 },
 "nbformat": 4,
 "nbformat_minor": 4
}
